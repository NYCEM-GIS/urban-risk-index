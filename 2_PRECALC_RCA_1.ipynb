{
 "cells": [
  {
   "cell_type": "markdown",
   "metadata": {
    "collapsed": true,
    "pycharm": {
     "is_executing": false,
     "name": "#%% md\n"
    }
   },
   "source": [
    "# Preprocessing - Resilience Capacity"
   ]
  },
  {
   "cell_type": "markdown",
   "metadata": {},
   "source": [
    "## Settings"
   ]
  },
  {
   "cell_type": "code",
   "execution_count": null,
   "metadata": {},
   "outputs": [],
   "source": [
    "import URI.MISC.utils_1 as utils\n",
    "utils.set_home()\n",
    "import warnings\n",
    "import datetime\n",
    "warnings.filterwarnings(action='ignore')\n",
    "\n",
    "#define factors to run\n",
    "run_all = True\n",
    "\n",
    "#community capital\n",
    "run_CC_CI = True    #community infrastructure\n",
    "run_CC_EO = True     #education and outreach\n",
    "run_CC_PA = True     #place attachment\n",
    "run_CC_PE = True     #political engagement\n",
    "\n",
    "#mitigation landscape\n",
    "run_ML_MI = True     #mitigation investments\n",
    "run_ML_VC = True     #vegetative cover\n",
    "run_ML_PW = True     #park with water features\n",
    "run_ML_NS = True     #presence of natural shoreline\n",
    "run_ML_GI = True    #presence of green infrastructure\n",
    "\n",
    "#response capacity\n",
    "run_RC_EM = True    #emergency medical access\n",
    "run_RC_WA = True     #walkability\n",
    "run_RC_BI = True     #bikability\n",
    "run_RC_TR = True     #transit\n",
    "run_RC_SC = True     #shelter capacity\n",
    "run_RC_EP = True     #evacluation capacity\n",
    "run_RC_AC = True    #air conditioning in the home\n",
    "run_RC_IN = True     #institutional experience\n",
    "run_RC_CC = True     #cooling centers\n",
    "\n",
    "#Recovery Resources\n",
    "run_RR_MH = True     #median household income\n",
    "run_RR_HI = True     #health insurance coverage\n",
    "run_RR_IE = True     #income inequality\n",
    "run_RR_FP = True     #flood insurance coverage\n",
    "run_RR_HO = True     #home ownership\n"
   ]
  },
  {
   "cell_type": "markdown",
   "metadata": {
    "pycharm": {
     "is_executing": false,
     "name": "#%% md\n"
    }
   },
   "source": [
    "## 1. Community Capital"
   ]
  },
  {
   "cell_type": "code",
   "execution_count": null,
   "metadata": {},
   "outputs": [],
   "source": [
    "if (run_all or run_CC_CI):\n",
    "    print(\"{} Pre-processing Community Infrastructure.....\".format(datetime.datetime.now().strftime(\"%H:%M\")))\n",
    "    %run ./4_CODE/URI/DATA_PROCESSING/RCA_CC_CI_read_1.py\n",
    "\n",
    "if (run_all or run_CC_EO):\n",
    "    print(\"{} Pre-processing Education and Outreach.....\".format(datetime.datetime.now().strftime(\"%H:%M\")))\n",
    "    %run ./4_CODE/URI/DATA_PROCESSING/RCA_CC_EO_read_1.py\n",
    "\n",
    "if (run_all or run_CC_PA):\n",
    "    print(\"{} Pre-process Place Attachment.....\".format(datetime.datetime.now().strftime(\"%H:%M\")))\n",
    "    %run ./4_CODE/URI/DATA_PROCESSING/RCA_CC_PA_read_1.py\n",
    "\n",
    "if (run_all or run_CC_PE):\n",
    "    print(\"{} Pre-process Political Engagement.....\".format(datetime.datetime.now().strftime(\"%H:%M\")))\n",
    "    %run ./4_CODE/URI/DATA_PROCESSING/RCA_CC_PE_read_1.py\n"
   ]
  },
  {
   "cell_type": "markdown",
   "metadata": {},
   "source": [
    "## 2. Mitigation Landscape"
   ]
  },
  {
   "cell_type": "code",
   "execution_count": null,
   "metadata": {
    "pycharm": {
     "is_executing": false,
     "name": "#%%\n"
    }
   },
   "outputs": [],
   "source": [
    "if (run_all or run_ML_MI): \n",
    "    print(\"{} Pre-processing Mitigation Investments.....\".format(datetime.datetime.now().strftime(\"%H:%M\")))\n",
    "    %run ./4_CODE/URI/DATA_PROCESSING/RCA_ML_MI_read_1.py\n",
    "    \n",
    "if (run_all or run_ML_VC):\n",
    "    print(\"{} Pre-processing Vegetative Cover.....\".format(datetime.datetime.now().strftime(\"%H:%M\")))\n",
    "    %run ./4_CODE/URI/DATA_PROCESSING/RCA_ML_VC_read_1.py\n",
    "\n",
    "if (run_all or run_ML_PW):\n",
    "    print(\"{} Pre-process Parks with Water Features.....\".format(datetime.datetime.now().strftime(\"%H:%M\")))\n",
    "    %run ./4_CODE/URI/DATA_PROCESSING/RCA_ML_PW_read_1.py\n",
    "\n",
    "if (run_all or run_ML_NS):\n",
    "    print(\"{} Pre-process Presence of Natural Shoreline.....\".format(datetime.datetime.now().strftime(\"%H:%M\")))\n",
    "    %run ./4_CODE/URI/DATA_PROCESSING/RCA_ML_NS_read_1.py\n",
    "\n",
    "if (run_all or run_ML_GI):\n",
    "    print(\"{} Pre-process Presence of Green Infrastructure.....\".format(datetime.datetime.now().strftime(\"%H:%M\")))\n",
    "    %run ./4_CODE/URI/DATA_PROCESSING/RCA_ML_GI_read_1.py\n",
    "    "
   ]
  },
  {
   "cell_type": "markdown",
   "metadata": {},
   "source": [
    "## 3. Response Capacity"
   ]
  },
  {
   "cell_type": "code",
   "execution_count": null,
   "metadata": {
    "pycharm": {
     "is_executing": false,
     "name": "#%%\n"
    }
   },
   "outputs": [],
   "source": [
    "if (run_all or run_RC_EM):\n",
    "    print(\"{} Pre-processing Emergency Medical Access.....\".format(datetime.datetime.now().strftime(\"%H:%M\")))\n",
    "    %run ./4_CODE/URI/DATA_PROCESSING/RCA_RC_EM_read_1.py\n",
    "\n",
    "if (run_all or run_RC_WA):\n",
    "    print(\"{} Pre-processing Walkability....\".format(datetime.datetime.now().strftime(\"%H:%M\")))\n",
    "    %run ./4_CODE/URI/DATA_PROCESSING/RCA_RC_WA_read_1.py\n",
    "\n",
    "if (run_all or run_RC_BI):\n",
    "    print(\"{} Pre-process Parks with Bikability.....\".format(datetime.datetime.now().strftime(\"%H:%M\")))\n",
    "    %run ./4_CODE/URI/DATA_PROCESSING/RCA_RC_BI_read_1.py\n",
    "\n",
    "if (run_all or run_RC_TR):\n",
    "    print(\"{} Pre-process Transit.....\".format(datetime.datetime.now().strftime(\"%H:%M\")))\n",
    "    %run ./4_CODE/URI/DATA_PROCESSING/RCA_RC_TR_read_1.py\n",
    "\n",
    "if (run_all or run_RC_SC):\n",
    "    print(\"{} Pre-process Shelter Capacity.....\".format(datetime.datetime.now().strftime(\"%H:%M\")))\n",
    "    %run ./4_CODE/URI/DATA_PROCESSING/RCA_RC_SC_read_1.py\n",
    "\n",
    "if (run_all or run_RC_EP):\n",
    "    print(\"{} Pre-process Evacuation Potential.....\".format(datetime.datetime.now().strftime(\"%H:%M\")))\n",
    "    %run ./4_CODE/URI/DATA_PROCESSING/RCA_RC_EP_read_1.py\n",
    "\n",
    "if (run_all or run_RC_AC):\n",
    "    print(\"{} Pre-process Air Conditioning in the Home.....\".format(datetime.datetime.now().strftime(\"%H:%M\")))\n",
    "    %run ./4_CODE/URI/DATA_PROCESSING/RCA_RC_AC_read_1.py\n",
    "\n",
    "if (run_all or run_RC_IN):\n",
    "    print(\"{} Pre-process Institutional Experience.....\".format(datetime.datetime.now().strftime(\"%H:%M\")))\n",
    "    %run ./4_CODE/URI/DATA_PROCESSING/RCA_RC_IN_read_1.py\n",
    "\n",
    "if (run_all or run_RC_CC):\n",
    "    print(\"{} Pre-process Cooling Centers.....\".format(datetime.datetime.now().strftime(\"%H:%M\")))\n",
    "    %run ./4_CODE/URI/DATA_PROCESSING/RCA_RC_CC_read_1.py\n"
   ]
  },
  {
   "cell_type": "markdown",
   "metadata": {},
   "source": [
    "## 4. Recovery Resources"
   ]
  },
  {
   "cell_type": "code",
   "execution_count": null,
   "metadata": {
    "pycharm": {
     "is_executing": false,
     "name": "#%%\n"
    }
   },
   "outputs": [],
   "source": [
    "if (run_all or run_RR_MH):\n",
    "    print(\"{} Pre-processing Median Household Income.....\".format(datetime.datetime.now().strftime(\"%H:%M\")))\n",
    "    %run ./4_CODE/URI/DATA_PROCESSING/RCA_RR_MH_read_1.py\n",
    "\n",
    "if (run_all or run_RR_MH):\n",
    "    print(\"{} Pre-processing Health Insurance Coverage....\".format(datetime.datetime.now().strftime(\"%H:%M\")))\n",
    "    %run ./4_CODE/URI/DATA_PROCESSING/RCA_RR_HI_read_1.py\n",
    "\n",
    "if (run_all or run_RR_MH):\n",
    "    print(\"{} Pre-process Income Inequality.....\".format(datetime.datetime.now().strftime(\"%H:%M\")))\n",
    "    %run ./4_CODE/URI/DATA_PROCESSING/RCA_RR_IE_read_1.py\n",
    "\n",
    "if (run_all or run_RR_MH):\n",
    "    print(\"{} Pre-process Flood Insurance Coverage.....\".format(datetime.datetime.now().strftime(\"%H:%M\")))\n",
    "    %run ./4_CODE/URI/DATA_PROCESSING/RCA_RR_FP_read_1.py\n",
    "\n",
    "if (run_all or run_RR_MH):\n",
    "    print(\"{} Pre-process Home Ownership.....\".format(datetime.datetime.now().strftime(\"%H:%M\")))\n",
    "    %run ./4_CODE/URI/DATA_PROCESSING/RCA_RR_HO_read_1.py\n"
   ]
  },
  {
   "cell_type": "code",
   "execution_count": null,
   "metadata": {
    "pycharm": {
     "is_executing": false,
     "name": "#%% \n"
    }
   },
   "outputs": [],
   "source": [
    "print(\"{} Complete\".format(datetime.datetime.now().strftime(\"%H:%M\")))\n"
   ]
  }
 ],
 "metadata": {
  "kernelspec": {
   "display_name": "Python 3 (ipykernel)",
   "language": "python",
   "name": "python3"
  },
  "language_info": {
   "codemirror_mode": {
    "name": "ipython",
    "version": 3
   },
   "file_extension": ".py",
   "mimetype": "text/x-python",
   "name": "python",
   "nbconvert_exporter": "python",
   "pygments_lexer": "ipython3",
   "version": "3.7.7"
  },
  "pycharm": {
   "stem_cell": {
    "cell_type": "raw",
    "metadata": {
     "collapsed": false
    },
    "source": []
   }
  }
 },
 "nbformat": 4,
 "nbformat_minor": 1
}

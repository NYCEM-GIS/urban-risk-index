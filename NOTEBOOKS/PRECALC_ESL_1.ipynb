{
 "cells": [
  {
   "cell_type": "markdown",
   "metadata": {
    "collapsed": true,
    "pycharm": {
     "name": "#%% md\n"
    }
   },
   "source": [
    "# ESL Preprocessing"
   ]
  },
  {
   "cell_type": "markdown",
   "source": [
    "## 1. Coastal Erosion"
   ],
   "metadata": {
    "collapsed": false
   }
  },
  {
   "cell_type": "code",
   "source": [
    "from MISC import utils_1 as utils\n",
    "utils.set_home()\n",
    "import warnings\n",
    "import datetime\n",
    "warnings.filterwarnings(action='once')\n",
    "\n",
    "print(\"{} Pre-processing CER ecosystem loss.....\".format(datetime.datetime.now().strftime(\"%H:%M\")))\n",
    "%run ./4_CODE/DATA_PROCESSING/ESL_CER_ecosystem_loss_1.py"
   ],
   "metadata": {
    "collapsed": false,
    "pycharm": {
     "name": "#%%\n",
     "is_executing": false
    }
   },
   "execution_count": 1,
   "outputs": [
    {
     "name": "stdout",
     "text": [
      "23:11 Pre-processing CER ecosystem loss.....\n",
      "Finished calculating CER ecosystem loss.\n"
     ],
     "output_type": "stream"
    }
   ]
  },
  {
   "cell_type": "markdown",
   "source": [
    "## 2. Chemical, Biological, Radiological, and Nuclear"
   ],
   "metadata": {
    "collapsed": false,
    "pycharm": {
     "name": "#%% md\n"
    }
   }
  },
  {
   "cell_type": "code",
   "execution_count": 2,
   "outputs": [
    {
     "name": "stdout",
     "text": [
      "23:11 Pre-processing CRN death loss.....\n",
      "Finished calculating CRN loss due to deaths.\n23:11 Pre-processing CRN injury loss.....\n",
      "Finished calculating CRN loss due to injury.\n"
     ],
     "output_type": "stream"
    },
    {
     "name": "stderr",
     "text": [
      "c:\\programdata\\anaconda3\\envs\\geo-env\\lib\\site-packages\\xlrd\\xlsx.py:266: PendingDeprecationWarning: This method will be removed in future versions.  Use 'tree.iter()' or 'list(tree.iter())' instead.\n  for elem in self.tree.iter() if Element_has_iter else self.tree.getiterator():\n"
     ],
     "output_type": "stream"
    }
   ],
   "source": [
    "print(\"{} Pre-processing CRN death loss.....\".format(datetime.datetime.now().strftime(\"%H:%M\")))\n",
    "%run ./4_CODE/DATA_PROCESSING/ESL_CRN_death_loss_1.py\n",
    "\n",
    "print(\"{} Pre-processing CRN injury loss.....\".format(datetime.datetime.now().strftime(\"%H:%M\")))\n",
    "%run ./4_CODE/DATA_PROCESSING/ESL_CRN_injury_loss_1.py\n"
   ],
   "metadata": {
    "collapsed": false,
    "pycharm": {
     "name": "#%%\n",
     "is_executing": false
    }
   }
  },
  {
   "cell_type": "markdown",
   "source": [
    "## 3. Coastal Storms, Flooding, and High Winds"
   ],
   "metadata": {
    "collapsed": false
   }
  },
  {
   "cell_type": "code",
   "execution_count": 3,
   "outputs": [
    {
     "name": "stdout",
     "text": [
      "23:11 Pre-processing FLD/CST flood property loss.....\n",
      "Finished calculating FLD Hazus loss.\n23:11 Pre-processing CST death loss.....\n",
      "Finished calculating CST death loss.\n23:11 Pre-processing CST/FLD flooding dislocation loss.....\n",
      "Finished calculating CST dislocation Loss.\n23:25 Pre-processing CST infrastructure repair loss.....\n",
      "Finished calculating CST dot loss.\n23:25 Pre-processing CST/HIW wind damage loss loss.....\n",
      "Finished calculating CST Hazus loss.\n23:25 Pre-processing CST tree service loss.....\n",
      "Finished calculating CST loss due to tree servicing.\n"
     ],
     "output_type": "stream"
    },
    {
     "name": "stderr",
     "text": [
      "c:\\programdata\\anaconda3\\envs\\geo-env\\lib\\site-packages\\rasterstats\\io.py:24: DeprecationWarning: Using or importing the ABCs from 'collections' instead of from 'collections.abc' is deprecated since Python 3.3,and in 3.9 it will stop working\n  from collections import Iterable, Mapping\n",
      "c:\\programdata\\anaconda3\\envs\\geo-env\\lib\\site-packages\\xlrd\\xlsx.py:266: PendingDeprecationWarning: This method will be removed in future versions.  Use 'tree.iter()' or 'list(tree.iter())' instead.\n  for elem in self.tree.iter() if Element_has_iter else self.tree.getiterator():\n",
      "c:\\programdata\\anaconda3\\envs\\geo-env\\lib\\site-packages\\xlrd\\xlsx.py:266: PendingDeprecationWarning: This method will be removed in future versions.  Use 'tree.iter()' or 'list(tree.iter())' instead.\n  for elem in self.tree.iter() if Element_has_iter else self.tree.getiterator():\n"
     ],
     "output_type": "stream"
    }
   ],
   "source": [
    "print(\"{} Pre-processing FLD/CST flood property loss.....\".format(datetime.datetime.now().strftime(\"%H:%M\")))\n",
    "%run ./4_CODE/DATA_PROCESSING/ESL_FLD_hazus_1.py\n",
    "\n",
    "print(\"{} Pre-processing CST death loss.....\".format(datetime.datetime.now().strftime(\"%H:%M\")))\n",
    "%run ./4_CODE/DATA_PROCESSING/ESL_CST_death_1.py\n",
    "\n",
    "print(\"{} Pre-processing CST/FLD flooding dislocation loss.....\".format(datetime.datetime.now().strftime(\"%H:%M\")))\n",
    "%run ./4_CODE/DATA_PROCESSING/ESL_CST_dislocation_1.py\n",
    "\n",
    "print(\"{} Pre-processing CST infrastructure repair loss.....\".format(datetime.datetime.now().strftime(\"%H:%M\")))\n",
    "%run ./4_CODE/DATA_PROCESSING/ESL_CST_dot_loss_1.py\n",
    "\n",
    "print(\"{} Pre-processing CST/HIW wind damage loss loss.....\".format(datetime.datetime.now().strftime(\"%H:%M\")))\n",
    "%run ./4_CODE/DATA_PROCESSING/ESL_CST_hazus_1.py\n",
    "\n",
    "print(\"{} Pre-processing CST tree service loss.....\".format(datetime.datetime.now().strftime(\"%H:%M\")))\n",
    "%run ./4_CODE/DATA_PROCESSING/ESL_CST_tree_loss_1.py"
   ],
   "metadata": {
    "collapsed": false,
    "pycharm": {
     "name": "#%%\n",
     "is_executing": false
    }
   }
  },
  {
   "cell_type": "markdown",
   "source": [
    "## 4. Cyber Threat"
   ],
   "metadata": {
    "collapsed": false
   }
  },
  {
   "cell_type": "code",
   "execution_count": 4,
   "outputs": [
    {
     "name": "stdout",
     "text": [
      "23:26 Pre-processing CYB economic loss.....\n",
      "Finished calculating CYB loss due to economic losses.\n"
     ],
     "output_type": "stream"
    },
    {
     "name": "stderr",
     "text": [
      "c:\\programdata\\anaconda3\\envs\\geo-env\\lib\\site-packages\\xlrd\\xlsx.py:266: PendingDeprecationWarning: This method will be removed in future versions.  Use 'tree.iter()' or 'list(tree.iter())' instead.\n  for elem in self.tree.iter() if Element_has_iter else self.tree.getiterator():\n"
     ],
     "output_type": "stream"
    }
   ],
   "source": [
    "print(\"{} Pre-processing CYB economic loss.....\".format(datetime.datetime.now().strftime(\"%H:%M\")))\n",
    "%run ./4_CODE/DATA_PROCESSING/ESL_CYB_econ_loss_1.py\n"
   ],
   "metadata": {
    "collapsed": false,
    "pycharm": {
     "name": "#%%\n",
     "is_executing": false
    }
   }
  },
  {
   "cell_type": "markdown",
   "source": [
    "## 5. Emerging Diseases"
   ],
   "metadata": {
    "collapsed": false
   }
  },
  {
   "cell_type": "code",
   "execution_count": 5,
   "outputs": [
    {
     "name": "stdout",
     "text": [
      "23:26 Pre-processing EMG death loss.....\n",
      "Finished calculating EMG loss.\n"
     ],
     "output_type": "stream"
    }
   ],
   "source": [
    "print(\"{} Pre-processing EMG death loss.....\".format(datetime.datetime.now().strftime(\"%H:%M\")))\n",
    "%run ./4_CODE/DATA_PROCESSING/ESL_EMG_loss_1.py\n"
   ],
   "metadata": {
    "collapsed": false,
    "pycharm": {
     "name": "#%%\n",
     "is_executing": false
    }
   }
  },
  {
   "cell_type": "markdown",
   "source": [
    "## 6. Earthquake"
   ],
   "metadata": {
    "collapsed": false
   }
  },
  {
   "cell_type": "code",
   "execution_count": 6,
   "outputs": [
    {
     "name": "stdout",
     "text": [
      "23:26 Pre-processing ERQ loss.....\n",
      "Finished calculating ERQ Hazus loss.\n"
     ],
     "output_type": "stream"
    }
   ],
   "source": [
    "print(\"{} Pre-processing ERQ loss.....\".format(datetime.datetime.now().strftime(\"%H:%M\")))\n",
    "%run ./4_CODE/DATA_PROCESSING/ESL_ERQ_hazus_1.py"
   ],
   "metadata": {
    "collapsed": false,
    "pycharm": {
     "name": "#%%\n",
     "is_executing": false
    }
   }
  },
  {
   "cell_type": "markdown",
   "source": [
    "## 7. Extreme Heat"
   ],
   "metadata": {
    "collapsed": false
   }
  },
  {
   "cell_type": "code",
   "execution_count": 7,
   "outputs": [
    {
     "name": "stdout",
     "text": [
      "23:26 Pre-processing EXH death loss.....\n",
      "Finished calculating EXH loss due to excess deaths.\n23:26 Pre-processing EXH injury loss.....\n",
      "Finished calculating EXH injury loss.\n23:26 Pre-processing EXH power outage loss.....\n",
      "Finished calculating ESL for extreme heat due to power outage.\n"
     ],
     "output_type": "stream"
    },
    {
     "name": "stderr",
     "text": [
      "c:\\programdata\\anaconda3\\envs\\geo-env\\lib\\site-packages\\xlrd\\xlsx.py:266: PendingDeprecationWarning: This method will be removed in future versions.  Use 'tree.iter()' or 'list(tree.iter())' instead.\n  for elem in self.tree.iter() if Element_has_iter else self.tree.getiterator():\n"
     ],
     "output_type": "stream"
    }
   ],
   "source": [
    "print(\"{} Pre-processing EXH death loss.....\".format(datetime.datetime.now().strftime(\"%H:%M\")))\n",
    "%run ./4_CODE/DATA_PROCESSING/ESL_EXH_death_loss_1.py\n",
    "\n",
    "print(\"{} Pre-processing EXH injury loss.....\".format(datetime.datetime.now().strftime(\"%H:%M\")))\n",
    "%run ./4_CODE/DATA_PROCESSING/ESL_EXH_injury_loss_1.py\n",
    "\n",
    "print(\"{} Pre-processing EXH power outage loss.....\".format(datetime.datetime.now().strftime(\"%H:%M\")))\n",
    "%run ./4_CODE/DATA_PROCESSING/ESL_EXH_power_loss_1.py"
   ],
   "metadata": {
    "collapsed": false,
    "pycharm": {
     "name": "#%%\n",
     "is_executing": false
    }
   }
  },
  {
   "cell_type": "markdown",
   "source": [
    "## 8. Respiratory Diseases"
   ],
   "metadata": {
    "collapsed": false
   }
  },
  {
   "cell_type": "code",
   "execution_count": 8,
   "outputs": [
    {
     "name": "stdout",
     "text": [
      "23:27 Pre-processing RES death and injury loss.....\n",
      "Finished calculating RES loss.\n"
     ],
     "output_type": "stream"
    }
   ],
   "source": [
    "print(\"{} Pre-processing RES death and injury loss.....\".format(datetime.datetime.now().strftime(\"%H:%M\")))\n",
    "%run ./4_CODE/DATA_PROCESSING/ESL_RES_loss_1.py"
   ],
   "metadata": {
    "collapsed": false,
    "pycharm": {
     "name": "#%%\n",
     "is_executing": false
    }
   }
  },
  {
   "cell_type": "markdown",
   "source": [
    "## 9. Winter Weather"
   ],
   "metadata": {
    "collapsed": false
   }
  },
  {
   "cell_type": "code",
   "execution_count": 9,
   "outputs": [
    {
     "name": "stdout",
     "text": [
      "23:28 Pre-processing WIW death loss.....\n",
      "Finished calculating WIW death loss.\n23:29 Pre-processing WIW injury loss.....\n",
      "Finished calculating WIW injury loss.\n23:29 Pre-processing WIW snow removal loss.....\n",
      "Finished calculating  ESL WIW snow loss.\n23:29 Pre-processing WIW tree servicing loss.....\n",
      "Finished calculating CST loss due to tree servicing.\n"
     ],
     "output_type": "stream"
    },
    {
     "name": "stderr",
     "text": [
      "c:\\programdata\\anaconda3\\envs\\geo-env\\lib\\site-packages\\xlrd\\xlsx.py:266: PendingDeprecationWarning: This method will be removed in future versions.  Use 'tree.iter()' or 'list(tree.iter())' instead.\n  for elem in self.tree.iter() if Element_has_iter else self.tree.getiterator():\n",
      "c:\\programdata\\anaconda3\\envs\\geo-env\\lib\\site-packages\\xlrd\\xlsx.py:266: PendingDeprecationWarning: This method will be removed in future versions.  Use 'tree.iter()' or 'list(tree.iter())' instead.\n  for elem in self.tree.iter() if Element_has_iter else self.tree.getiterator():\n"
     ],
     "output_type": "stream"
    }
   ],
   "source": [
    "print(\"{} Pre-processing WIW death loss.....\".format(datetime.datetime.now().strftime(\"%H:%M\")))\n",
    "%run ./4_CODE/DATA_PROCESSING/ESL_WIW_loss_death_1.py\n",
    "\n",
    "print(\"{} Pre-processing WIW injury loss.....\".format(datetime.datetime.now().strftime(\"%H:%M\")))\n",
    "%run ./4_CODE/DATA_PROCESSING/ESL_WIW_loss_injury_1.py\n",
    "\n",
    "print(\"{} Pre-processing WIW snow removal loss.....\".format(datetime.datetime.now().strftime(\"%H:%M\")))\n",
    "%run ./4_CODE/DATA_PROCESSING/ESL_WIW_loss_snow_1.py\n",
    "\n",
    "print(\"{} Pre-processing WIW tree servicing loss.....\".format(datetime.datetime.now().strftime(\"%H:%M\")))\n",
    "%run ./4_CODE/DATA_PROCESSING/ESL_WIW_tree_loss_1.py"
   ],
   "metadata": {
    "collapsed": false,
    "pycharm": {
     "name": "#%%\n",
     "is_executing": false
    }
   }
  },
  {
   "cell_type": "code",
   "execution_count": 10,
   "outputs": [
    {
     "name": "stdout",
     "text": [
      "Complete\n"
     ],
     "output_type": "stream"
    }
   ],
   "source": [
    "print(\"Complete\".format(datetime.datetime.now().strftime(\"%H:%M\")))\n"
   ],
   "metadata": {
    "collapsed": false,
    "pycharm": {
     "name": "#%%\n",
     "is_executing": false
    }
   }
  }
 ],
 "metadata": {
  "kernelspec": {
   "display_name": "Python 3",
   "language": "python",
   "name": "python3"
  },
  "language_info": {
   "codemirror_mode": {
    "name": "ipython",
    "version": 2
   },
   "file_extension": ".py",
   "mimetype": "text/x-python",
   "name": "python",
   "nbconvert_exporter": "python",
   "pygments_lexer": "ipython2",
   "version": "2.7.6"
  },
  "pycharm": {
   "stem_cell": {
    "cell_type": "raw",
    "source": [],
    "metadata": {
     "collapsed": false
    }
   }
  }
 },
 "nbformat": 4,
 "nbformat_minor": 0
}
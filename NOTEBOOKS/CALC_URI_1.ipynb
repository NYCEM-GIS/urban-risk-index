{
 "cells": [
  {
   "cell_type": "markdown",
   "source": [
    "# Run all Hazards\n",
    "This notebook runs the jupyter notebook for all 11 hazards."
   ],
   "metadata": {
    "collapsed": false
   }
  },
  {
   "cell_type": "markdown",
   "source": [
    "## Import Packages"
   ],
   "metadata": {
    "collapsed": false
   }
  },
  {
   "cell_type": "code",
   "execution_count": 1,
   "outputs": [],
   "source": [
    "from MISC import utils_1 as utils\n",
    "from MISC import params_1 as params\n",
    "from CALCULATE import ESL_Calculate_1 as ESL_Calculate\n",
    "from CALCULATE import SOV_Calculate_1 as SOV_Calculate\n",
    "from CALCULATE import RCA_Calculate_1 as RCA_calculate\n",
    "from CALCULATE import URI_Calculate_1 as URI_Calculate\n",
    "from CALCULATE import ALL_Calculate_1 as ALL_Calculate\n",
    "from CALCULATE import UPSCALE_Calculate_1 as UPSCALE_Calculate\n",
    "from CALCULATE import ABS_Calculate_1 as ABS_Calculate\n",
    "utils.set_home()\n",
    "import warnings\n",
    "warnings.filterwarnings(action='once')\n",
    "\n",
    "%load_ext autoreload\n",
    "%autoreload 2"
   ],
   "metadata": {
    "collapsed": false,
    "pycharm": {
     "name": "#%%\n",
     "is_executing": false
    }
   }
  },
  {
   "cell_type": "markdown",
   "source": [
    "## Run Settings"
   ],
   "metadata": {
    "collapsed": false,
    "pycharm": {
     "name": "#%% md\n"
    }
   }
  },
  {
   "cell_type": "code",
   "execution_count": 2,
   "outputs": [
    {
     "data": {
      "text/plain": "['EXH', 'WIW', 'CST', 'CER', 'CYB', 'RES', 'EMG', 'CRN', 'HIW', 'ERQ', 'FLD']"
     },
     "metadata": {},
     "output_type": "execute_result",
     "execution_count": 2
    }
   ],
   "source": [
    "folder_outputs = params.PATHNAMES.at['OUTPUTS_folder', 'Value']\n",
    "list_haz = params.ABBREVIATIONS.iloc[0:11, 0].values.tolist()\n",
    "list_haz = list_haz\n",
    "list_haz"
   ],
   "metadata": {
    "collapsed": false,
    "pycharm": {
     "name": "#%%\n",
     "is_executing": false
    }
   }
  },
  {
   "cell_type": "markdown",
   "source": [
    "## Calculate ESL"
   ],
   "metadata": {
    "collapsed": false
   }
  },
  {
   "cell_type": "code",
   "execution_count": 3,
   "outputs": [
    {
     "name": "stdout",
     "text": [
      "Calculating ESL....\nCalculating EXH\n",
      ".....Importing EXH expected annual losses.....\n \n..........Factor:  Mortality\n..........Abbreviation:  D\n..........Receptor:  People\n..........Category:  Mortality Loss\n \n",
      "..........Factor:  Morbidity\n..........Abbreviation:  I\n..........Receptor:  People\n..........Category:  Morbidity Loss\n \n",
      "..........Factor:  Power Loss\n..........Abbreviation:  P\n..........Receptor:  People\n..........Category:  Indirect Cost\n \n",
      "Calculating WIW\n",
      ".....Importing WIW expected annual losses.....\n \n..........Factor:  Mortality\n..........Abbreviation:  D\n..........Receptor:  People\n..........Category:  Mortality Loss\n \n",
      "..........Factor:  Morbidity\n..........Abbreviation:  I\n..........Receptor:  People\n..........Category:  Morbidity Loss\n \n",
      "..........Factor:  Snow Removal\n..........Abbreviation:  S\n..........Receptor:  Land\n..........Category:  Response Cost\n \n",
      "..........Factor:  Tree Services\n..........Abbreviation:  R\n..........Receptor:  Land\n..........Category:  Response Cost\n \n",
      "..........Factor:  Power Loss\n..........Abbreviation:  P\n..........Receptor:  People\n..........Category:  Indirect Cost\n \n",
      "Calculating CST\n",
      ".....Importing CST expected annual losses.....\n \n..........Factor:  HIW Building Damage\n..........Abbreviation:  H\n..........Receptor:  Buildings\n..........Category:  Property Loss\n \n",
      "..........Factor:  Mortality\n..........Abbreviation:  D\n..........Receptor:  People\n..........Category:  Mortality Loss\n \n",
      "..........Factor:  Dislocation\n..........Abbreviation:  C\n..........Receptor:  People\n..........Category:  Indirect Cost\n \n",
      "..........Factor:  FLD Building Damage\n..........Abbreviation:  F\n..........Receptor:  Buildings\n..........Category:  Property Loss\n \n",
      "..........Factor:  DOT Losses\n..........Abbreviation:  B\n..........Receptor:  Land\n..........Category:  Response Cost\n \n",
      "..........Factor:  Tree Services\n..........Abbreviation:  R\n..........Receptor:  Land\n..........Category:  Response Cost\n \n",
      "..........Factor:  Power Loss\n..........Abbreviation:  P\n..........Receptor:  People\n..........Category:  Indirect Cost\n \n",
      "Calculating CER\n",
      ".....Importing CER expected annual losses.....\n \n..........Factor:  Ecosystem Loss\n..........Abbreviation:  E\n..........Receptor:  Land\n..........Category:  Environmental Loss\n \n",
      "Calculating CYB\n",
      ".....Importing CYB expected annual losses.....\n \n..........Factor:  Economic Loss\n..........Abbreviation:  E\n..........Receptor:  People\n..........Category:  Indirect Cost\n \n",
      "Calculating RES\n.....Importing RES expected annual losses.....\n \n..........Factor:  Mortality\n..........Abbreviation:  D\n..........Receptor:  People\n..........Category:  Mortality Loss\n \n",
      "..........Factor:  Morbidity\n..........Abbreviation:  I\n..........Receptor:  People\n..........Category:  Morbidity Loss\n \n",
      "..........Factor:  Lost Wages\n..........Abbreviation:  W\n..........Receptor:  People\n..........Category:  Indirect Cost\n \n",
      "..........Factor:  Economic Loss\n..........Abbreviation:  E\n..........Receptor:  People\n..........Category:  Indirect Cost\n \n",
      "Calculating EMG\n",
      ".....Importing EMG expected annual losses.....\n \n..........Factor:  Mortality\n..........Abbreviation:  D\n..........Receptor:  People\n..........Category:  Mortality Loss\n \n",
      "Calculating CRN\n",
      ".....Importing CRN expected annual losses.....\n \n..........Factor:  Mortality\n..........Abbreviation:  D\n..........Receptor:  People\n..........Category:  Mortality Loss\n \n",
      "..........Factor:  Morbidity\n..........Abbreviation:  I\n..........Receptor:  People\n..........Category:  Morbidity Loss\n \n",
      "Calculating HIW\n",
      ".....Importing HIW expected annual losses.....\n \n..........Factor:  HIW Building Damage\n..........Abbreviation:  H\n..........Receptor:  People\n..........Category:  Property Loss\n \n",
      "Calculating ERQ\n",
      ".....Importing ERQ expected annual losses.....\n \n..........Factor:  ERQ Building Damage\n..........Abbreviation:  B\n..........Receptor:  Buildings\n..........Category:  Property Loss\n \n",
      "Calculating FLD\n.....Importing FLD expected annual losses.....",
      "\n \n..........Factor:  Dislocation\n..........Abbreviation:  C\n..........Receptor:  People\n..........Category:  Indirect Cost\n \n",
      "..........Factor:  FLD Building Damage\n..........Abbreviation:  F\n..........Receptor:  Buildings\n..........Category:  Property Loss\n \n"
     ],
     "output_type": "stream"
    }
   ],
   "source": [
    "print(\"Calculating ESL....\")\n",
    "for haz in list_haz:\n",
    "    ESL_Calculate.calculate_ESL(haz)\n",
    "    "
   ],
   "metadata": {
    "collapsed": false,
    "pycharm": {
     "name": "#%%\n",
     "is_executing": false
    }
   }
  },
  {
   "cell_type": "markdown",
   "source": [
    "## Calculate SOV"
   ],
   "metadata": {
    "collapsed": false
   }
  },
  {
   "cell_type": "code",
   "execution_count": 4,
   "outputs": [
    {
     "name": "stdout",
     "text": [
      "Calculating SOV....\n",
      "Finished calculating SOV score.\n"
     ],
     "output_type": "stream"
    },
    {
     "name": "stderr",
     "text": [
      "c:\\programdata\\anaconda3\\envs\\geo-env\\lib\\site-packages\\xlrd\\xlsx.py:266: PendingDeprecationWarning: This method will be removed in future versions.  Use 'tree.iter()' or 'list(tree.iter())' instead.\n  for elem in self.tree.iter() if Element_has_iter else self.tree.getiterator():\n"
     ],
     "output_type": "stream"
    }
   ],
   "source": [
    "print(\"Calculating SOV....\")\n",
    "SOV_Calculate.calculate_SOV()"
   ],
   "metadata": {
    "collapsed": false,
    "pycharm": {
     "name": "#%%\n",
     "is_executing": false
    }
   }
  },
  {
   "cell_type": "markdown",
   "source": [
    "## Calculate RCA"
   ],
   "metadata": {
    "collapsed": false
   }
  },
  {
   "cell_type": "code",
   "execution_count": 5,
   "outputs": [
    {
     "name": "stdout",
     "text": [
      "Calculating RCA....\n",
      "Finished calculating RCA factor for EXH.\n",
      "Finished calculating RCA factor for WIW.\n",
      "Finished calculating RCA factor for CST.\n",
      "Finished calculating RCA factor for CER.\n",
      "Finished calculating RCA factor for CYB.\n",
      "Finished calculating RCA factor for RES.\n",
      "Finished calculating RCA factor for EMG.\n",
      "Finished calculating RCA factor for CRN.\n",
      "Finished calculating RCA factor for HIW.\n",
      "Finished calculating RCA factor for ERQ.\n",
      "Finished calculating RCA factor for FLD.\n"
     ],
     "output_type": "stream"
    }
   ],
   "source": [
    "print(\"Calculating RCA....\")\n",
    "for haz in list_haz:\n",
    "    RCA_calculate.calculate_RCA(haz)"
   ],
   "metadata": {
    "collapsed": false,
    "pycharm": {
     "name": "#%%\n",
     "is_executing": false
    }
   }
  },
  {
   "cell_type": "markdown",
   "source": [
    "## Calculate URI"
   ],
   "metadata": {
    "collapsed": false
   }
  },
  {
   "cell_type": "code",
   "execution_count": 6,
   "outputs": [
    {
     "name": "stdout",
     "text": [
      "Calculating URI....\nCalculating EXH\n",
      "Calculating WIW\n",
      "Calculating CST\n",
      "Calculating CER\n",
      "Calculating CYB\n",
      "Calculating RES\n",
      "Calculating EMG\n",
      "Calculating CRN\n",
      "Calculating HIW\n",
      "Calculating ERQ\n",
      "Calculating FLD\n"
     ],
     "output_type": "stream"
    }
   ],
   "source": [
    "print(\"Calculating URI....\")\n",
    "for haz in list_haz:\n",
    "    URI_Calculate.calculate_URI(haz)"
   ],
   "metadata": {
    "collapsed": false,
    "pycharm": {
     "name": "#%%\n",
     "is_executing": false
    }
   }
  },
  {
   "cell_type": "markdown",
   "source": [
    "## Calculate All Hazards URI"
   ],
   "metadata": {
    "collapsed": false
   }
  },
  {
   "cell_type": "code",
   "execution_count": 7,
   "outputs": [
    {
     "name": "stdout",
     "text": [
      "Calculating all-hazards URI....\n",
      "Deleted duplicate loss HIW Building Damage for hazard CST worth 339245713.8805442\nDeleted duplicate loss Dislocation for hazard CST worth 227560279.0726058\nDeleted duplicate loss FLD Building Damage for hazard CST worth 37089389.74146453\n"
     ],
     "output_type": "stream"
    }
   ],
   "source": [
    "print(\"Calculating all-hazards URI....\")\n",
    "ALL_Calculate.calculate_ALL(list_haz)"
   ],
   "metadata": {
    "collapsed": false,
    "pycharm": {
     "name": "#%%\n",
     "is_executing": false
    }
   }
  },
  {
   "cell_type": "markdown",
   "source": [
    "## Calculate Upscaled Geographies"
   ],
   "metadata": {
    "collapsed": false
   }
  },
  {
   "cell_type": "code",
   "execution_count": 8,
   "outputs": [
    {
     "name": "stdout",
     "text": [
      "Calculating upscaled geographies....\nUpscaling EXH.....",
      "CITYWIDE ",
      "Borough ",
      "PUMA ",
      "NTA ",
      "Done.\nUpscaling WIW.....",
      "CITYWIDE ",
      "Borough ",
      "PUMA ",
      "NTA ",
      "Done.\nUpscaling CST.....",
      "CITYWIDE ",
      "Borough ",
      "PUMA ",
      "NTA ",
      "Done.\nUpscaling CER.....",
      "CITYWIDE ",
      "Borough ",
      "PUMA ",
      "NTA ",
      "Done.\nUpscaling CYB.....",
      "CITYWIDE ",
      "Borough ",
      "PUMA ",
      "NTA ",
      "Done.\nUpscaling RES.....",
      "CITYWIDE ",
      "Borough ",
      "PUMA ",
      "NTA ",
      "Done.\nUpscaling EMG.....",
      "CITYWIDE ",
      "Borough ",
      "PUMA ",
      "NTA ",
      "Done.\nUpscaling CRN.....",
      "CITYWIDE ",
      "Borough ",
      "PUMA ",
      "NTA ",
      "Done.\nUpscaling HIW.....",
      "CITYWIDE ",
      "Borough ",
      "PUMA ",
      "NTA ",
      "Done.\nUpscaling ERQ.....",
      "CITYWIDE ",
      "Borough ",
      "PUMA ",
      "NTA ",
      "Done.\nUpscaling FLD.....",
      "CITYWIDE ",
      "Borough ",
      "PUMA ",
      "NTA ",
      "Done.\n"
     ],
     "output_type": "stream"
    }
   ],
   "source": [
    "print(\"Calculating upscaled geographies....\")\n",
    "for haz in list_haz:\n",
    "    UPSCALE_Calculate.calculate_UPSCALE(haz)"
   ],
   "metadata": {
    "collapsed": false,
    "pycharm": {
     "name": "#%%\n",
     "is_executing": false
    }
   }
  },
  {
   "cell_type": "markdown",
   "source": [
    "## Calculate Absolute URI"
   ],
   "metadata": {
    "collapsed": false
   }
  },
  {
   "cell_type": "code",
   "execution_count": 9,
   "outputs": [
    {
     "name": "stdout",
     "text": [
      "Calculating absolute URI....\nBorough ",
      "PUMA ",
      "NTA ",
      "Tract "
     ],
     "output_type": "stream"
    }
   ],
   "source": [
    "print(\"Calculating absolute URI....\")\n",
    "ABS_Calculate.calculate_ABS(list_haz)"
   ],
   "metadata": {
    "collapsed": false,
    "pycharm": {
     "name": "#%%\n",
     "is_executing": false
    }
   }
  }
 ],
 "metadata": {
  "kernelspec": {
   "display_name": "Python 3",
   "language": "python",
   "name": "python3"
  },
  "language_info": {
   "codemirror_mode": {
    "name": "ipython",
    "version": 2
   },
   "file_extension": ".py",
   "mimetype": "text/x-python",
   "name": "python",
   "nbconvert_exporter": "python",
   "pygments_lexer": "ipython2",
   "version": "2.7.6"
  },
  "pycharm": {
   "stem_cell": {
    "cell_type": "raw",
    "source": [],
    "metadata": {
     "collapsed": false
    }
   }
  }
 },
 "nbformat": 4,
 "nbformat_minor": 0
}
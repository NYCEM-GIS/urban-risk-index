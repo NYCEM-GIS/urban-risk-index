{
 "cells": [
  {
   "cell_type": "markdown",
   "id": "054b9250",
   "metadata": {},
   "source": [
    "## Test Import Packages"
   ]
  },
  {
   "cell_type": "code",
   "execution_count": null,
   "id": "2a60e8f5",
   "metadata": {},
   "outputs": [],
   "source": [
    "#test installations\n",
    "import geopandas\n",
    "import rtree\n",
    "import scipy\n",
    "import sklearn\n",
    "import matplotlib.pyplot as plt\n",
    "import requests\n",
    "import rasterio\n",
    "import rasterstats\n",
    "import census\n",
    "import us\n",
    "print(\"All packages successfully loaded!\")\n"
   ]
  },
  {
   "cell_type": "markdown",
   "id": "9a0855fa",
   "metadata": {},
   "source": [
    "## Test Plot Shapefile"
   ]
  },
  {
   "cell_type": "code",
   "execution_count": null,
   "id": "2dd25dea",
   "metadata": {},
   "outputs": [],
   "source": [
    "path_shapefile = './shapefile/URI_ALL_Tract.shp'\n",
    "gdf_shp = geopandas.read_file(path_shapefile)\n",
    "\n",
    "#test plot\n",
    "fig = plt.figure()\n",
    "ax = fig.add_subplot(111)\n",
    "gdf_shp.plot(ax=ax, column='ALLU_SN')\n",
    "plt.title(\"This is a map of NYC\")\n",
    "ax.axis('off')\n",
    "\n",
    "print(\"GIS working!\")\n"
   ]
  },
  {
   "cell_type": "code",
   "execution_count": null,
   "id": "755e4023",
   "metadata": {},
   "outputs": [],
   "source": []
  }
 ],
 "metadata": {
  "kernelspec": {
   "display_name": "Python 3 (ipykernel)",
   "language": "python",
   "name": "python3"
  },
  "language_info": {
   "codemirror_mode": {
    "name": "ipython",
    "version": 3
   },
   "file_extension": ".py",
   "mimetype": "text/x-python",
   "name": "python",
   "nbconvert_exporter": "python",
   "pygments_lexer": "ipython3",
   "version": "3.7.7"
  }
 },
 "nbformat": 4,
 "nbformat_minor": 5
}

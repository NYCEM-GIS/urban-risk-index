{
 "cells": [
  {
   "cell_type": "code",
   "execution_count": 1,
   "id": "artistic-negotiation",
   "metadata": {},
   "outputs": [
    {
     "name": "stdout",
     "output_type": "stream",
     "text": [
      "All packages successful loaded!\n"
     ]
    }
   ],
   "source": [
    "#test installations\n",
    "import geopandas\n",
    "import rtree\n",
    "import openpyxl\n",
    "import scipy\n",
    "import sklearn\n",
    "import matplotlib\n",
    "import requests\n",
    "import rasterio\n",
    "import rasterstats\n",
    "import census\n",
    "import us\n",
    "print(\"All packages successfully loaded!\")"
   ]
  },
  {
   "cell_type": "code",
   "execution_count": null,
   "id": "declared-pollution",
   "metadata": {},
   "outputs": [],
   "source": []
  }
 ],
 "metadata": {
  "kernelspec": {
   "display_name": "Python 3",
   "language": "python",
   "name": "python3"
  },
  "language_info": {
   "codemirror_mode": {
    "name": "ipython",
    "version": 3
   },
   "file_extension": ".py",
   "mimetype": "text/x-python",
   "name": "python",
   "nbconvert_exporter": "python",
   "pygments_lexer": "ipython3",
   "version": "3.7.7"
  }
 },
 "nbformat": 4,
 "nbformat_minor": 5
}

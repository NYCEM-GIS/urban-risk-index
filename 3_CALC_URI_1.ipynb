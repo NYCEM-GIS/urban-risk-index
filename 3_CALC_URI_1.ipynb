{
 "cells": [
  {
   "cell_type": "markdown",
   "metadata": {},
   "source": [
    "# Calculate URI\n",
    "This notebook runs the jupyter notebook for 1 or more hazard."
   ]
  },
  {
   "cell_type": "markdown",
   "metadata": {},
   "source": [
    "## Settings"
   ]
  },
  {
   "cell_type": "code",
   "execution_count": null,
   "metadata": {
    "pycharm": {
     "is_executing": false,
     "name": "#%%\n"
    }
   },
   "outputs": [],
   "source": [
    "import URI.MISC.utils_1 as utils\n",
    "import URI.MISC.params_1 as params\n",
    "import URI.CALCULATE.ESL_Calculate_1 as ESL_Calculate\n",
    "import URI.CALCULATE.SOV_Calculate_1 as SOV_Calculate\n",
    "import URI.CALCULATE.RCA_Calculate_1 as RCA_calculate\n",
    "import URI.CALCULATE.URI_Calculate_1 as URI_Calculate\n",
    "import URI.CALCULATE.ALL_Calculate_1 as ALL_Calculate\n",
    "import URI.CALCULATE.UPSCALE_Calculate_1 as UPSCALE_Calculate\n",
    "import URI.CALCULATE.ABS_Calculate_1 as ABS_Calculate\n",
    "import URI.CALCULATE.CSV_Calculate as CSV_Calculate\n",
    "utils.set_home()\n",
    "import warnings\n",
    "warnings.filterwarnings(action='ignore')\n",
    "\n",
    "# list hazards to run\n",
    "# to run all hazards enter: list_haz = ['EXH', 'WIW', 'CST', 'CER', 'CYB', 'RES', 'EMG', 'CRN', 'HIW', 'ERQ', 'FLD']\n",
    "\n",
    "# abbreviations:\n",
    "# EXH: extreme heat\n",
    "# WIW: winter weather\n",
    "# CST: coastal storms\n",
    "# CER: coastal erosion\n",
    "# CYB: cyber threats\n",
    "# RES: respiratory diseases\n",
    "# EMG: emerging diseases\n",
    "# CRN: chemical, biological, radiological, and nuclear\n",
    "# HIW: high wind\n",
    "# ERQ: earthquake\n",
    "# FLD: flood\n",
    "\n",
    "#edit this line with the hazards you wish to run\n",
    "list_haz = ['EXH', 'WIW', 'CST', 'CER', 'CYB', 'RES', 'EMG', 'CRN', 'HIW', 'ERQ', 'FLD']\n",
    "\n",
    "#do not change this\n",
    "list_haz_with_ALL = list_haz + ['ALL']    #add all as hazard\n"
   ]
  },
  {
   "cell_type": "markdown",
   "metadata": {},
   "source": [
    "## 1. Calculate ESL"
   ]
  },
  {
   "cell_type": "code",
   "execution_count": null,
   "metadata": {
    "pycharm": {
     "is_executing": false,
     "name": "#%%\n"
    }
   },
   "outputs": [],
   "source": [
    "print(\"Calculating ESL...\\n\")\n",
    "for haz in list_haz:\n",
    "    ESL_Calculate.calculate_ESL(haz)\n",
    "    "
   ]
  },
  {
   "cell_type": "markdown",
   "metadata": {},
   "source": [
    "## 2. Calculate SOV"
   ]
  },
  {
   "cell_type": "code",
   "execution_count": null,
   "metadata": {
    "pycharm": {
     "is_executing": false,
     "name": "#%%\n"
    }
   },
   "outputs": [],
   "source": [
    "print(\"Calculating SOV....\\n\")\n",
    "SOV_Calculate.calculate_SOV()\n"
   ]
  },
  {
   "cell_type": "markdown",
   "metadata": {},
   "source": [
    "## 3. Calculate RCA"
   ]
  },
  {
   "cell_type": "code",
   "execution_count": null,
   "metadata": {
    "pycharm": {
     "is_executing": false,
     "name": "#%%\n"
    }
   },
   "outputs": [],
   "source": [
    "print(\"Calculating RCA....\\n\")\n",
    "for haz in list_haz:\n",
    "    RCA_calculate.calculate_RCA(haz)\n",
    "    "
   ]
  },
  {
   "cell_type": "markdown",
   "metadata": {},
   "source": [
    "## 4. Calculate URI"
   ]
  },
  {
   "cell_type": "code",
   "execution_count": null,
   "metadata": {
    "pycharm": {
     "is_executing": false,
     "name": "#%%\n"
    }
   },
   "outputs": [],
   "source": [
    "print(\"Calculating URI....\\n\")\n",
    "for haz in list_haz:\n",
    "    URI_Calculate.calculate_URI(haz)\n",
    "    "
   ]
  },
  {
   "cell_type": "markdown",
   "metadata": {},
   "source": [
    "## 5. Calculate URI - All Hazards"
   ]
  },
  {
   "cell_type": "code",
   "execution_count": null,
   "metadata": {
    "pycharm": {
     "is_executing": false,
     "name": "#%%\n"
    }
   },
   "outputs": [],
   "source": [
    "print(\"Calculating all-hazards URI....\\n\")\n",
    "ALL_Calculate.calculate_ALL(list_haz)\n"
   ]
  },
  {
   "cell_type": "markdown",
   "metadata": {},
   "source": [
    "## 6. Calculate Upscaled Geographies"
   ]
  },
  {
   "cell_type": "code",
   "execution_count": null,
   "metadata": {
    "pycharm": {
     "is_executing": false,
     "name": "#%%\n"
    }
   },
   "outputs": [],
   "source": [
    "print(\"Calculating upscaled geographies....\\n\")\n",
    "for haz in list_haz_with_ALL:\n",
    "    UPSCALE_Calculate.calculate_UPSCALE(haz)\n",
    "    "
   ]
  },
  {
   "cell_type": "markdown",
   "metadata": {},
   "source": [
    "## 7. Calculate URI - Absolute"
   ]
  },
  {
   "cell_type": "code",
   "execution_count": null,
   "metadata": {
    "pycharm": {
     "is_executing": false,
     "name": "#%%\n"
    }
   },
   "outputs": [],
   "source": [
    "print(\"Calculating absolute URI....\\n\")\n",
    "ABS_Calculate.calculate_ABS(list_haz)\n"
   ]
  },
  {
   "cell_type": "markdown",
   "metadata": {},
   "source": [
    "## 8. Create Tables"
   ]
  },
  {
   "cell_type": "code",
   "execution_count": null,
   "metadata": {},
   "outputs": [],
   "source": [
    "print(\"Creating tables URI....\\n\")\n",
    "list_geographies = ['CITYWIDE', 'BOROCODE', 'PUMA', 'NTA', 'BCT_txt']\n",
    "path_output = params.PATHNAMES.at['TBL_output_csv', 'Value']\n",
    "CSV_Calculate.calculate_csv(list_haz_with_ALL, list_geographies, path_output)\n"
   ]
  },
  {
   "cell_type": "code",
   "execution_count": null,
   "metadata": {},
   "outputs": [],
   "source": []
  }
 ],
 "metadata": {
  "kernelspec": {
   "display_name": "Python 3 (ipykernel)",
   "language": "python",
   "name": "python3"
  },
  "language_info": {
   "codemirror_mode": {
    "name": "ipython",
    "version": 3
   },
   "file_extension": ".py",
   "mimetype": "text/x-python",
   "name": "python",
   "nbconvert_exporter": "python",
   "pygments_lexer": "ipython3",
   "version": "3.7.7"
  },
  "pycharm": {
   "stem_cell": {
    "cell_type": "raw",
    "metadata": {
     "collapsed": false
    },
    "source": []
   }
  }
 },
 "nbformat": 4,
 "nbformat_minor": 1
}

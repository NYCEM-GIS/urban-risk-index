{
 "cells": [
  {
   "cell_type": "markdown",
   "metadata": {},
   "source": [
    "# Run all Hazards\n",
    "This notebook runs the jupyter notebook for all 11 hazards."
   ]
  },
  {
   "cell_type": "markdown",
   "metadata": {},
   "source": [
    "## Import Packages"
   ]
  },
  {
   "cell_type": "code",
   "execution_count": 1,
   "metadata": {
    "pycharm": {
     "is_executing": false,
     "name": "#%%\n"
    }
   },
   "outputs": [
    {
     "ename": "ImportError",
     "evalue": "Missing optional dependency 'xlrd'. Install xlrd >= 1.0.0 for Excel support Use pip or conda to install xlrd.",
     "output_type": "error",
     "traceback": [
      "\u001b[1;31m---------------------------------------------------------------------------\u001b[0m",
      "\u001b[1;31mImportError\u001b[0m                               Traceback (most recent call last)",
      "\u001b[1;32m<ipython-input-1-906e956bea74>\u001b[0m in \u001b[0;36m<module>\u001b[1;34m\u001b[0m\n\u001b[1;32m----> 1\u001b[1;33m \u001b[1;32mimport\u001b[0m \u001b[0mURI\u001b[0m\u001b[1;33m.\u001b[0m\u001b[0mMISC\u001b[0m\u001b[1;33m.\u001b[0m\u001b[0mutils_1\u001b[0m \u001b[1;32mas\u001b[0m \u001b[0mutils\u001b[0m\u001b[1;33m\u001b[0m\u001b[1;33m\u001b[0m\u001b[0m\n\u001b[0m\u001b[0;32m      2\u001b[0m \u001b[1;32mimport\u001b[0m \u001b[0mURI\u001b[0m\u001b[1;33m.\u001b[0m\u001b[0mMISC\u001b[0m\u001b[1;33m.\u001b[0m\u001b[0mparams_1\u001b[0m \u001b[1;32mas\u001b[0m \u001b[0mparams\u001b[0m\u001b[1;33m\u001b[0m\u001b[1;33m\u001b[0m\u001b[0m\n\u001b[0;32m      3\u001b[0m \u001b[1;32mimport\u001b[0m \u001b[0mURI\u001b[0m\u001b[1;33m.\u001b[0m\u001b[0mCALCULATE\u001b[0m\u001b[1;33m.\u001b[0m\u001b[0mESL_Calculate_1\u001b[0m \u001b[1;32mas\u001b[0m \u001b[0mESL_Calculate\u001b[0m\u001b[1;33m\u001b[0m\u001b[1;33m\u001b[0m\u001b[0m\n\u001b[0;32m      4\u001b[0m \u001b[1;32mimport\u001b[0m \u001b[0mURI\u001b[0m\u001b[1;33m.\u001b[0m\u001b[0mCALCULATE\u001b[0m\u001b[1;33m.\u001b[0m\u001b[0mSOV_Calculate_1\u001b[0m \u001b[1;32mas\u001b[0m \u001b[0mSOV_Calculate\u001b[0m\u001b[1;33m\u001b[0m\u001b[1;33m\u001b[0m\u001b[0m\n\u001b[0;32m      5\u001b[0m \u001b[1;32mimport\u001b[0m \u001b[0mURI\u001b[0m\u001b[1;33m.\u001b[0m\u001b[0mCALCULATE\u001b[0m\u001b[1;33m.\u001b[0m\u001b[0mRCA_Calculate_1\u001b[0m \u001b[1;32mas\u001b[0m \u001b[0mRCA_calculate\u001b[0m\u001b[1;33m\u001b[0m\u001b[1;33m\u001b[0m\u001b[0m\n",
      "\u001b[1;32mT:\\CCSI\\TECH\\2020_NYCURI\\Working_Dano\\4_CODE\\URI\\MISC\\utils_1.py\u001b[0m in \u001b[0;36m<module>\u001b[1;34m\u001b[0m\n\u001b[0;32m      3\u001b[0m \u001b[1;32mimport\u001b[0m \u001b[0mnumpy\u001b[0m \u001b[1;32mas\u001b[0m \u001b[0mnp\u001b[0m\u001b[1;33m\u001b[0m\u001b[1;33m\u001b[0m\u001b[0m\n\u001b[0;32m      4\u001b[0m \u001b[1;32mimport\u001b[0m \u001b[0mpandas\u001b[0m \u001b[1;32mas\u001b[0m \u001b[0mpd\u001b[0m\u001b[1;33m\u001b[0m\u001b[1;33m\u001b[0m\u001b[0m\n\u001b[1;32m----> 5\u001b[1;33m \u001b[1;32mfrom\u001b[0m \u001b[0mURI\u001b[0m\u001b[1;33m.\u001b[0m\u001b[0mMISC\u001b[0m \u001b[1;32mimport\u001b[0m \u001b[0mparams_1\u001b[0m \u001b[1;32mas\u001b[0m \u001b[0mparams\u001b[0m\u001b[1;33m\u001b[0m\u001b[1;33m\u001b[0m\u001b[0m\n\u001b[0m\u001b[0;32m      6\u001b[0m \u001b[1;32mimport\u001b[0m \u001b[0mos\u001b[0m\u001b[1;33m\u001b[0m\u001b[1;33m\u001b[0m\u001b[0m\n\u001b[0;32m      7\u001b[0m \u001b[1;32mimport\u001b[0m \u001b[0mscipy\u001b[0m\u001b[1;33m.\u001b[0m\u001b[0mstats\u001b[0m \u001b[1;32mas\u001b[0m \u001b[0mstats\u001b[0m\u001b[1;33m\u001b[0m\u001b[1;33m\u001b[0m\u001b[0m\n",
      "\u001b[1;32mT:\\CCSI\\TECH\\2020_NYCURI\\Working_Dano\\4_CODE\\URI\\MISC\\params_1.py\u001b[0m in \u001b[0;36m<module>\u001b[1;34m\u001b[0m\n\u001b[0;32m     12\u001b[0m \u001b[1;31m#%% create params variable\u001b[0m\u001b[1;33m\u001b[0m\u001b[1;33m\u001b[0m\u001b[1;33m\u001b[0m\u001b[0m\n\u001b[0;32m     13\u001b[0m \u001b[1;33m\u001b[0m\u001b[0m\n\u001b[1;32m---> 14\u001b[1;33m \u001b[0mPATHNAMES\u001b[0m \u001b[1;33m=\u001b[0m \u001b[0mpd\u001b[0m\u001b[1;33m.\u001b[0m\u001b[0mread_excel\u001b[0m\u001b[1;33m(\u001b[0m\u001b[0mpath_params\u001b[0m\u001b[1;33m,\u001b[0m \u001b[0msheet_name\u001b[0m\u001b[1;33m=\u001b[0m\u001b[1;34m'PATHNAMES'\u001b[0m\u001b[1;33m,\u001b[0m \u001b[0mindex_col\u001b[0m\u001b[1;33m=\u001b[0m\u001b[1;36m0\u001b[0m\u001b[1;33m)\u001b[0m\u001b[1;33m\u001b[0m\u001b[1;33m\u001b[0m\u001b[0m\n\u001b[0m\u001b[0;32m     15\u001b[0m \u001b[0mPARAMS\u001b[0m \u001b[1;33m=\u001b[0m \u001b[0mpd\u001b[0m\u001b[1;33m.\u001b[0m\u001b[0mread_excel\u001b[0m\u001b[1;33m(\u001b[0m\u001b[0mpath_params\u001b[0m\u001b[1;33m,\u001b[0m \u001b[0msheet_name\u001b[0m\u001b[1;33m=\u001b[0m\u001b[1;34m'PARAMS'\u001b[0m\u001b[1;33m,\u001b[0m \u001b[0mindex_col\u001b[0m\u001b[1;33m=\u001b[0m\u001b[1;36m0\u001b[0m\u001b[1;33m)\u001b[0m\u001b[1;33m\u001b[0m\u001b[1;33m\u001b[0m\u001b[0m\n\u001b[0;32m     16\u001b[0m \u001b[0mSETTINGS\u001b[0m \u001b[1;33m=\u001b[0m \u001b[0mpd\u001b[0m\u001b[1;33m.\u001b[0m\u001b[0mread_excel\u001b[0m\u001b[1;33m(\u001b[0m\u001b[0mpath_params\u001b[0m\u001b[1;33m,\u001b[0m \u001b[0msheet_name\u001b[0m\u001b[1;33m=\u001b[0m\u001b[1;34m'SETTINGS'\u001b[0m\u001b[1;33m,\u001b[0m \u001b[0mindex_col\u001b[0m\u001b[1;33m=\u001b[0m\u001b[1;36m0\u001b[0m\u001b[1;33m)\u001b[0m\u001b[1;33m\u001b[0m\u001b[1;33m\u001b[0m\u001b[0m\n",
      "\u001b[1;32mC:\\ProgramData\\Miniconda3\\envs\\URI\\lib\\site-packages\\pandas\\util\\_decorators.py\u001b[0m in \u001b[0;36mwrapper\u001b[1;34m(*args, **kwargs)\u001b[0m\n\u001b[0;32m    297\u001b[0m                 )\n\u001b[0;32m    298\u001b[0m                 \u001b[0mwarnings\u001b[0m\u001b[1;33m.\u001b[0m\u001b[0mwarn\u001b[0m\u001b[1;33m(\u001b[0m\u001b[0mmsg\u001b[0m\u001b[1;33m,\u001b[0m \u001b[0mFutureWarning\u001b[0m\u001b[1;33m,\u001b[0m \u001b[0mstacklevel\u001b[0m\u001b[1;33m=\u001b[0m\u001b[0mstacklevel\u001b[0m\u001b[1;33m)\u001b[0m\u001b[1;33m\u001b[0m\u001b[1;33m\u001b[0m\u001b[0m\n\u001b[1;32m--> 299\u001b[1;33m             \u001b[1;32mreturn\u001b[0m \u001b[0mfunc\u001b[0m\u001b[1;33m(\u001b[0m\u001b[1;33m*\u001b[0m\u001b[0margs\u001b[0m\u001b[1;33m,\u001b[0m \u001b[1;33m**\u001b[0m\u001b[0mkwargs\u001b[0m\u001b[1;33m)\u001b[0m\u001b[1;33m\u001b[0m\u001b[1;33m\u001b[0m\u001b[0m\n\u001b[0m\u001b[0;32m    300\u001b[0m \u001b[1;33m\u001b[0m\u001b[0m\n\u001b[0;32m    301\u001b[0m         \u001b[1;32mreturn\u001b[0m \u001b[0mwrapper\u001b[0m\u001b[1;33m\u001b[0m\u001b[1;33m\u001b[0m\u001b[0m\n",
      "\u001b[1;32mC:\\ProgramData\\Miniconda3\\envs\\URI\\lib\\site-packages\\pandas\\io\\excel\\_base.py\u001b[0m in \u001b[0;36mread_excel\u001b[1;34m(io, sheet_name, header, names, index_col, usecols, squeeze, dtype, engine, converters, true_values, false_values, skiprows, nrows, na_values, keep_default_na, na_filter, verbose, parse_dates, date_parser, thousands, comment, skipfooter, convert_float, mangle_dupe_cols, storage_options)\u001b[0m\n\u001b[0;32m    334\u001b[0m     \u001b[1;32mif\u001b[0m \u001b[1;32mnot\u001b[0m \u001b[0misinstance\u001b[0m\u001b[1;33m(\u001b[0m\u001b[0mio\u001b[0m\u001b[1;33m,\u001b[0m \u001b[0mExcelFile\u001b[0m\u001b[1;33m)\u001b[0m\u001b[1;33m:\u001b[0m\u001b[1;33m\u001b[0m\u001b[1;33m\u001b[0m\u001b[0m\n\u001b[0;32m    335\u001b[0m         \u001b[0mshould_close\u001b[0m \u001b[1;33m=\u001b[0m \u001b[1;32mTrue\u001b[0m\u001b[1;33m\u001b[0m\u001b[1;33m\u001b[0m\u001b[0m\n\u001b[1;32m--> 336\u001b[1;33m         \u001b[0mio\u001b[0m \u001b[1;33m=\u001b[0m \u001b[0mExcelFile\u001b[0m\u001b[1;33m(\u001b[0m\u001b[0mio\u001b[0m\u001b[1;33m,\u001b[0m \u001b[0mstorage_options\u001b[0m\u001b[1;33m=\u001b[0m\u001b[0mstorage_options\u001b[0m\u001b[1;33m,\u001b[0m \u001b[0mengine\u001b[0m\u001b[1;33m=\u001b[0m\u001b[0mengine\u001b[0m\u001b[1;33m)\u001b[0m\u001b[1;33m\u001b[0m\u001b[1;33m\u001b[0m\u001b[0m\n\u001b[0m\u001b[0;32m    337\u001b[0m     \u001b[1;32melif\u001b[0m \u001b[0mengine\u001b[0m \u001b[1;32mand\u001b[0m \u001b[0mengine\u001b[0m \u001b[1;33m!=\u001b[0m \u001b[0mio\u001b[0m\u001b[1;33m.\u001b[0m\u001b[0mengine\u001b[0m\u001b[1;33m:\u001b[0m\u001b[1;33m\u001b[0m\u001b[1;33m\u001b[0m\u001b[0m\n\u001b[0;32m    338\u001b[0m         raise ValueError(\n",
      "\u001b[1;32mC:\\ProgramData\\Miniconda3\\envs\\URI\\lib\\site-packages\\pandas\\io\\excel\\_base.py\u001b[0m in \u001b[0;36m__init__\u001b[1;34m(self, path_or_buffer, engine, storage_options)\u001b[0m\n\u001b[0;32m   1129\u001b[0m         \u001b[0mself\u001b[0m\u001b[1;33m.\u001b[0m\u001b[0mstorage_options\u001b[0m \u001b[1;33m=\u001b[0m \u001b[0mstorage_options\u001b[0m\u001b[1;33m\u001b[0m\u001b[1;33m\u001b[0m\u001b[0m\n\u001b[0;32m   1130\u001b[0m \u001b[1;33m\u001b[0m\u001b[0m\n\u001b[1;32m-> 1131\u001b[1;33m         \u001b[0mself\u001b[0m\u001b[1;33m.\u001b[0m\u001b[0m_reader\u001b[0m \u001b[1;33m=\u001b[0m \u001b[0mself\u001b[0m\u001b[1;33m.\u001b[0m\u001b[0m_engines\u001b[0m\u001b[1;33m[\u001b[0m\u001b[0mengine\u001b[0m\u001b[1;33m]\u001b[0m\u001b[1;33m(\u001b[0m\u001b[0mself\u001b[0m\u001b[1;33m.\u001b[0m\u001b[0m_io\u001b[0m\u001b[1;33m,\u001b[0m \u001b[0mstorage_options\u001b[0m\u001b[1;33m=\u001b[0m\u001b[0mstorage_options\u001b[0m\u001b[1;33m)\u001b[0m\u001b[1;33m\u001b[0m\u001b[1;33m\u001b[0m\u001b[0m\n\u001b[0m\u001b[0;32m   1132\u001b[0m \u001b[1;33m\u001b[0m\u001b[0m\n\u001b[0;32m   1133\u001b[0m     \u001b[1;32mdef\u001b[0m \u001b[0m__fspath__\u001b[0m\u001b[1;33m(\u001b[0m\u001b[0mself\u001b[0m\u001b[1;33m)\u001b[0m\u001b[1;33m:\u001b[0m\u001b[1;33m\u001b[0m\u001b[1;33m\u001b[0m\u001b[0m\n",
      "\u001b[1;32mC:\\ProgramData\\Miniconda3\\envs\\URI\\lib\\site-packages\\pandas\\io\\excel\\_xlrd.py\u001b[0m in \u001b[0;36m__init__\u001b[1;34m(self, filepath_or_buffer, storage_options)\u001b[0m\n\u001b[0;32m     22\u001b[0m         \"\"\"\n\u001b[0;32m     23\u001b[0m         \u001b[0merr_msg\u001b[0m \u001b[1;33m=\u001b[0m \u001b[1;34m\"Install xlrd >= 1.0.0 for Excel support\"\u001b[0m\u001b[1;33m\u001b[0m\u001b[1;33m\u001b[0m\u001b[0m\n\u001b[1;32m---> 24\u001b[1;33m         \u001b[0mimport_optional_dependency\u001b[0m\u001b[1;33m(\u001b[0m\u001b[1;34m\"xlrd\"\u001b[0m\u001b[1;33m,\u001b[0m \u001b[0mextra\u001b[0m\u001b[1;33m=\u001b[0m\u001b[0merr_msg\u001b[0m\u001b[1;33m)\u001b[0m\u001b[1;33m\u001b[0m\u001b[1;33m\u001b[0m\u001b[0m\n\u001b[0m\u001b[0;32m     25\u001b[0m         \u001b[0msuper\u001b[0m\u001b[1;33m(\u001b[0m\u001b[1;33m)\u001b[0m\u001b[1;33m.\u001b[0m\u001b[0m__init__\u001b[0m\u001b[1;33m(\u001b[0m\u001b[0mfilepath_or_buffer\u001b[0m\u001b[1;33m,\u001b[0m \u001b[0mstorage_options\u001b[0m\u001b[1;33m=\u001b[0m\u001b[0mstorage_options\u001b[0m\u001b[1;33m)\u001b[0m\u001b[1;33m\u001b[0m\u001b[1;33m\u001b[0m\u001b[0m\n\u001b[0;32m     26\u001b[0m \u001b[1;33m\u001b[0m\u001b[0m\n",
      "\u001b[1;32mC:\\ProgramData\\Miniconda3\\envs\\URI\\lib\\site-packages\\pandas\\compat\\_optional.py\u001b[0m in \u001b[0;36mimport_optional_dependency\u001b[1;34m(name, extra, raise_on_missing, on_version)\u001b[0m\n\u001b[0;32m    107\u001b[0m     \u001b[1;32mexcept\u001b[0m \u001b[0mImportError\u001b[0m\u001b[1;33m:\u001b[0m\u001b[1;33m\u001b[0m\u001b[1;33m\u001b[0m\u001b[0m\n\u001b[0;32m    108\u001b[0m         \u001b[1;32mif\u001b[0m \u001b[0mraise_on_missing\u001b[0m\u001b[1;33m:\u001b[0m\u001b[1;33m\u001b[0m\u001b[1;33m\u001b[0m\u001b[0m\n\u001b[1;32m--> 109\u001b[1;33m             \u001b[1;32mraise\u001b[0m \u001b[0mImportError\u001b[0m\u001b[1;33m(\u001b[0m\u001b[0mmsg\u001b[0m\u001b[1;33m)\u001b[0m \u001b[1;32mfrom\u001b[0m \u001b[1;32mNone\u001b[0m\u001b[1;33m\u001b[0m\u001b[1;33m\u001b[0m\u001b[0m\n\u001b[0m\u001b[0;32m    110\u001b[0m         \u001b[1;32melse\u001b[0m\u001b[1;33m:\u001b[0m\u001b[1;33m\u001b[0m\u001b[1;33m\u001b[0m\u001b[0m\n\u001b[0;32m    111\u001b[0m             \u001b[1;32mreturn\u001b[0m \u001b[1;32mNone\u001b[0m\u001b[1;33m\u001b[0m\u001b[1;33m\u001b[0m\u001b[0m\n",
      "\u001b[1;31mImportError\u001b[0m: Missing optional dependency 'xlrd'. Install xlrd >= 1.0.0 for Excel support Use pip or conda to install xlrd."
     ]
    }
   ],
   "source": [
    "import URI.MISC.utils_1 as utils\n",
    "import URI.MISC.params_1 as params\n",
    "import URI.CALCULATE.ESL_Calculate_1 as ESL_Calculate\n",
    "import URI.CALCULATE.SOV_Calculate_1 as SOV_Calculate\n",
    "import URI.CALCULATE.RCA_Calculate_1 as RCA_calculate\n",
    "import URI.CALCULATE.URI_Calculate_1 as URI_Calculate\n",
    "import URI.CALCULATE.ALL_Calculate_1 as ALL_Calculate\n",
    "import URI.CALCULATE.UPSCALE_Calculate_1 as UPSCALE_Calculate\n",
    "import URI.CALCULATE.ABS_Calculate_1 as ABS_Calculate\n",
    "utils.set_home()\n",
    "import warnings\n",
    "warnings.filterwarnings(action='once')\n",
    "\n",
    "%load_ext autoreload\n",
    "%autoreload 2"
   ]
  },
  {
   "cell_type": "markdown",
   "metadata": {
    "pycharm": {
     "name": "#%% md\n"
    }
   },
   "source": [
    "## Run Settings"
   ]
  },
  {
   "cell_type": "code",
   "execution_count": 3,
   "metadata": {
    "pycharm": {
     "is_executing": false,
     "name": "#%%\n"
    }
   },
   "outputs": [
    {
     "data": {
      "text/plain": [
       "['EXH', 'WIW', 'CST', 'CER', 'CYB', 'RES', 'EMG', 'CRN', 'HIW', 'ERQ', 'FLD']"
      ]
     },
     "execution_count": 3,
     "metadata": {},
     "output_type": "execute_result"
    }
   ],
   "source": [
    "folder_outputs = params.PATHNAMES.at['OUTPUTS_folder', 'Value']\n",
    "list_haz = params.ABBREVIATIONS.iloc[0:11, 0].values.tolist()\n",
    "list_haz = list_haz\n",
    "list_haz"
   ]
  },
  {
   "cell_type": "markdown",
   "metadata": {},
   "source": [
    "## Calculate ESL"
   ]
  },
  {
   "cell_type": "code",
   "execution_count": 4,
   "metadata": {
    "pycharm": {
     "is_executing": false,
     "name": "#%%\n"
    }
   },
   "outputs": [
    {
     "name": "stdout",
     "output_type": "stream",
     "text": [
      "Calculating ESL....\n",
      "Calculating EXH\n",
      ".....Importing EXH expected annual losses.....\n",
      " \n",
      "..........Factor:  Mortality\n",
      "..........Abbreviation:  D\n",
      "..........Receptor:  People\n",
      "..........Category:  Mortality Loss\n",
      " \n",
      "..........Factor:  Morbidity\n",
      "..........Abbreviation:  I\n",
      "..........Receptor:  People\n",
      "..........Category:  Morbidity Loss\n",
      " \n",
      "..........Factor:  Power Loss\n",
      "..........Abbreviation:  P\n",
      "..........Receptor:  People\n",
      "..........Category:  Indirect Cost\n",
      " \n",
      "Calculating WIW\n",
      ".....Importing WIW expected annual losses.....\n",
      " \n",
      "..........Factor:  Mortality\n",
      "..........Abbreviation:  D\n",
      "..........Receptor:  People\n",
      "..........Category:  Mortality Loss\n",
      " \n",
      "..........Factor:  Morbidity\n",
      "..........Abbreviation:  I\n",
      "..........Receptor:  People\n",
      "..........Category:  Morbidity Loss\n",
      " \n",
      "..........Factor:  Snow Removal\n",
      "..........Abbreviation:  S\n",
      "..........Receptor:  Land\n",
      "..........Category:  Response Cost\n",
      " \n",
      "..........Factor:  Tree Services\n",
      "..........Abbreviation:  R\n",
      "..........Receptor:  Land\n",
      "..........Category:  Response Cost\n",
      " \n",
      "..........Factor:  Power Loss\n",
      "..........Abbreviation:  P\n",
      "..........Receptor:  People\n",
      "..........Category:  Indirect Cost\n",
      " \n",
      "Calculating CST\n",
      ".....Importing CST expected annual losses.....\n",
      " \n",
      "..........Factor:  HIW Building Damage\n",
      "..........Abbreviation:  H\n",
      "..........Receptor:  Buildings\n",
      "..........Category:  Property Loss\n",
      " \n",
      "..........Factor:  Mortality\n",
      "..........Abbreviation:  D\n",
      "..........Receptor:  People\n",
      "..........Category:  Mortality Loss\n",
      " \n",
      "..........Factor:  Dislocation\n",
      "..........Abbreviation:  C\n",
      "..........Receptor:  People\n",
      "..........Category:  Indirect Cost\n",
      " \n",
      "..........Factor:  FLD Building Damage\n",
      "..........Abbreviation:  F\n",
      "..........Receptor:  Buildings\n",
      "..........Category:  Property Loss\n",
      " \n",
      "..........Factor:  DOT Losses\n",
      "..........Abbreviation:  B\n",
      "..........Receptor:  Land\n",
      "..........Category:  Response Cost\n",
      " \n",
      "..........Factor:  Tree Services\n",
      "..........Abbreviation:  R\n",
      "..........Receptor:  Land\n",
      "..........Category:  Response Cost\n",
      " \n",
      "..........Factor:  Power Loss\n",
      "..........Abbreviation:  P\n",
      "..........Receptor:  People\n",
      "..........Category:  Indirect Cost\n",
      " \n",
      "Calculating CER\n",
      ".....Importing CER expected annual losses.....\n",
      " \n",
      "..........Factor:  Ecosystem Loss\n",
      "..........Abbreviation:  E\n",
      "..........Receptor:  Land\n",
      "..........Category:  Environmental Loss\n",
      " \n",
      "Calculating CYB\n",
      ".....Importing CYB expected annual losses.....\n",
      " \n",
      "..........Factor:  Economic Loss\n",
      "..........Abbreviation:  E\n",
      "..........Receptor:  People\n",
      "..........Category:  Indirect Cost\n",
      " \n",
      "Calculating RES\n",
      ".....Importing RES expected annual losses.....\n",
      " \n",
      "..........Factor:  Mortality\n",
      "..........Abbreviation:  D\n",
      "..........Receptor:  People\n",
      "..........Category:  Mortality Loss\n",
      " \n",
      "..........Factor:  Morbidity\n",
      "..........Abbreviation:  I\n",
      "..........Receptor:  People\n",
      "..........Category:  Morbidity Loss\n",
      " \n",
      "..........Factor:  Lost Wages\n",
      "..........Abbreviation:  W\n",
      "..........Receptor:  People\n",
      "..........Category:  Indirect Cost\n",
      " \n",
      "..........Factor:  Economic Loss\n",
      "..........Abbreviation:  E\n",
      "..........Receptor:  People\n",
      "..........Category:  Indirect Cost\n",
      " \n",
      "Calculating EMG\n",
      ".....Importing EMG expected annual losses.....\n",
      " \n",
      "..........Factor:  Mortality\n",
      "..........Abbreviation:  D\n",
      "..........Receptor:  People\n",
      "..........Category:  Mortality Loss\n",
      " \n",
      "Calculating CRN\n",
      ".....Importing CRN expected annual losses.....\n",
      " \n",
      "..........Factor:  Mortality\n",
      "..........Abbreviation:  D\n",
      "..........Receptor:  People\n",
      "..........Category:  Mortality Loss\n",
      " \n",
      "..........Factor:  Morbidity\n",
      "..........Abbreviation:  I\n",
      "..........Receptor:  People\n",
      "..........Category:  Morbidity Loss\n",
      " \n",
      "Calculating HIW\n",
      ".....Importing HIW expected annual losses.....\n",
      " \n",
      "..........Factor:  HIW Building Damage\n",
      "..........Abbreviation:  H\n",
      "..........Receptor:  People\n",
      "..........Category:  Property Loss\n",
      " \n",
      "Calculating ERQ\n",
      ".....Importing ERQ expected annual losses.....\n",
      " \n",
      "..........Factor:  ERQ Building Damage\n",
      "..........Abbreviation:  B\n",
      "..........Receptor:  Buildings\n",
      "..........Category:  Property Loss\n",
      " \n",
      "Calculating FLD\n",
      ".....Importing FLD expected annual losses.....\n",
      " \n",
      "..........Factor:  Dislocation\n",
      "..........Abbreviation:  C\n",
      "..........Receptor:  People\n",
      "..........Category:  Indirect Cost\n",
      " \n",
      "..........Factor:  FLD Building Damage\n",
      "..........Abbreviation:  F\n",
      "..........Receptor:  Buildings\n",
      "..........Category:  Property Loss\n",
      " \n"
     ]
    }
   ],
   "source": [
    "print(\"Calculating ESL....\")\n",
    "for haz in list_haz:\n",
    "    ESL_Calculate.calculate_ESL(haz)\n",
    "    "
   ]
  },
  {
   "cell_type": "markdown",
   "metadata": {},
   "source": [
    "## Calculate SOV"
   ]
  },
  {
   "cell_type": "code",
   "execution_count": 5,
   "metadata": {
    "pycharm": {
     "is_executing": false,
     "name": "#%%\n"
    }
   },
   "outputs": [
    {
     "name": "stdout",
     "output_type": "stream",
     "text": [
      "Calculating SOV....\n",
      "Finished calculating SOV score.\n"
     ]
    },
    {
     "name": "stderr",
     "output_type": "stream",
     "text": [
      "c:\\programdata\\anaconda3\\envs\\geo-env\\lib\\site-packages\\xlrd\\xlsx.py:266: PendingDeprecationWarning: This method will be removed in future versions.  Use 'tree.iter()' or 'list(tree.iter())' instead.\n",
      "  for elem in self.tree.iter() if Element_has_iter else self.tree.getiterator():\n"
     ]
    }
   ],
   "source": [
    "print(\"Calculating SOV....\")\n",
    "SOV_Calculate.calculate_SOV()"
   ]
  },
  {
   "cell_type": "markdown",
   "metadata": {},
   "source": [
    "## Calculate RCA"
   ]
  },
  {
   "cell_type": "code",
   "execution_count": 6,
   "metadata": {
    "pycharm": {
     "is_executing": false,
     "name": "#%%\n"
    }
   },
   "outputs": [
    {
     "name": "stdout",
     "output_type": "stream",
     "text": [
      "Calculating RCA....\n",
      "Finished calculating RCA factor for EXH.\n",
      "Finished calculating RCA factor for WIW.\n",
      "Finished calculating RCA factor for CST.\n",
      "Finished calculating RCA factor for CER.\n",
      "Finished calculating RCA factor for CYB.\n",
      "Finished calculating RCA factor for RES.\n",
      "Finished calculating RCA factor for EMG.\n",
      "Finished calculating RCA factor for CRN.\n",
      "Finished calculating RCA factor for HIW.\n",
      "Finished calculating RCA factor for ERQ.\n",
      "Finished calculating RCA factor for FLD.\n"
     ]
    }
   ],
   "source": [
    "print(\"Calculating RCA....\")\n",
    "for haz in list_haz:\n",
    "    RCA_calculate.calculate_RCA(haz)"
   ]
  },
  {
   "cell_type": "markdown",
   "metadata": {},
   "source": [
    "## Calculate URI"
   ]
  },
  {
   "cell_type": "code",
   "execution_count": 7,
   "metadata": {
    "pycharm": {
     "is_executing": false,
     "name": "#%%\n"
    }
   },
   "outputs": [
    {
     "name": "stdout",
     "output_type": "stream",
     "text": [
      "Calculating URI....\n",
      "Calculating EXH\n",
      "Calculating WIW\n",
      "Calculating CST\n",
      "Calculating CER\n",
      "Calculating CYB\n",
      "Calculating RES\n",
      "Calculating EMG\n",
      "Calculating CRN\n",
      "Calculating HIW\n",
      "Calculating ERQ\n",
      "Calculating FLD\n"
     ]
    }
   ],
   "source": [
    "print(\"Calculating URI....\")\n",
    "for haz in list_haz:\n",
    "    URI_Calculate.calculate_URI(haz)"
   ]
  },
  {
   "cell_type": "markdown",
   "metadata": {},
   "source": [
    "## Calculate All Hazards URI"
   ]
  },
  {
   "cell_type": "code",
   "execution_count": 8,
   "metadata": {
    "pycharm": {
     "is_executing": false,
     "name": "#%%\n"
    }
   },
   "outputs": [
    {
     "name": "stdout",
     "output_type": "stream",
     "text": [
      "Calculating all-hazards URI....\n",
      "Deleted duplicate loss HIW Building Damage for hazard CST worth 339245713.8805442\n",
      "Deleted duplicate loss Dislocation for hazard CST worth 227560279.0726058\n",
      "Deleted duplicate loss FLD Building Damage for hazard CST worth 37089389.74146453\n"
     ]
    }
   ],
   "source": [
    "print(\"Calculating all-hazards URI....\")\n",
    "ALL_Calculate.calculate_ALL(list_haz)"
   ]
  },
  {
   "cell_type": "markdown",
   "metadata": {},
   "source": [
    "## Calculate Upscaled Geographies"
   ]
  },
  {
   "cell_type": "code",
   "execution_count": 9,
   "metadata": {
    "pycharm": {
     "is_executing": false,
     "name": "#%%\n"
    }
   },
   "outputs": [
    {
     "name": "stdout",
     "output_type": "stream",
     "text": [
      "Calculating upscaled geographies....\n",
      "Upscaling EXH.....CITYWIDE Borough PUMA NTA Done.\n",
      "Upscaling WIW.....CITYWIDE Borough PUMA NTA Done.\n",
      "Upscaling CST.....CITYWIDE Borough PUMA NTA Done.\n",
      "Upscaling CER.....CITYWIDE Borough PUMA NTA Done.\n",
      "Upscaling CYB.....CITYWIDE Borough PUMA NTA Done.\n",
      "Upscaling RES.....CITYWIDE Borough PUMA NTA Done.\n",
      "Upscaling EMG.....CITYWIDE Borough PUMA NTA Done.\n",
      "Upscaling CRN.....CITYWIDE Borough PUMA NTA Done.\n",
      "Upscaling HIW.....CITYWIDE Borough PUMA NTA Done.\n",
      "Upscaling ERQ.....CITYWIDE Borough PUMA NTA Done.\n",
      "Upscaling FLD.....CITYWIDE Borough PUMA NTA Done.\n"
     ]
    }
   ],
   "source": [
    "print(\"Calculating upscaled geographies....\")\n",
    "for haz in list_haz:\n",
    "    UPSCALE_Calculate.calculate_UPSCALE(haz)"
   ]
  },
  {
   "cell_type": "markdown",
   "metadata": {},
   "source": [
    "## Calculate Absolute URI"
   ]
  },
  {
   "cell_type": "code",
   "execution_count": 10,
   "metadata": {
    "pycharm": {
     "is_executing": false,
     "name": "#%%\n"
    }
   },
   "outputs": [
    {
     "name": "stdout",
     "output_type": "stream",
     "text": [
      "Calculating absolute URI....\n",
      "Borough PUMA NTA Tract "
     ]
    }
   ],
   "source": [
    "print(\"Calculating absolute URI....\")\n",
    "ABS_Calculate.calculate_ABS(list_haz)"
   ]
  }
 ],
 "metadata": {
  "kernelspec": {
   "display_name": "Python 3",
   "language": "python",
   "name": "python3"
  },
  "language_info": {
   "codemirror_mode": {
    "name": "ipython",
    "version": 3
   },
   "file_extension": ".py",
   "mimetype": "text/x-python",
   "name": "python",
   "nbconvert_exporter": "python",
   "pygments_lexer": "ipython3",
   "version": "3.7.7"
  },
  "pycharm": {
   "stem_cell": {
    "cell_type": "raw",
    "metadata": {
     "collapsed": false
    },
    "source": []
   }
  }
 },
 "nbformat": 4,
 "nbformat_minor": 1
}

{
 "cells": [
  {
   "cell_type": "markdown",
   "metadata": {
    "collapsed": true,
    "pycharm": {
     "is_executing": false,
     "name": "#%% md\n"
    }
   },
   "source": [
    "# RCA Preprocessing"
   ]
  },
  {
   "cell_type": "markdown",
   "metadata": {
    "pycharm": {
     "is_executing": false,
     "name": "#%% md\n"
    }
   },
   "source": [
    "## 1. Community Capital"
   ]
  },
  {
   "cell_type": "code",
   "execution_count": 2,
   "metadata": {
    "pycharm": {
     "is_executing": false,
     "name": "#%%\n"
    }
   },
   "outputs": [
    {
     "name": "stderr",
     "output_type": "stream",
     "text": [
      "C:\\ProgramData\\Miniconda3\\envs\\URI\\lib\\site-packages\\ipykernel\\ipkernel.py:283: DeprecationWarning: `should_run_async` will not call `transform_cell` automatically in the future. Please pass the result to `transformed_cell` argument and any exception that happen during thetransform in `preprocessing_exc_tuple` in IPython 7.17 and above.\n",
      "  and should_run_async(code)\n"
     ]
    },
    {
     "name": "stdout",
     "output_type": "stream",
     "text": [
      "21:19 Pre-processing Community Infrastructure.....\n"
     ]
    },
    {
     "ename": "ImportError",
     "evalue": "Spatial indexes require either `rtree` or `pygeos`. See installation instructions at https://geopandas.org/install.html",
     "output_type": "error",
     "traceback": [
      "\u001b[1;31m---------------------------------------------------------------------------\u001b[0m",
      "\u001b[1;31mImportError\u001b[0m                               Traceback (most recent call last)",
      "\u001b[1;32m\\\\surly.mcs.local\\Projects\\CCSI\\TECH\\2020_NYCURI\\Working_Dano\\4_CODE\\URI\\DATA_PROCESSING\\RCA_CC_CI_read_1.py\u001b[0m in \u001b[0;36m<module>\u001b[1;34m\u001b[0m\n\u001b[0;32m     42\u001b[0m     \u001b[0mthis_buffer\u001b[0m \u001b[1;33m=\u001b[0m \u001b[0mgdf_buffer\u001b[0m\u001b[1;33m.\u001b[0m\u001b[0mloc\u001b[0m\u001b[1;33m[\u001b[0m\u001b[1;33m[\u001b[0m\u001b[0midx\u001b[0m\u001b[1;33m]\u001b[0m\u001b[1;33m]\u001b[0m\u001b[1;33m\u001b[0m\u001b[1;33m\u001b[0m\u001b[0m\n\u001b[0;32m     43\u001b[0m     \u001b[1;31m#take intersection\u001b[0m\u001b[1;33m\u001b[0m\u001b[1;33m\u001b[0m\u001b[1;33m\u001b[0m\u001b[0m\n\u001b[1;32m---> 44\u001b[1;33m     \u001b[0mthis_intersect\u001b[0m \u001b[1;33m=\u001b[0m \u001b[0mgpd\u001b[0m\u001b[1;33m.\u001b[0m\u001b[0moverlay\u001b[0m\u001b[1;33m(\u001b[0m\u001b[0mgdf_tract\u001b[0m\u001b[1;33m,\u001b[0m \u001b[0mthis_buffer\u001b[0m\u001b[1;33m[\u001b[0m\u001b[1;33m[\u001b[0m\u001b[1;34m'OBJECTID'\u001b[0m\u001b[1;33m,\u001b[0m \u001b[1;34m'geometry'\u001b[0m\u001b[1;33m]\u001b[0m\u001b[1;33m]\u001b[0m\u001b[1;33m,\u001b[0m \u001b[0mhow\u001b[0m\u001b[1;33m=\u001b[0m\u001b[1;34m'intersection'\u001b[0m\u001b[1;33m)\u001b[0m\u001b[1;33m\u001b[0m\u001b[1;33m\u001b[0m\u001b[0m\n\u001b[0m\u001b[0;32m     45\u001b[0m     \u001b[0mthis_intersect\u001b[0m\u001b[1;33m[\u001b[0m\u001b[1;34m'area_intersect_ft2'\u001b[0m\u001b[1;33m]\u001b[0m \u001b[1;33m=\u001b[0m \u001b[0mthis_intersect\u001b[0m\u001b[1;33m[\u001b[0m\u001b[1;34m'geometry'\u001b[0m\u001b[1;33m]\u001b[0m\u001b[1;33m.\u001b[0m\u001b[0marea\u001b[0m\u001b[1;33m\u001b[0m\u001b[1;33m\u001b[0m\u001b[0m\n\u001b[0;32m     46\u001b[0m     \u001b[0mthis_intersect\u001b[0m\u001b[1;33m[\u001b[0m\u001b[1;34m'Fraction_Covered'\u001b[0m\u001b[1;33m]\u001b[0m \u001b[1;33m=\u001b[0m \u001b[0mnp\u001b[0m\u001b[1;33m.\u001b[0m\u001b[0mminimum\u001b[0m\u001b[1;33m(\u001b[0m\u001b[0mthis_intersect\u001b[0m\u001b[1;33m[\u001b[0m\u001b[1;34m'area_intersect_ft2'\u001b[0m\u001b[1;33m]\u001b[0m \u001b[1;33m/\u001b[0m \u001b[0mthis_intersect\u001b[0m\u001b[1;33m[\u001b[0m\u001b[1;34m'area_ft2'\u001b[0m\u001b[1;33m]\u001b[0m\u001b[1;33m,\u001b[0m \u001b[1;36m1.0\u001b[0m\u001b[1;33m)\u001b[0m\u001b[1;33m\u001b[0m\u001b[1;33m\u001b[0m\u001b[0m\n",
      "\u001b[1;32mC:\\ProgramData\\Miniconda3\\envs\\URI\\lib\\site-packages\\geopandas\\tools\\overlay.py\u001b[0m in \u001b[0;36moverlay\u001b[1;34m(df1, df2, how, keep_geom_type, make_valid)\u001b[0m\n\u001b[0;32m    290\u001b[0m             \u001b[1;32mreturn\u001b[0m \u001b[0m_overlay_difference\u001b[0m\u001b[1;33m(\u001b[0m\u001b[0mdf1\u001b[0m\u001b[1;33m,\u001b[0m \u001b[0mdf2\u001b[0m\u001b[1;33m)\u001b[0m\u001b[1;33m\u001b[0m\u001b[1;33m\u001b[0m\u001b[0m\n\u001b[0;32m    291\u001b[0m         \u001b[1;32melif\u001b[0m \u001b[0mhow\u001b[0m \u001b[1;33m==\u001b[0m \u001b[1;34m\"intersection\"\u001b[0m\u001b[1;33m:\u001b[0m\u001b[1;33m\u001b[0m\u001b[1;33m\u001b[0m\u001b[0m\n\u001b[1;32m--> 292\u001b[1;33m             \u001b[0mresult\u001b[0m \u001b[1;33m=\u001b[0m \u001b[0m_overlay_intersection\u001b[0m\u001b[1;33m(\u001b[0m\u001b[0mdf1\u001b[0m\u001b[1;33m,\u001b[0m \u001b[0mdf2\u001b[0m\u001b[1;33m)\u001b[0m\u001b[1;33m\u001b[0m\u001b[1;33m\u001b[0m\u001b[0m\n\u001b[0m\u001b[0;32m    293\u001b[0m         \u001b[1;32melif\u001b[0m \u001b[0mhow\u001b[0m \u001b[1;33m==\u001b[0m \u001b[1;34m\"symmetric_difference\"\u001b[0m\u001b[1;33m:\u001b[0m\u001b[1;33m\u001b[0m\u001b[1;33m\u001b[0m\u001b[0m\n\u001b[0;32m    294\u001b[0m             \u001b[0mresult\u001b[0m \u001b[1;33m=\u001b[0m \u001b[0m_overlay_symmetric_diff\u001b[0m\u001b[1;33m(\u001b[0m\u001b[0mdf1\u001b[0m\u001b[1;33m,\u001b[0m \u001b[0mdf2\u001b[0m\u001b[1;33m)\u001b[0m\u001b[1;33m\u001b[0m\u001b[1;33m\u001b[0m\u001b[0m\n",
      "\u001b[1;32mC:\\ProgramData\\Miniconda3\\envs\\URI\\lib\\site-packages\\geopandas\\tools\\overlay.py\u001b[0m in \u001b[0;36m_overlay_intersection\u001b[1;34m(df1, df2)\u001b[0m\n\u001b[0;32m     28\u001b[0m     \"\"\"\n\u001b[0;32m     29\u001b[0m     \u001b[1;31m# Spatial Index to create intersections\u001b[0m\u001b[1;33m\u001b[0m\u001b[1;33m\u001b[0m\u001b[1;33m\u001b[0m\u001b[0m\n\u001b[1;32m---> 30\u001b[1;33m     \u001b[0midx1\u001b[0m\u001b[1;33m,\u001b[0m \u001b[0midx2\u001b[0m \u001b[1;33m=\u001b[0m \u001b[0mdf2\u001b[0m\u001b[1;33m.\u001b[0m\u001b[0msindex\u001b[0m\u001b[1;33m.\u001b[0m\u001b[0mquery_bulk\u001b[0m\u001b[1;33m(\u001b[0m\u001b[0mdf1\u001b[0m\u001b[1;33m.\u001b[0m\u001b[0mgeometry\u001b[0m\u001b[1;33m,\u001b[0m \u001b[0mpredicate\u001b[0m\u001b[1;33m=\u001b[0m\u001b[1;34m\"intersects\"\u001b[0m\u001b[1;33m,\u001b[0m \u001b[0msort\u001b[0m\u001b[1;33m=\u001b[0m\u001b[1;32mTrue\u001b[0m\u001b[1;33m)\u001b[0m\u001b[1;33m\u001b[0m\u001b[1;33m\u001b[0m\u001b[0m\n\u001b[0m\u001b[0;32m     31\u001b[0m     \u001b[1;31m# Create pairs of geometries in both dataframes to be intersected\u001b[0m\u001b[1;33m\u001b[0m\u001b[1;33m\u001b[0m\u001b[1;33m\u001b[0m\u001b[0m\n\u001b[0;32m     32\u001b[0m     \u001b[1;32mif\u001b[0m \u001b[0midx1\u001b[0m\u001b[1;33m.\u001b[0m\u001b[0msize\u001b[0m \u001b[1;33m>\u001b[0m \u001b[1;36m0\u001b[0m \u001b[1;32mand\u001b[0m \u001b[0midx2\u001b[0m\u001b[1;33m.\u001b[0m\u001b[0msize\u001b[0m \u001b[1;33m>\u001b[0m \u001b[1;36m0\u001b[0m\u001b[1;33m:\u001b[0m\u001b[1;33m\u001b[0m\u001b[1;33m\u001b[0m\u001b[0m\n",
      "\u001b[1;32mC:\\ProgramData\\Miniconda3\\envs\\URI\\lib\\site-packages\\geopandas\\base.py\u001b[0m in \u001b[0;36msindex\u001b[1;34m(self)\u001b[0m\n\u001b[0;32m   2628\u001b[0m                [2]])\n\u001b[0;32m   2629\u001b[0m         \"\"\"\n\u001b[1;32m-> 2630\u001b[1;33m         \u001b[1;32mreturn\u001b[0m \u001b[0mself\u001b[0m\u001b[1;33m.\u001b[0m\u001b[0mgeometry\u001b[0m\u001b[1;33m.\u001b[0m\u001b[0mvalues\u001b[0m\u001b[1;33m.\u001b[0m\u001b[0msindex\u001b[0m\u001b[1;33m\u001b[0m\u001b[1;33m\u001b[0m\u001b[0m\n\u001b[0m\u001b[0;32m   2631\u001b[0m \u001b[1;33m\u001b[0m\u001b[0m\n\u001b[0;32m   2632\u001b[0m     \u001b[1;33m@\u001b[0m\u001b[0mproperty\u001b[0m\u001b[1;33m\u001b[0m\u001b[1;33m\u001b[0m\u001b[0m\n",
      "\u001b[1;32mC:\\ProgramData\\Miniconda3\\envs\\URI\\lib\\site-packages\\geopandas\\array.py\u001b[0m in \u001b[0;36msindex\u001b[1;34m(self)\u001b[0m\n\u001b[0;32m    307\u001b[0m     \u001b[1;32mdef\u001b[0m \u001b[0msindex\u001b[0m\u001b[1;33m(\u001b[0m\u001b[0mself\u001b[0m\u001b[1;33m)\u001b[0m\u001b[1;33m:\u001b[0m\u001b[1;33m\u001b[0m\u001b[1;33m\u001b[0m\u001b[0m\n\u001b[0;32m    308\u001b[0m         \u001b[1;32mif\u001b[0m \u001b[0mself\u001b[0m\u001b[1;33m.\u001b[0m\u001b[0m_sindex\u001b[0m \u001b[1;32mis\u001b[0m \u001b[1;32mNone\u001b[0m\u001b[1;33m:\u001b[0m\u001b[1;33m\u001b[0m\u001b[1;33m\u001b[0m\u001b[0m\n\u001b[1;32m--> 309\u001b[1;33m             \u001b[0mself\u001b[0m\u001b[1;33m.\u001b[0m\u001b[0m_sindex\u001b[0m \u001b[1;33m=\u001b[0m \u001b[0m_get_sindex_class\u001b[0m\u001b[1;33m(\u001b[0m\u001b[1;33m)\u001b[0m\u001b[1;33m(\u001b[0m\u001b[0mself\u001b[0m\u001b[1;33m.\u001b[0m\u001b[0mdata\u001b[0m\u001b[1;33m)\u001b[0m\u001b[1;33m\u001b[0m\u001b[1;33m\u001b[0m\u001b[0m\n\u001b[0m\u001b[0;32m    310\u001b[0m         \u001b[1;32mreturn\u001b[0m \u001b[0mself\u001b[0m\u001b[1;33m.\u001b[0m\u001b[0m_sindex\u001b[0m\u001b[1;33m\u001b[0m\u001b[1;33m\u001b[0m\u001b[0m\n\u001b[0;32m    311\u001b[0m \u001b[1;33m\u001b[0m\u001b[0m\n",
      "\u001b[1;32mC:\\ProgramData\\Miniconda3\\envs\\URI\\lib\\site-packages\\geopandas\\sindex.py\u001b[0m in \u001b[0;36m_get_sindex_class\u001b[1;34m()\u001b[0m\n\u001b[0;32m     19\u001b[0m     \u001b[1;32mif\u001b[0m \u001b[0mcompat\u001b[0m\u001b[1;33m.\u001b[0m\u001b[0mHAS_RTREE\u001b[0m\u001b[1;33m:\u001b[0m\u001b[1;33m\u001b[0m\u001b[1;33m\u001b[0m\u001b[0m\n\u001b[0;32m     20\u001b[0m         \u001b[1;32mreturn\u001b[0m \u001b[0mRTreeIndex\u001b[0m\u001b[1;33m\u001b[0m\u001b[1;33m\u001b[0m\u001b[0m\n\u001b[1;32m---> 21\u001b[1;33m     raise ImportError(\n\u001b[0m\u001b[0;32m     22\u001b[0m         \u001b[1;34m\"Spatial indexes require either `rtree` or `pygeos`. \"\u001b[0m\u001b[1;33m\u001b[0m\u001b[1;33m\u001b[0m\u001b[0m\n\u001b[0;32m     23\u001b[0m         \u001b[1;34m\"See installation instructions at https://geopandas.org/install.html\"\u001b[0m\u001b[1;33m\u001b[0m\u001b[1;33m\u001b[0m\u001b[0m\n",
      "\u001b[1;31mImportError\u001b[0m: Spatial indexes require either `rtree` or `pygeos`. See installation instructions at https://geopandas.org/install.html"
     ]
    },
    {
     "name": "stdout",
     "output_type": "stream",
     "text": [
      "21:20 Pre-processing Education and Outreach.....\n",
      "warning: kmeans score already exists.\n"
     ]
    },
    {
     "ename": "AttributeError",
     "evalue": "'NoneType' object has no attribute 'to_file'",
     "output_type": "error",
     "traceback": [
      "\u001b[1;31m---------------------------------------------------------------------------\u001b[0m",
      "\u001b[1;31mAttributeError\u001b[0m                            Traceback (most recent call last)",
      "\u001b[1;32m\\\\surly.mcs.local\\Projects\\CCSI\\TECH\\2020_NYCURI\\Working_Dano\\4_CODE\\URI\\DATA_PROCESSING\\RCA_CC_EO_read_1.py\u001b[0m in \u001b[0;36m<module>\u001b[1;34m\u001b[0m\n\u001b[0;32m     37\u001b[0m \u001b[1;31m#%% save as output\u001b[0m\u001b[1;33m\u001b[0m\u001b[1;33m\u001b[0m\u001b[1;33m\u001b[0m\u001b[0m\n\u001b[0;32m     38\u001b[0m \u001b[0mpath_output\u001b[0m \u001b[1;33m=\u001b[0m \u001b[0mparams\u001b[0m\u001b[1;33m.\u001b[0m\u001b[0mPATHNAMES\u001b[0m\u001b[1;33m.\u001b[0m\u001b[0mat\u001b[0m\u001b[1;33m[\u001b[0m\u001b[1;34m'RCA_CC_EO_score'\u001b[0m\u001b[1;33m,\u001b[0m \u001b[1;34m'Value'\u001b[0m\u001b[1;33m]\u001b[0m\u001b[1;33m\u001b[0m\u001b[1;33m\u001b[0m\u001b[0m\n\u001b[1;32m---> 39\u001b[1;33m \u001b[0mgdf_result\u001b[0m\u001b[1;33m.\u001b[0m\u001b[0mto_file\u001b[0m\u001b[1;33m(\u001b[0m\u001b[0mpath_output\u001b[0m\u001b[1;33m)\u001b[0m\u001b[1;33m\u001b[0m\u001b[1;33m\u001b[0m\u001b[0m\n\u001b[0m\u001b[0;32m     40\u001b[0m \u001b[1;33m\u001b[0m\u001b[0m\n\u001b[0;32m     41\u001b[0m \u001b[1;31m#%%  document result with readme\u001b[0m\u001b[1;33m\u001b[0m\u001b[1;33m\u001b[0m\u001b[1;33m\u001b[0m\u001b[0m\n",
      "\u001b[1;31mAttributeError\u001b[0m: 'NoneType' object has no attribute 'to_file'"
     ]
    },
    {
     "name": "stdout",
     "output_type": "stream",
     "text": [
      "21:20 Pre-process Place Attachment.....\n"
     ]
    },
    {
     "ename": "ModuleNotFoundError",
     "evalue": "No module named 'census'",
     "output_type": "error",
     "traceback": [
      "\u001b[1;31m---------------------------------------------------------------------------\u001b[0m",
      "\u001b[1;31mModuleNotFoundError\u001b[0m                       Traceback (most recent call last)",
      "\u001b[1;32m\\\\surly.mcs.local\\Projects\\CCSI\\TECH\\2020_NYCURI\\Working_Dano\\4_CODE\\URI\\DATA_PROCESSING\\RCA_CC_PA_read_1.py\u001b[0m in \u001b[0;36m<module>\u001b[1;34m\u001b[0m\n\u001b[0;32m      8\u001b[0m \u001b[1;32mimport\u001b[0m \u001b[0mos\u001b[0m\u001b[1;33m\u001b[0m\u001b[1;33m\u001b[0m\u001b[0m\n\u001b[0;32m      9\u001b[0m \u001b[1;32mimport\u001b[0m \u001b[0mmatplotlib\u001b[0m\u001b[1;33m.\u001b[0m\u001b[0mpyplot\u001b[0m \u001b[1;32mas\u001b[0m \u001b[0mplt\u001b[0m\u001b[1;33m\u001b[0m\u001b[1;33m\u001b[0m\u001b[0m\n\u001b[1;32m---> 10\u001b[1;33m \u001b[1;32mfrom\u001b[0m \u001b[0mcensus\u001b[0m \u001b[1;32mimport\u001b[0m \u001b[0mCensus\u001b[0m\u001b[1;33m\u001b[0m\u001b[1;33m\u001b[0m\u001b[0m\n\u001b[0m\u001b[0;32m     11\u001b[0m \u001b[1;32mfrom\u001b[0m \u001b[0mus\u001b[0m \u001b[1;32mimport\u001b[0m \u001b[0mstates\u001b[0m\u001b[1;33m\u001b[0m\u001b[1;33m\u001b[0m\u001b[0m\n\u001b[0;32m     12\u001b[0m \u001b[1;32mimport\u001b[0m \u001b[0mURI\u001b[0m\u001b[1;33m.\u001b[0m\u001b[0mMISC\u001b[0m\u001b[1;33m.\u001b[0m\u001b[0mparams_1\u001b[0m \u001b[1;32mas\u001b[0m \u001b[0mparams\u001b[0m\u001b[1;33m\u001b[0m\u001b[1;33m\u001b[0m\u001b[0m\n",
      "\u001b[1;31mModuleNotFoundError\u001b[0m: No module named 'census'"
     ]
    },
    {
     "name": "stdout",
     "output_type": "stream",
     "text": [
      "21:20 Pre-process Political Engagement.....\n"
     ]
    },
    {
     "name": "stderr",
     "output_type": "stream",
     "text": [
      "C:\\ProgramData\\Miniconda3\\envs\\URI\\lib\\site-packages\\numpy\\lib\\nanfunctions.py:1111: RuntimeWarning: Mean of empty slice\n",
      "  return np.nanmean(a, axis, out=out, keepdims=keepdims)\n",
      "\\\\surly.mcs.local\\Projects\\CCSI\\TECH\\2020_NYCURI\\Working_Dano\\4_CODE\\URI\\DATA_PROCESSING\\RCA_CC_PE_read_1.py:64: UserWarning: Column names longer than 10 characters will be truncated when saved to ESRI Shapefile.\n",
      "  gdf_tract.to_file(path_output)\n"
     ]
    },
    {
     "name": "stdout",
     "output_type": "stream",
     "text": [
      "Finished calculating RCA factor: Political engagement.\n"
     ]
    }
   ],
   "source": [
    "import URI.MISC.utils_1 as utils\n",
    "utils.set_home()\n",
    "import warnings\n",
    "import datetime\n",
    "warnings.filterwarnings(action='once')\n",
    "\n",
    "print(\"{} Pre-processing Community Infrastructure.....\".format(datetime.datetime.now().strftime(\"%H:%M\")))\n",
    "%run ./4_CODE/URI/DATA_PROCESSING/RCA_CC_CI_read_1.py\n",
    "\n",
    "print(\"{} Pre-processing Education and Outreach.....\".format(datetime.datetime.now().strftime(\"%H:%M\")))\n",
    "%run ./4_CODE/URI/DATA_PROCESSING/RCA_CC_EO_read_1.py\n",
    "\n",
    "print(\"{} Pre-process Place Attachment.....\".format(datetime.datetime.now().strftime(\"%H:%M\")))\n",
    "%run ./4_CODE/URI/DATA_PROCESSING/RCA_CC_PA_read_1.py\n",
    "\n",
    "print(\"{} Pre-process Political Engagement.....\".format(datetime.datetime.now().strftime(\"%H:%M\")))\n",
    "%run ./4_CODE/URI/DATA_PROCESSING/RCA_CC_PE_read_1.py"
   ]
  },
  {
   "cell_type": "markdown",
   "metadata": {},
   "source": [
    "## 2. Mitigation Landscape"
   ]
  },
  {
   "cell_type": "code",
   "execution_count": 7,
   "metadata": {
    "pycharm": {
     "is_executing": false,
     "name": "#%%\n"
    }
   },
   "outputs": [
    {
     "name": "stdout",
     "output_type": "stream",
     "text": [
      "00:42 Pre-processing Mitigation Investments.....\n",
      "Calculating investment per hazard.....Done\n",
      "Finished calculating RCA factor: Mitigation Investment.\n",
      "00:42 Pre-processing Vegetative Cover.....\n",
      "Finished calculating RCA factor: Vegetative Cover.\n",
      "01:33 Pre-process Parks with Water Features.....\n",
      "Calculating...Done\n",
      "Finished calculating RCA factor: park water feature.\n",
      "01:37 Pre-process Presence of Natural Shoreline.....\n",
      "Finished calculating RCA factor: Place attachment.\n",
      "01:51 Pre-process Presence of Green Infrastructure.....\n",
      "Finished calculating RCA factor: Green Infrastructure.\n"
     ]
    },
    {
     "name": "stderr",
     "output_type": "stream",
     "text": [
      "c:\\programdata\\anaconda3\\envs\\geo-env\\lib\\site-packages\\sklearn\\cluster\\_kmeans.py:1105: ConvergenceWarning: Number of distinct clusters (1) found smaller than n_clusters (5). Possibly due to duplicate points in X.\n",
      "  return self.fit(X, sample_weight=sample_weight).labels_\n",
      "WARNING:fiona._env:Normalized/laundered field name: 'Coastal Erosion' to 'Coastal Er'\n",
      "WARNING:fiona._env:Normalized/laundered field name: 'Coastal Storms' to 'Coastal St'\n",
      "WARNING:fiona._env:Normalized/laundered field name: 'Earthquakes' to 'Earthquake'\n",
      "WARNING:fiona._env:Normalized/laundered field name: 'Extreme Heat' to 'Extreme He'\n",
      "WARNING:fiona._env:Normalized/laundered field name: 'Winter Weather' to 'Winter Wea'\n",
      "WARNING:fiona._env:Normalized/laundered field name: 'Winter Storms' to 'Winter Sto'\n",
      "WARNING:fiona._env:Normalized/laundered field name: 'Disease Outbreaks' to 'Disease Ou'\n",
      "WARNING:fiona._env:Normalized/laundered field name: 'Cyber Threats' to 'Cyber Thre'\n",
      "WARNING:fiona._env:Value 127014445.160164207 of field Coastal St of feature 288 not successfully written. Possibly due to too larger number with respect to field width\n",
      "WARNING:fiona._env:Value 125000000 of field Extreme He of feature 288 not successfully written. Possibly due to too larger number with respect to field width\n",
      "WARNING:fiona._env:Value 125000000 of field EXH of feature 288 not successfully written. Possibly due to too larger number with respect to field width\n",
      "WARNING:fiona._env:Value 127014445.160164207 of field CST of feature 288 not successfully written. Possibly due to too larger number with respect to field width\n",
      "WARNING:fiona._env:Value 382799875.19159466 of field Flooding of feature 1111 not successfully written. Possibly due to too larger number with respect to field width\n",
      "WARNING:fiona._env:Value 382799875.19159466 of field FLD of feature 1111 not successfully written. Possibly due to too larger number with respect to field width\n",
      "WARNING:fiona._env:Value 123783589.551764861 of field Flooding of feature 1125 not successfully written. Possibly due to too larger number with respect to field width\n",
      "WARNING:fiona._env:Value 123783589.551764861 of field FLD of feature 1125 not successfully written. Possibly due to too larger number with respect to field width\n",
      "WARNING:fiona._env:Value 354245431.179775298 of field Flooding of feature 1387 not successfully written. Possibly due to too larger number with respect to field width\n",
      "WARNING:fiona._env:Value 354245431.179775298 of field FLD of feature 1387 not successfully written. Possibly due to too larger number with respect to field width\n",
      "WARNING:fiona._env:Value 196629759.602159619 of field area_ft2 of feature 1859 not successfully written. Possibly due to too larger number with respect to field width\n",
      "WARNING:fiona._env:Value 116225036.844661877 of field area_ft2 of feature 2141 not successfully written. Possibly due to too larger number with respect to field width\n",
      "WARNING:fiona._env:Value 105951090.0664915 of field area_ft2 of feature 2156 not successfully written. Possibly due to too larger number with respect to field width\n",
      "c:\\programdata\\anaconda3\\envs\\geo-env\\lib\\site-packages\\xlrd\\xlsx.py:266: PendingDeprecationWarning: This method will be removed in future versions.  Use 'tree.iter()' or 'list(tree.iter())' instead.\n",
      "  for elem in self.tree.iter() if Element_has_iter else self.tree.getiterator():\n",
      "T:\\CCSI\\TECH\\2020_NYCURI\\Working_Dano\\4_CODE\\MISC\\utils_1.py:70: SettingWithCopyWarning: \n",
      "A value is trying to be set on a copy of a slice from a DataFrame\n",
      "\n",
      "See the caveats in the documentation: https://pandas.pydata.org/pandas-docs/stable/user_guide/indexing.html#returning-a-view-versus-a-copy\n",
      "  this_gdf_union.dropna(subset=[column_name], inplace=True)\n",
      "WARNING:fiona._env:Normalized/laundered field name: 'Pct_Veg_Cover_Tract' to 'Pct_Veg_Co'\n",
      "WARNING:fiona._env:Normalized/laundered field name: 'Fraction_Covered' to 'Fraction_C'\n",
      "WARNING:fiona._env:Value 196629759.602159619 of field area_ft2 of feature 1859 not successfully written. Possibly due to too larger number with respect to field width\n",
      "WARNING:fiona._env:Value 116225036.844661877 of field area_ft2 of feature 2141 not successfully written. Possibly due to too larger number with respect to field width\n",
      "WARNING:fiona._env:Value 105951090.0664915 of field area_ft2 of feature 2156 not successfully written. Possibly due to too larger number with respect to field width\n",
      "WARNING:fiona._env:organizePolygons() received an unexpected geometry.  Either a polygon with interior rings, or a polygon with less than 4 points, or a non-Polygon geometry.  Return arguments as a collection.\n",
      "WARNING:fiona._env:Geometry of polygon of fid 1503 cannot be translated to Simple Geometry. All polygons will be contained in a multipolygon.\n",
      "WARNING:fiona._env:organizePolygons() received an unexpected geometry.  Either a polygon with interior rings, or a polygon with less than 4 points, or a non-Polygon geometry.  Return arguments as a collection.\n",
      "WARNING:fiona._env:Geometry of polygon of fid 1505 cannot be translated to Simple Geometry. All polygons will be contained in a multipolygon.\n",
      "WARNING:fiona._env:organizePolygons() received an unexpected geometry.  Either a polygon with interior rings, or a polygon with less than 4 points, or a non-Polygon geometry.  Return arguments as a collection.\n",
      "WARNING:fiona._env:Geometry of polygon of fid 1507 cannot be translated to Simple Geometry. All polygons will be contained in a multipolygon.\n",
      "WARNING:fiona._env:organizePolygons() received an unexpected geometry.  Either a polygon with interior rings, or a polygon with less than 4 points, or a non-Polygon geometry.  Return arguments as a collection.\n",
      "WARNING:fiona._env:Geometry of polygon of fid 1592 cannot be translated to Simple Geometry. All polygons will be contained in a multipolygon.\n",
      "WARNING:fiona._env:organizePolygons() received an unexpected geometry.  Either a polygon with interior rings, or a polygon with less than 4 points, or a non-Polygon geometry.  Return arguments as a collection.\n",
      "WARNING:fiona._env:Geometry of polygon of fid 1683 cannot be translated to Simple Geometry. All polygons will be contained in a multipolygon.\n",
      "WARNING:fiona._env:organizePolygons() received an unexpected geometry.  Either a polygon with interior rings, or a polygon with less than 4 points, or a non-Polygon geometry.  Return arguments as a collection.\n",
      "WARNING:fiona._env:organizePolygons() received an unexpected geometry.  Either a polygon with interior rings, or a polygon with less than 4 points, or a non-Polygon geometry.  Return arguments as a collection.\n",
      "WARNING:fiona._env:Geometry of polygon of fid 1876 cannot be translated to Simple Geometry. All polygons will be contained in a multipolygon.\n",
      "WARNING:fiona._env:organizePolygons() received an unexpected geometry.  Either a polygon with interior rings, or a polygon with less than 4 points, or a non-Polygon geometry.  Return arguments as a collection.\n",
      "WARNING:fiona._env:Geometry of polygon of fid 2107 cannot be translated to Simple Geometry. All polygons will be contained in a multipolygon.\n",
      "WARNING:fiona._env:organizePolygons() received an unexpected geometry.  Either a polygon with interior rings, or a polygon with less than 4 points, or a non-Polygon geometry.  Return arguments as a collection.\n",
      "WARNING:fiona._env:Geometry of polygon of fid 2134 cannot be translated to Simple Geometry. All polygons will be contained in a multipolygon.\n",
      "WARNING:fiona._env:Value 105947920.671000004 of field Shape_Area of feature 2043 not successfully written. Possibly due to too larger number with respect to field width\n",
      "WARNING:fiona._env:Value 116225407.056999996 of field Shape_Area of feature 2074 not successfully written. Possibly due to too larger number with respect to field width\n",
      "WARNING:fiona._env:Value 196149385.823000014 of field Shape_Area of feature 2106 not successfully written. Possibly due to too larger number with respect to field width\n"
     ]
    }
   ],
   "source": [
    "print(\"{} Pre-processing Mitigation Investments.....\".format(datetime.datetime.now().strftime(\"%H:%M\")))\n",
    "%run ./4_CODE/DATA_PROCESSING/RCA_ML_MI_read_1.py\n",
    "\n",
    "print(\"{} Pre-processing Vegetative Cover.....\".format(datetime.datetime.now().strftime(\"%H:%M\")))\n",
    "%run ./4_CODE/DATA_PROCESSING/RCA_ML_VC_read_1.py\n",
    "\n",
    "print(\"{} Pre-process Parks with Water Features.....\".format(datetime.datetime.now().strftime(\"%H:%M\")))\n",
    "%run ./4_CODE/DATA_PROCESSING/RCA_ML_PWF_read_1.py\n",
    "\n",
    "print(\"{} Pre-process Presence of Natural Shoreline.....\".format(datetime.datetime.now().strftime(\"%H:%M\")))\n",
    "%run ./4_CODE/DATA_PROCESSING/RCA_ML_NS_read_1.py\n",
    "\n",
    "print(\"{} Pre-process Presence of Green Infrastructure.....\".format(datetime.datetime.now().strftime(\"%H:%M\")))\n",
    "%run ./4_CODE/DATA_PROCESSING/RCA_ML_GI_read_1.py"
   ]
  },
  {
   "cell_type": "markdown",
   "metadata": {},
   "source": [
    "## 3. Response Capacity"
   ]
  },
  {
   "cell_type": "code",
   "execution_count": 8,
   "metadata": {
    "pycharm": {
     "is_executing": false,
     "name": "#%%\n"
    }
   },
   "outputs": [
    {
     "name": "stdout",
     "output_type": "stream",
     "text": [
      "01:51 Pre-processing Emergency Medical Access.....\n",
      "Finished calculating RCA factor: emergency capacity.\n",
      "01:52 Pre-processing Walkability....\n",
      "Finished calculating RCA factor: walkability.\n",
      "01:52 Pre-process Parks with Bikability.....\n",
      "Finished calculating RCA factor: bikability.\n",
      "01:52 Pre-process Transit.....\n",
      "Finished calculating RCA factor: transit score.\n",
      "01:52 Pre-process Shelter Capacity.....\n",
      "Finished calculating RCA factor: shelter capacity\n",
      "01:56 Pre-process Evacuation Potential.....\n",
      "Finished calculating RCA factor: emergency capacity.\n",
      "01:56 Pre-process Air Conditioning in the Home.....\n",
      "Warning: AC percent is 103.54285714285714, greater than 100 with a population of 1120.0.\n",
      "Warning: AC percent is 285.59951223082004, greater than 100 with a population of 39.0.\n",
      "Finished calculating RC factor AC.\n",
      "01:57 Pre-process Institutional Experience.....\n",
      "Finished calculating RCA factor: Institutional Experience.\n",
      "01:57 Pre-process Cooling Centers.....\n",
      "Calculating.\n",
      ".\n",
      ".\n",
      ".\n",
      ".\n",
      ".\n",
      ".\n",
      ".\n",
      ".\n",
      ".\n",
      ".\n",
      ".\n",
      ".\n",
      ".\n",
      "Finished calculating RCA factor: Cooling Centers.\n"
     ]
    },
    {
     "name": "stderr",
     "output_type": "stream",
     "text": [
      "WARNING:fiona._env:Normalized/laundered field name: 'Distance_HYPO' to 'Distance_H'\n",
      "WARNING:fiona._env:Normalized/laundered field name: 'Distance_TRAUMA' to 'Distance_T'\n",
      "WARNING:fiona._env:Normalized/laundered field name: 'Distance_RECEIVING' to 'Distance_R'\n",
      "WARNING:fiona._env:Normalized/laundered field name: 'transitscore' to 'transitsco'\n",
      "WARNING:fiona._env:organizePolygons() received an unexpected geometry.  Either a polygon with interior rings, or a polygon with less than 4 points, or a non-Polygon geometry.  Return arguments as a collection.\n",
      "WARNING:fiona._env:Geometry of polygon of fid 1503 cannot be translated to Simple Geometry. All polygons will be contained in a multipolygon.\n",
      "WARNING:fiona._env:organizePolygons() received an unexpected geometry.  Either a polygon with interior rings, or a polygon with less than 4 points, or a non-Polygon geometry.  Return arguments as a collection.\n",
      "WARNING:fiona._env:Geometry of polygon of fid 1505 cannot be translated to Simple Geometry. All polygons will be contained in a multipolygon.\n",
      "WARNING:fiona._env:organizePolygons() received an unexpected geometry.  Either a polygon with interior rings, or a polygon with less than 4 points, or a non-Polygon geometry.  Return arguments as a collection.\n",
      "WARNING:fiona._env:Geometry of polygon of fid 1507 cannot be translated to Simple Geometry. All polygons will be contained in a multipolygon.\n",
      "WARNING:fiona._env:organizePolygons() received an unexpected geometry.  Either a polygon with interior rings, or a polygon with less than 4 points, or a non-Polygon geometry.  Return arguments as a collection.\n",
      "WARNING:fiona._env:Geometry of polygon of fid 1592 cannot be translated to Simple Geometry. All polygons will be contained in a multipolygon.\n",
      "WARNING:fiona._env:organizePolygons() received an unexpected geometry.  Either a polygon with interior rings, or a polygon with less than 4 points, or a non-Polygon geometry.  Return arguments as a collection.\n",
      "WARNING:fiona._env:Geometry of polygon of fid 1683 cannot be translated to Simple Geometry. All polygons will be contained in a multipolygon.\n",
      "WARNING:fiona._env:organizePolygons() received an unexpected geometry.  Either a polygon with interior rings, or a polygon with less than 4 points, or a non-Polygon geometry.  Return arguments as a collection.\n",
      "WARNING:fiona._env:organizePolygons() received an unexpected geometry.  Either a polygon with interior rings, or a polygon with less than 4 points, or a non-Polygon geometry.  Return arguments as a collection.\n",
      "WARNING:fiona._env:Geometry of polygon of fid 1876 cannot be translated to Simple Geometry. All polygons will be contained in a multipolygon.\n",
      "WARNING:fiona._env:organizePolygons() received an unexpected geometry.  Either a polygon with interior rings, or a polygon with less than 4 points, or a non-Polygon geometry.  Return arguments as a collection.\n",
      "WARNING:fiona._env:Geometry of polygon of fid 2107 cannot be translated to Simple Geometry. All polygons will be contained in a multipolygon.\n",
      "WARNING:fiona._env:organizePolygons() received an unexpected geometry.  Either a polygon with interior rings, or a polygon with less than 4 points, or a non-Polygon geometry.  Return arguments as a collection.\n",
      "WARNING:fiona._env:Geometry of polygon of fid 2134 cannot be translated to Simple Geometry. All polygons will be contained in a multipolygon.\n",
      "c:\\programdata\\anaconda3\\envs\\geo-env\\lib\\site-packages\\xlrd\\xlsx.py:266: PendingDeprecationWarning: This method will be removed in future versions.  Use 'tree.iter()' or 'list(tree.iter())' instead.\n",
      "  for elem in self.tree.iter() if Element_has_iter else self.tree.getiterator():\n",
      "WARNING:fiona._env:Normalized/laundered field name: 'pop_2010_density' to 'pop_2010_d'\n",
      "WARNING:fiona._env:Normalized/laundered field name: 'LT_capacity_count' to 'LT_capacit'\n",
      "WARNING:fiona._env:Normalized/laundered field name: 'capacity_allocation_per_1000' to 'capacity_a'\n",
      "WARNING:fiona._env:Value 105947920.671000004 of field Shape_Area of feature 2043 not successfully written. Possibly due to too larger number with respect to field width\n",
      "WARNING:fiona._env:Value 105948017.81157124 of field area_ft2 of feature 2043 not successfully written. Possibly due to too larger number with respect to field width\n",
      "WARNING:fiona._env:Value 116225407.056999996 of field Shape_Area of feature 2074 not successfully written. Possibly due to too larger number with respect to field width\n",
      "WARNING:fiona._env:Value 116225340.491160423 of field area_ft2 of feature 2074 not successfully written. Possibly due to too larger number with respect to field width\n",
      "WARNING:fiona._env:Value 196149385.823000014 of field Shape_Area of feature 2106 not successfully written. Possibly due to too larger number with respect to field width\n",
      "WARNING:fiona._env:Value 196149285.554758549 of field area_ft2 of feature 2106 not successfully written. Possibly due to too larger number with respect to field width\n",
      "WARNING:fiona._env:organizePolygons() received an unexpected geometry.  Either a polygon with interior rings, or a polygon with less than 4 points, or a non-Polygon geometry.  Return arguments as a collection.\n",
      "WARNING:fiona._env:Geometry of polygon of fid 1503 cannot be translated to Simple Geometry. All polygons will be contained in a multipolygon.\n",
      "WARNING:fiona._env:organizePolygons() received an unexpected geometry.  Either a polygon with interior rings, or a polygon with less than 4 points, or a non-Polygon geometry.  Return arguments as a collection.\n",
      "WARNING:fiona._env:Geometry of polygon of fid 1505 cannot be translated to Simple Geometry. All polygons will be contained in a multipolygon.\n",
      "WARNING:fiona._env:organizePolygons() received an unexpected geometry.  Either a polygon with interior rings, or a polygon with less than 4 points, or a non-Polygon geometry.  Return arguments as a collection.\n",
      "WARNING:fiona._env:Geometry of polygon of fid 1507 cannot be translated to Simple Geometry. All polygons will be contained in a multipolygon.\n",
      "WARNING:fiona._env:organizePolygons() received an unexpected geometry.  Either a polygon with interior rings, or a polygon with less than 4 points, or a non-Polygon geometry.  Return arguments as a collection.\n",
      "WARNING:fiona._env:Geometry of polygon of fid 1592 cannot be translated to Simple Geometry. All polygons will be contained in a multipolygon.\n",
      "WARNING:fiona._env:organizePolygons() received an unexpected geometry.  Either a polygon with interior rings, or a polygon with less than 4 points, or a non-Polygon geometry.  Return arguments as a collection.\n",
      "WARNING:fiona._env:Geometry of polygon of fid 1683 cannot be translated to Simple Geometry. All polygons will be contained in a multipolygon.\n",
      "WARNING:fiona._env:organizePolygons() received an unexpected geometry.  Either a polygon with interior rings, or a polygon with less than 4 points, or a non-Polygon geometry.  Return arguments as a collection.\n",
      "WARNING:fiona._env:organizePolygons() received an unexpected geometry.  Either a polygon with interior rings, or a polygon with less than 4 points, or a non-Polygon geometry.  Return arguments as a collection.\n",
      "WARNING:fiona._env:Geometry of polygon of fid 1876 cannot be translated to Simple Geometry. All polygons will be contained in a multipolygon.\n",
      "WARNING:fiona._env:organizePolygons() received an unexpected geometry.  Either a polygon with interior rings, or a polygon with less than 4 points, or a non-Polygon geometry.  Return arguments as a collection.\n",
      "WARNING:fiona._env:Geometry of polygon of fid 2107 cannot be translated to Simple Geometry. All polygons will be contained in a multipolygon.\n",
      "WARNING:fiona._env:organizePolygons() received an unexpected geometry.  Either a polygon with interior rings, or a polygon with less than 4 points, or a non-Polygon geometry.  Return arguments as a collection.\n",
      "WARNING:fiona._env:Geometry of polygon of fid 2134 cannot be translated to Simple Geometry. All polygons will be contained in a multipolygon.\n",
      "WARNING:fiona._env:Normalized/laundered field name: 'Distance_Center' to 'Distance_C'\n",
      "WARNING:fiona._env:Value 105947920.671000004 of field Shape_Area of feature 2043 not successfully written. Possibly due to too larger number with respect to field width\n",
      "WARNING:fiona._env:Value 116225407.056999996 of field Shape_Area of feature 2074 not successfully written. Possibly due to too larger number with respect to field width\n",
      "WARNING:fiona._env:Value 196149385.823000014 of field Shape_Area of feature 2106 not successfully written. Possibly due to too larger number with respect to field width\n",
      "T:\\CCSI\\TECH\\2020_NYCURI\\Working_Dano\\4_CODE\\MISC\\utils_1.py:70: SettingWithCopyWarning: \n",
      "A value is trying to be set on a copy of a slice from a DataFrame\n",
      "\n",
      "See the caveats in the documentation: https://pandas.pydata.org/pandas-docs/stable/user_guide/indexing.html#returning-a-view-versus-a-copy\n",
      "  this_gdf_union.dropna(subset=[column_name], inplace=True)\n",
      "WARNING:fiona._env:organizePolygons() received an unexpected geometry.  Either a polygon with interior rings, or a polygon with less than 4 points, or a non-Polygon geometry.  Return arguments as a collection.\n",
      "WARNING:fiona._env:Geometry of polygon of fid 1503 cannot be translated to Simple Geometry. All polygons will be contained in a multipolygon.\n",
      "WARNING:fiona._env:organizePolygons() received an unexpected geometry.  Either a polygon with interior rings, or a polygon with less than 4 points, or a non-Polygon geometry.  Return arguments as a collection.\n",
      "WARNING:fiona._env:Geometry of polygon of fid 1505 cannot be translated to Simple Geometry. All polygons will be contained in a multipolygon.\n",
      "WARNING:fiona._env:organizePolygons() received an unexpected geometry.  Either a polygon with interior rings, or a polygon with less than 4 points, or a non-Polygon geometry.  Return arguments as a collection.\n",
      "WARNING:fiona._env:Geometry of polygon of fid 1507 cannot be translated to Simple Geometry. All polygons will be contained in a multipolygon.\n",
      "WARNING:fiona._env:organizePolygons() received an unexpected geometry.  Either a polygon with interior rings, or a polygon with less than 4 points, or a non-Polygon geometry.  Return arguments as a collection.\n",
      "WARNING:fiona._env:Geometry of polygon of fid 1592 cannot be translated to Simple Geometry. All polygons will be contained in a multipolygon.\n",
      "WARNING:fiona._env:organizePolygons() received an unexpected geometry.  Either a polygon with interior rings, or a polygon with less than 4 points, or a non-Polygon geometry.  Return arguments as a collection.\n",
      "WARNING:fiona._env:Geometry of polygon of fid 1683 cannot be translated to Simple Geometry. All polygons will be contained in a multipolygon.\n",
      "WARNING:fiona._env:organizePolygons() received an unexpected geometry.  Either a polygon with interior rings, or a polygon with less than 4 points, or a non-Polygon geometry.  Return arguments as a collection.\n",
      "WARNING:fiona._env:organizePolygons() received an unexpected geometry.  Either a polygon with interior rings, or a polygon with less than 4 points, or a non-Polygon geometry.  Return arguments as a collection.\n",
      "WARNING:fiona._env:Geometry of polygon of fid 1876 cannot be translated to Simple Geometry. All polygons will be contained in a multipolygon.\n",
      "WARNING:fiona._env:organizePolygons() received an unexpected geometry.  Either a polygon with interior rings, or a polygon with less than 4 points, or a non-Polygon geometry.  Return arguments as a collection.\n",
      "WARNING:fiona._env:Geometry of polygon of fid 2107 cannot be translated to Simple Geometry. All polygons will be contained in a multipolygon.\n",
      "WARNING:fiona._env:organizePolygons() received an unexpected geometry.  Either a polygon with interior rings, or a polygon with less than 4 points, or a non-Polygon geometry.  Return arguments as a collection.\n",
      "WARNING:fiona._env:Geometry of polygon of fid 2134 cannot be translated to Simple Geometry. All polygons will be contained in a multipolygon.\n",
      "c:\\programdata\\anaconda3\\envs\\geo-env\\lib\\site-packages\\xlrd\\xlsx.py:266: PendingDeprecationWarning: This method will be removed in future versions.  Use 'tree.iter()' or 'list(tree.iter())' instead.\n",
      "  for elem in self.tree.iter() if Element_has_iter else self.tree.getiterator():\n",
      "WARNING:fiona._env:Normalized/laundered field name: 'ac_per_post' to 'ac_per_pos'\n",
      "WARNING:fiona._env:organizePolygons() received an unexpected geometry.  Either a polygon with interior rings, or a polygon with less than 4 points, or a non-Polygon geometry.  Return arguments as a collection.\n",
      "WARNING:fiona._env:Geometry of polygon of fid 1503 cannot be translated to Simple Geometry. All polygons will be contained in a multipolygon.\n",
      "WARNING:fiona._env:organizePolygons() received an unexpected geometry.  Either a polygon with interior rings, or a polygon with less than 4 points, or a non-Polygon geometry.  Return arguments as a collection.\n",
      "WARNING:fiona._env:Geometry of polygon of fid 1505 cannot be translated to Simple Geometry. All polygons will be contained in a multipolygon.\n",
      "WARNING:fiona._env:organizePolygons() received an unexpected geometry.  Either a polygon with interior rings, or a polygon with less than 4 points, or a non-Polygon geometry.  Return arguments as a collection.\n",
      "WARNING:fiona._env:Geometry of polygon of fid 1507 cannot be translated to Simple Geometry. All polygons will be contained in a multipolygon.\n",
      "WARNING:fiona._env:organizePolygons() received an unexpected geometry.  Either a polygon with interior rings, or a polygon with less than 4 points, or a non-Polygon geometry.  Return arguments as a collection.\n",
      "WARNING:fiona._env:Geometry of polygon of fid 1592 cannot be translated to Simple Geometry. All polygons will be contained in a multipolygon.\n",
      "WARNING:fiona._env:organizePolygons() received an unexpected geometry.  Either a polygon with interior rings, or a polygon with less than 4 points, or a non-Polygon geometry.  Return arguments as a collection.\n",
      "WARNING:fiona._env:Geometry of polygon of fid 1683 cannot be translated to Simple Geometry. All polygons will be contained in a multipolygon.\n",
      "WARNING:fiona._env:organizePolygons() received an unexpected geometry.  Either a polygon with interior rings, or a polygon with less than 4 points, or a non-Polygon geometry.  Return arguments as a collection.\n",
      "WARNING:fiona._env:organizePolygons() received an unexpected geometry.  Either a polygon with interior rings, or a polygon with less than 4 points, or a non-Polygon geometry.  Return arguments as a collection.\n",
      "WARNING:fiona._env:Geometry of polygon of fid 1876 cannot be translated to Simple Geometry. All polygons will be contained in a multipolygon.\n",
      "WARNING:fiona._env:organizePolygons() received an unexpected geometry.  Either a polygon with interior rings, or a polygon with less than 4 points, or a non-Polygon geometry.  Return arguments as a collection.\n",
      "WARNING:fiona._env:Geometry of polygon of fid 2107 cannot be translated to Simple Geometry. All polygons will be contained in a multipolygon.\n",
      "WARNING:fiona._env:organizePolygons() received an unexpected geometry.  Either a polygon with interior rings, or a polygon with less than 4 points, or a non-Polygon geometry.  Return arguments as a collection.\n",
      "WARNING:fiona._env:Geometry of polygon of fid 2134 cannot be translated to Simple Geometry. All polygons will be contained in a multipolygon.\n",
      "c:\\programdata\\anaconda3\\envs\\geo-env\\lib\\site-packages\\xlrd\\xlsx.py:266: PendingDeprecationWarning: This method will be removed in future versions.  Use 'tree.iter()' or 'list(tree.iter())' instead.\n",
      "  for elem in self.tree.iter() if Element_has_iter else self.tree.getiterator():\n",
      "WARNING:fiona._env:Normalized/laundered field name: 'EOC_Duration_days_EXH' to 'EOC_Durati'\n",
      "WARNING:fiona._env:Normalized/laundered field name: 'EOC_Duration_days_WIW' to 'EOC_Dura_1'\n",
      "WARNING:fiona._env:Normalized/laundered field name: 'EOC_Duration_days_CST' to 'EOC_Dura_2'\n",
      "WARNING:fiona._env:Normalized/laundered field name: 'EOC_Duration_days_CER' to 'EOC_Dura_3'\n",
      "WARNING:fiona._env:Normalized/laundered field name: 'EOC_Duration_days_CYB' to 'EOC_Dura_4'\n",
      "WARNING:fiona._env:Normalized/laundered field name: 'EOC_Duration_days_RES' to 'EOC_Dura_5'\n",
      "WARNING:fiona._env:Normalized/laundered field name: 'EOC_Duration_days_EMG' to 'EOC_Dura_6'\n",
      "WARNING:fiona._env:Normalized/laundered field name: 'EOC_Duration_days_CRN' to 'EOC_Dura_7'\n",
      "WARNING:fiona._env:Normalized/laundered field name: 'EOC_Duration_days_HIW' to 'EOC_Dura_8'\n",
      "WARNING:fiona._env:Normalized/laundered field name: 'EOC_Duration_days_ERQ' to 'EOC_Dura_9'\n",
      "WARNING:fiona._env:Normalized/laundered field name: 'EOC_Duration_days_FLD' to 'EOC_Dura10'\n",
      "WARNING:fiona._env:Value 105947920.671000004 of field Shape_Area of feature 2043 not successfully written. Possibly due to too larger number with respect to field width\n",
      "WARNING:fiona._env:Value 116225407.056999996 of field Shape_Area of feature 2074 not successfully written. Possibly due to too larger number with respect to field width\n",
      "WARNING:fiona._env:Value 196149385.823000014 of field Shape_Area of feature 2106 not successfully written. Possibly due to too larger number with respect to field width\n",
      "WARNING:fiona._env:organizePolygons() received an unexpected geometry.  Either a polygon with interior rings, or a polygon with less than 4 points, or a non-Polygon geometry.  Return arguments as a collection.\n",
      "WARNING:fiona._env:Geometry of polygon of fid 1503 cannot be translated to Simple Geometry. All polygons will be contained in a multipolygon.\n",
      "WARNING:fiona._env:organizePolygons() received an unexpected geometry.  Either a polygon with interior rings, or a polygon with less than 4 points, or a non-Polygon geometry.  Return arguments as a collection.\n",
      "WARNING:fiona._env:Geometry of polygon of fid 1505 cannot be translated to Simple Geometry. All polygons will be contained in a multipolygon.\n",
      "WARNING:fiona._env:organizePolygons() received an unexpected geometry.  Either a polygon with interior rings, or a polygon with less than 4 points, or a non-Polygon geometry.  Return arguments as a collection.\n",
      "WARNING:fiona._env:Geometry of polygon of fid 1507 cannot be translated to Simple Geometry. All polygons will be contained in a multipolygon.\n",
      "WARNING:fiona._env:organizePolygons() received an unexpected geometry.  Either a polygon with interior rings, or a polygon with less than 4 points, or a non-Polygon geometry.  Return arguments as a collection.\n",
      "WARNING:fiona._env:Geometry of polygon of fid 1592 cannot be translated to Simple Geometry. All polygons will be contained in a multipolygon.\n",
      "WARNING:fiona._env:organizePolygons() received an unexpected geometry.  Either a polygon with interior rings, or a polygon with less than 4 points, or a non-Polygon geometry.  Return arguments as a collection.\n",
      "WARNING:fiona._env:Geometry of polygon of fid 1683 cannot be translated to Simple Geometry. All polygons will be contained in a multipolygon.\n",
      "WARNING:fiona._env:organizePolygons() received an unexpected geometry.  Either a polygon with interior rings, or a polygon with less than 4 points, or a non-Polygon geometry.  Return arguments as a collection.\n",
      "WARNING:fiona._env:organizePolygons() received an unexpected geometry.  Either a polygon with interior rings, or a polygon with less than 4 points, or a non-Polygon geometry.  Return arguments as a collection.\n",
      "WARNING:fiona._env:Geometry of polygon of fid 1876 cannot be translated to Simple Geometry. All polygons will be contained in a multipolygon.\n",
      "WARNING:fiona._env:organizePolygons() received an unexpected geometry.  Either a polygon with interior rings, or a polygon with less than 4 points, or a non-Polygon geometry.  Return arguments as a collection.\n",
      "WARNING:fiona._env:Geometry of polygon of fid 2107 cannot be translated to Simple Geometry. All polygons will be contained in a multipolygon.\n",
      "WARNING:fiona._env:organizePolygons() received an unexpected geometry.  Either a polygon with interior rings, or a polygon with less than 4 points, or a non-Polygon geometry.  Return arguments as a collection.\n",
      "WARNING:fiona._env:Geometry of polygon of fid 2134 cannot be translated to Simple Geometry. All polygons will be contained in a multipolygon.\n",
      "WARNING:fiona._env:Normalized/laundered field name: 'Fraction_Covered' to 'Fraction_C'\n",
      "WARNING:fiona._env:Value 105947920.671000004 of field Shape_Area of feature 2043 not successfully written. Possibly due to too larger number with respect to field width\n",
      "WARNING:fiona._env:Value 105948017.81157124 of field area_ft2 of feature 2043 not successfully written. Possibly due to too larger number with respect to field width\n",
      "WARNING:fiona._env:Value 116225407.056999996 of field Shape_Area of feature 2074 not successfully written. Possibly due to too larger number with respect to field width\n",
      "WARNING:fiona._env:Value 116225340.491160423 of field area_ft2 of feature 2074 not successfully written. Possibly due to too larger number with respect to field width\n",
      "WARNING:fiona._env:Value 196149385.823000014 of field Shape_Area of feature 2106 not successfully written. Possibly due to too larger number with respect to field width\n",
      "WARNING:fiona._env:Value 196149285.554758549 of field area_ft2 of feature 2106 not successfully written. Possibly due to too larger number with respect to field width\n"
     ]
    }
   ],
   "source": [
    "print(\"{} Pre-processing Emergency Medical Access.....\".format(datetime.datetime.now().strftime(\"%H:%M\")))\n",
    "%run ./4_CODE/DATA_PROCESSING/RCA_RC_EMA_read_1.py\n",
    "\n",
    "print(\"{} Pre-processing Walkability....\".format(datetime.datetime.now().strftime(\"%H:%M\")))\n",
    "%run ./4_CODE/DATA_PROCESSING/RCA_RC_WA_read_1.py\n",
    "\n",
    "print(\"{} Pre-process Parks with Bikability.....\".format(datetime.datetime.now().strftime(\"%H:%M\")))\n",
    "%run ./4_CODE/DATA_PROCESSING/RCA_RC_BI_read_1.py\n",
    "\n",
    "print(\"{} Pre-process Transit.....\".format(datetime.datetime.now().strftime(\"%H:%M\")))\n",
    "%run ./4_CODE/DATA_PROCESSING/RCA_RC_TR_read_1.py\n",
    "\n",
    "print(\"{} Pre-process Shelter Capacity.....\".format(datetime.datetime.now().strftime(\"%H:%M\")))\n",
    "%run ./4_CODE/DATA_PROCESSING/RCA_RC_SC_read_1.py\n",
    "\n",
    "print(\"{} Pre-process Evacuation Potential.....\".format(datetime.datetime.now().strftime(\"%H:%M\")))\n",
    "%run ./4_CODE/DATA_PROCESSING/RCA_RC_EP_read_1.py\n",
    "\n",
    "print(\"{} Pre-process Air Conditioning in the Home.....\".format(datetime.datetime.now().strftime(\"%H:%M\")))\n",
    "%run ./4_CODE/DATA_PROCESSING/RCA_RC_AC_read_1.py\n",
    "\n",
    "print(\"{} Pre-process Institutional Experience.....\".format(datetime.datetime.now().strftime(\"%H:%M\")))\n",
    "%run ./4_CODE/DATA_PROCESSING/RCA_RC_INE_read_1.py\n",
    "\n",
    "print(\"{} Pre-process Cooling Centers.....\".format(datetime.datetime.now().strftime(\"%H:%M\")))\n",
    "%run ./4_CODE/DATA_PROCESSING/RCA_RC_CC_read_1.py"
   ]
  },
  {
   "cell_type": "markdown",
   "metadata": {},
   "source": [
    "## 4. Recovery Resources"
   ]
  },
  {
   "cell_type": "code",
   "execution_count": 9,
   "metadata": {
    "pycharm": {
     "is_executing": false,
     "name": "#%%\n"
    }
   },
   "outputs": [
    {
     "name": "stdout",
     "output_type": "stream",
     "text": [
      "02:00 Pre-processing Median Household Income.....\n",
      "Finished calculating RCA factor: median household income.\n",
      "02:01 Pre-processing Health Insurance Coverage....\n",
      "Finished calculating RCA factor: percent insured.\n",
      "02:01 Pre-process Income Inequality.....\n",
      "Finished calculating RCA factor: Gini Coefficient.\n",
      "02:01 Pre-process Flood Insurance Coverage.....\n",
      "Begin Join\n",
      "Warning: more policies than buildings with 37.0 policies and 29.0 buildings.\n",
      "Finished calculating RR factor FP.\n",
      "02:05 Pre-process Home Ownership.....\n",
      "Finished calculating RCA factor: Home ownership.\n"
     ]
    },
    {
     "name": "stderr",
     "output_type": "stream",
     "text": [
      "c:\\programdata\\anaconda3\\envs\\geo-env\\lib\\site-packages\\xlrd\\xlsx.py:266: PendingDeprecationWarning: This method will be removed in future versions.  Use 'tree.iter()' or 'list(tree.iter())' instead.\n",
      "  for elem in self.tree.iter() if Element_has_iter else self.tree.getiterator():\n",
      "WARNING:fiona._env:Normalized/laundered field name: 'FIPS_CT_txt' to 'FIPS_CT_tx'\n",
      "c:\\programdata\\anaconda3\\envs\\geo-env\\lib\\site-packages\\xlrd\\xlsx.py:266: PendingDeprecationWarning: This method will be removed in future versions.  Use 'tree.iter()' or 'list(tree.iter())' instead.\n",
      "  for elem in self.tree.iter() if Element_has_iter else self.tree.getiterator():\n",
      "WARNING:fiona._env:Normalized/laundered field name: 'FIPS_CT_txt' to 'FIPS_CT_tx'\n",
      "WARNING:fiona._env:organizePolygons() received an unexpected geometry.  Either a polygon with interior rings, or a polygon with less than 4 points, or a non-Polygon geometry.  Return arguments as a collection.\n",
      "WARNING:fiona._env:Geometry of polygon of fid 1503 cannot be translated to Simple Geometry. All polygons will be contained in a multipolygon.\n",
      "WARNING:fiona._env:organizePolygons() received an unexpected geometry.  Either a polygon with interior rings, or a polygon with less than 4 points, or a non-Polygon geometry.  Return arguments as a collection.\n",
      "WARNING:fiona._env:Geometry of polygon of fid 1505 cannot be translated to Simple Geometry. All polygons will be contained in a multipolygon.\n",
      "WARNING:fiona._env:organizePolygons() received an unexpected geometry.  Either a polygon with interior rings, or a polygon with less than 4 points, or a non-Polygon geometry.  Return arguments as a collection.\n",
      "WARNING:fiona._env:Geometry of polygon of fid 1507 cannot be translated to Simple Geometry. All polygons will be contained in a multipolygon.\n",
      "WARNING:fiona._env:organizePolygons() received an unexpected geometry.  Either a polygon with interior rings, or a polygon with less than 4 points, or a non-Polygon geometry.  Return arguments as a collection.\n",
      "WARNING:fiona._env:Geometry of polygon of fid 1592 cannot be translated to Simple Geometry. All polygons will be contained in a multipolygon.\n",
      "WARNING:fiona._env:organizePolygons() received an unexpected geometry.  Either a polygon with interior rings, or a polygon with less than 4 points, or a non-Polygon geometry.  Return arguments as a collection.\n",
      "WARNING:fiona._env:Geometry of polygon of fid 1683 cannot be translated to Simple Geometry. All polygons will be contained in a multipolygon.\n",
      "WARNING:fiona._env:organizePolygons() received an unexpected geometry.  Either a polygon with interior rings, or a polygon with less than 4 points, or a non-Polygon geometry.  Return arguments as a collection.\n",
      "WARNING:fiona._env:organizePolygons() received an unexpected geometry.  Either a polygon with interior rings, or a polygon with less than 4 points, or a non-Polygon geometry.  Return arguments as a collection.\n",
      "WARNING:fiona._env:Geometry of polygon of fid 1876 cannot be translated to Simple Geometry. All polygons will be contained in a multipolygon.\n",
      "WARNING:fiona._env:organizePolygons() received an unexpected geometry.  Either a polygon with interior rings, or a polygon with less than 4 points, or a non-Polygon geometry.  Return arguments as a collection.\n",
      "WARNING:fiona._env:Geometry of polygon of fid 2107 cannot be translated to Simple Geometry. All polygons will be contained in a multipolygon.\n",
      "WARNING:fiona._env:organizePolygons() received an unexpected geometry.  Either a polygon with interior rings, or a polygon with less than 4 points, or a non-Polygon geometry.  Return arguments as a collection.\n",
      "WARNING:fiona._env:Geometry of polygon of fid 2134 cannot be translated to Simple Geometry. All polygons will be contained in a multipolygon.\n",
      "WARNING:fiona._env:Value -666666666 of field gini of feature 589 not successfully written. Possibly due to too larger number with respect to field width\n",
      "WARNING:fiona._env:Value -666666666 of field gini of feature 624 not successfully written. Possibly due to too larger number with respect to field width\n",
      "WARNING:fiona._env:Value -666666666 of field gini of feature 761 not successfully written. Possibly due to too larger number with respect to field width\n",
      "WARNING:fiona._env:Value -666666666 of field gini of feature 878 not successfully written. Possibly due to too larger number with respect to field width\n",
      "WARNING:fiona._env:Value -666666666 of field gini of feature 885 not successfully written. Possibly due to too larger number with respect to field width\n",
      "WARNING:fiona._env:Value -666666666 of field gini of feature 982 not successfully written. Possibly due to too larger number with respect to field width\n",
      "WARNING:fiona._env:Value -666666666 of field gini of feature 1036 not successfully written. Possibly due to too larger number with respect to field width\n",
      "WARNING:fiona._env:Value -666666666 of field gini of feature 1195 not successfully written. Possibly due to too larger number with respect to field width\n",
      "WARNING:fiona._env:Value -666666666 of field gini of feature 1296 not successfully written. Possibly due to too larger number with respect to field width\n",
      "WARNING:fiona._env:Value -666666666 of field gini of feature 1302 not successfully written. Possibly due to too larger number with respect to field width\n",
      "WARNING:fiona._env:Value -666666666 of field gini of feature 1313 not successfully written. Possibly due to too larger number with respect to field width\n",
      "WARNING:fiona._env:Value -666666666 of field gini of feature 1360 not successfully written. Possibly due to too larger number with respect to field width\n",
      "WARNING:fiona._env:Value -666666666 of field gini of feature 1371 not successfully written. Possibly due to too larger number with respect to field width\n",
      "WARNING:fiona._env:Value -666666666 of field gini of feature 1375 not successfully written. Possibly due to too larger number with respect to field width\n",
      "WARNING:fiona._env:Value -666666666 of field gini of feature 1409 not successfully written. Possibly due to too larger number with respect to field width\n",
      "WARNING:fiona._env:Value -666666666 of field gini of feature 1422 not successfully written. Possibly due to too larger number with respect to field width\n",
      "WARNING:fiona._env:Value -666666666 of field gini of feature 1494 not successfully written. Possibly due to too larger number with respect to field width\n",
      "WARNING:fiona._env:Value -666666666 of field gini of feature 1497 not successfully written. Possibly due to too larger number with respect to field width\n",
      "WARNING:fiona._env:Value -666666666 of field gini of feature 1534 not successfully written. Possibly due to too larger number with respect to field width\n",
      "WARNING:fiona._env:Value -666666666 of field gini of feature 1537 not successfully written. Possibly due to too larger number with respect to field width\n",
      "WARNING:fiona._env:Value -666666666 of field gini of feature 1592 not successfully written. Possibly due to too larger number with respect to field width\n",
      "WARNING:fiona._env:Value -666666666 of field gini of feature 1602 not successfully written. Possibly due to too larger number with respect to field width\n",
      "WARNING:fiona._env:Value -666666666 of field gini of feature 1637 not successfully written. Possibly due to too larger number with respect to field width\n",
      "WARNING:fiona._env:Value -666666666 of field gini of feature 1671 not successfully written. Possibly due to too larger number with respect to field width\n",
      "WARNING:fiona._env:Value -666666666 of field gini of feature 1675 not successfully written. Possibly due to too larger number with respect to field width\n",
      "WARNING:fiona._env:Value -666666666 of field gini of feature 1774 not successfully written. Possibly due to too larger number with respect to field width\n",
      "WARNING:fiona._env:Value -666666666 of field gini of feature 1791 not successfully written. Possibly due to too larger number with respect to field width\n",
      "WARNING:fiona._env:Value -666666666 of field gini of feature 1822 not successfully written. Possibly due to too larger number with respect to field width\n",
      "WARNING:fiona._env:Value -666666666 of field gini of feature 1874 not successfully written. Possibly due to too larger number with respect to field width\n",
      "WARNING:fiona._env:Value -666666666 of field gini of feature 1888 not successfully written. Possibly due to too larger number with respect to field width\n",
      "WARNING:fiona._env:Value -666666666 of field gini of feature 1903 not successfully written. Possibly due to too larger number with respect to field width\n",
      "WARNING:fiona._env:Value -666666666 of field gini of feature 1905 not successfully written. Possibly due to too larger number with respect to field width\n",
      "WARNING:fiona._env:Value -666666666 of field gini of feature 1908 not successfully written. Possibly due to too larger number with respect to field width\n",
      "WARNING:fiona._env:Value -666666666 of field gini of feature 1909 not successfully written. Possibly due to too larger number with respect to field width\n",
      "WARNING:fiona._env:Value -666666666 of field gini of feature 1910 not successfully written. Possibly due to too larger number with respect to field width\n",
      "WARNING:fiona._env:Value -666666666 of field gini of feature 1943 not successfully written. Possibly due to too larger number with respect to field width\n",
      "WARNING:fiona._env:Value -666666666 of field gini of feature 1956 not successfully written. Possibly due to too larger number with respect to field width\n",
      "WARNING:fiona._env:Value -666666666 of field gini of feature 1961 not successfully written. Possibly due to too larger number with respect to field width\n",
      "WARNING:fiona._env:Value -666666666 of field gini of feature 1968 not successfully written. Possibly due to too larger number with respect to field width\n",
      "WARNING:fiona._env:Value -666666666 of field gini of feature 1975 not successfully written. Possibly due to too larger number with respect to field width\n",
      "WARNING:fiona._env:Value -666666666 of field gini of feature 1998 not successfully written. Possibly due to too larger number with respect to field width\n",
      "WARNING:fiona._env:Value -666666666 of field gini of feature 2014 not successfully written. Possibly due to too larger number with respect to field width\n",
      "WARNING:fiona._env:Value -666666666 of field gini of feature 2023 not successfully written. Possibly due to too larger number with respect to field width\n",
      "WARNING:fiona._env:Value -666666666 of field gini of feature 2027 not successfully written. Possibly due to too larger number with respect to field width\n",
      "WARNING:fiona._env:Value -666666666 of field gini of feature 2028 not successfully written. Possibly due to too larger number with respect to field width\n",
      "WARNING:fiona._env:Value 105947920.671000004 of field Shape_Area of feature 2043 not successfully written. Possibly due to too larger number with respect to field width\n",
      "WARNING:fiona._env:Value 116225407.056999996 of field Shape_Area of feature 2074 not successfully written. Possibly due to too larger number with respect to field width\n",
      "WARNING:fiona._env:Value -666666666 of field gini of feature 2074 not successfully written. Possibly due to too larger number with respect to field width\n",
      "WARNING:fiona._env:Value -666666666 of field gini of feature 2095 not successfully written. Possibly due to too larger number with respect to field width\n",
      "WARNING:fiona._env:Value 196149385.823000014 of field Shape_Area of feature 2106 not successfully written. Possibly due to too larger number with respect to field width\n",
      "WARNING:fiona._env:Value -666666666 of field gini of feature 2106 not successfully written. Possibly due to too larger number with respect to field width\n",
      "WARNING:fiona._env:Value -666666666 of field gini of feature 2108 not successfully written. Possibly due to too larger number with respect to field width\n",
      "WARNING:fiona._env:Value -666666666 of field gini of feature 2109 not successfully written. Possibly due to too larger number with respect to field width\n",
      "WARNING:fiona._env:Value -666666666 of field gini of feature 2121 not successfully written. Possibly due to too larger number with respect to field width\n",
      "WARNING:fiona._env:Value -666666666 of field gini of feature 2133 not successfully written. Possibly due to too larger number with respect to field width\n",
      "WARNING:fiona._env:Value -666666666 of field gini of feature 2161 not successfully written. Possibly due to too larger number with respect to field width\n",
      "WARNING:fiona._env:organizePolygons() received an unexpected geometry.  Either a polygon with interior rings, or a polygon with less than 4 points, or a non-Polygon geometry.  Return arguments as a collection.\n",
      "WARNING:fiona._env:Geometry of polygon of fid 1503 cannot be translated to Simple Geometry. All polygons will be contained in a multipolygon.\n",
      "WARNING:fiona._env:organizePolygons() received an unexpected geometry.  Either a polygon with interior rings, or a polygon with less than 4 points, or a non-Polygon geometry.  Return arguments as a collection.\n",
      "WARNING:fiona._env:Geometry of polygon of fid 1505 cannot be translated to Simple Geometry. All polygons will be contained in a multipolygon.\n",
      "WARNING:fiona._env:organizePolygons() received an unexpected geometry.  Either a polygon with interior rings, or a polygon with less than 4 points, or a non-Polygon geometry.  Return arguments as a collection.\n",
      "WARNING:fiona._env:Geometry of polygon of fid 1507 cannot be translated to Simple Geometry. All polygons will be contained in a multipolygon.\n",
      "WARNING:fiona._env:organizePolygons() received an unexpected geometry.  Either a polygon with interior rings, or a polygon with less than 4 points, or a non-Polygon geometry.  Return arguments as a collection.\n",
      "WARNING:fiona._env:Geometry of polygon of fid 1592 cannot be translated to Simple Geometry. All polygons will be contained in a multipolygon.\n",
      "WARNING:fiona._env:organizePolygons() received an unexpected geometry.  Either a polygon with interior rings, or a polygon with less than 4 points, or a non-Polygon geometry.  Return arguments as a collection.\n",
      "WARNING:fiona._env:Geometry of polygon of fid 1683 cannot be translated to Simple Geometry. All polygons will be contained in a multipolygon.\n",
      "WARNING:fiona._env:organizePolygons() received an unexpected geometry.  Either a polygon with interior rings, or a polygon with less than 4 points, or a non-Polygon geometry.  Return arguments as a collection.\n",
      "WARNING:fiona._env:organizePolygons() received an unexpected geometry.  Either a polygon with interior rings, or a polygon with less than 4 points, or a non-Polygon geometry.  Return arguments as a collection.\n",
      "WARNING:fiona._env:Geometry of polygon of fid 1876 cannot be translated to Simple Geometry. All polygons will be contained in a multipolygon.\n",
      "WARNING:fiona._env:organizePolygons() received an unexpected geometry.  Either a polygon with interior rings, or a polygon with less than 4 points, or a non-Polygon geometry.  Return arguments as a collection.\n",
      "WARNING:fiona._env:Geometry of polygon of fid 2107 cannot be translated to Simple Geometry. All polygons will be contained in a multipolygon.\n",
      "WARNING:fiona._env:organizePolygons() received an unexpected geometry.  Either a polygon with interior rings, or a polygon with less than 4 points, or a non-Polygon geometry.  Return arguments as a collection.\n",
      "WARNING:fiona._env:Geometry of polygon of fid 2134 cannot be translated to Simple Geometry. All polygons will be contained in a multipolygon.\n",
      "c:\\programdata\\anaconda3\\envs\\geo-env\\lib\\site-packages\\numpy\\lib\\function_base.py:2167: RuntimeWarning: invalid value encountered in ? (vectorized)\n",
      "  outputs = ufunc(*inputs)\n",
      "WARNING:fiona._env:Normalized/laundered field name: 'Building_Count' to 'Building_C'\n",
      "WARNING:fiona._env:Normalized/laundered field name: 'Policy_Count' to 'Policy_Cou'\n",
      "WARNING:fiona._env:Normalized/laundered field name: 'Percent_Coverage' to 'Percent_Co'\n",
      "WARNING:fiona._env:Value 105947920.671000004 of field Shape_Area of feature 2043 not successfully written. Possibly due to too larger number with respect to field width\n",
      "WARNING:fiona._env:Value 116225407.056999996 of field Shape_Area of feature 2074 not successfully written. Possibly due to too larger number with respect to field width\n",
      "WARNING:fiona._env:Value 196149385.823000014 of field Shape_Area of feature 2106 not successfully written. Possibly due to too larger number with respect to field width\n",
      "WARNING:fiona._env:organizePolygons() received an unexpected geometry.  Either a polygon with interior rings, or a polygon with less than 4 points, or a non-Polygon geometry.  Return arguments as a collection.\n",
      "WARNING:fiona._env:Geometry of polygon of fid 1503 cannot be translated to Simple Geometry. All polygons will be contained in a multipolygon.\n",
      "WARNING:fiona._env:organizePolygons() received an unexpected geometry.  Either a polygon with interior rings, or a polygon with less than 4 points, or a non-Polygon geometry.  Return arguments as a collection.\n",
      "WARNING:fiona._env:Geometry of polygon of fid 1505 cannot be translated to Simple Geometry. All polygons will be contained in a multipolygon.\n",
      "WARNING:fiona._env:organizePolygons() received an unexpected geometry.  Either a polygon with interior rings, or a polygon with less than 4 points, or a non-Polygon geometry.  Return arguments as a collection.\n",
      "WARNING:fiona._env:Geometry of polygon of fid 1507 cannot be translated to Simple Geometry. All polygons will be contained in a multipolygon.\n",
      "WARNING:fiona._env:organizePolygons() received an unexpected geometry.  Either a polygon with interior rings, or a polygon with less than 4 points, or a non-Polygon geometry.  Return arguments as a collection.\n",
      "WARNING:fiona._env:Geometry of polygon of fid 1592 cannot be translated to Simple Geometry. All polygons will be contained in a multipolygon.\n",
      "WARNING:fiona._env:organizePolygons() received an unexpected geometry.  Either a polygon with interior rings, or a polygon with less than 4 points, or a non-Polygon geometry.  Return arguments as a collection.\n",
      "WARNING:fiona._env:Geometry of polygon of fid 1683 cannot be translated to Simple Geometry. All polygons will be contained in a multipolygon.\n",
      "WARNING:fiona._env:organizePolygons() received an unexpected geometry.  Either a polygon with interior rings, or a polygon with less than 4 points, or a non-Polygon geometry.  Return arguments as a collection.\n",
      "WARNING:fiona._env:organizePolygons() received an unexpected geometry.  Either a polygon with interior rings, or a polygon with less than 4 points, or a non-Polygon geometry.  Return arguments as a collection.\n",
      "WARNING:fiona._env:Geometry of polygon of fid 1876 cannot be translated to Simple Geometry. All polygons will be contained in a multipolygon.\n",
      "WARNING:fiona._env:organizePolygons() received an unexpected geometry.  Either a polygon with interior rings, or a polygon with less than 4 points, or a non-Polygon geometry.  Return arguments as a collection.\n",
      "WARNING:fiona._env:Geometry of polygon of fid 2107 cannot be translated to Simple Geometry. All polygons will be contained in a multipolygon.\n",
      "WARNING:fiona._env:organizePolygons() received an unexpected geometry.  Either a polygon with interior rings, or a polygon with less than 4 points, or a non-Polygon geometry.  Return arguments as a collection.\n",
      "WARNING:fiona._env:Geometry of polygon of fid 2134 cannot be translated to Simple Geometry. All polygons will be contained in a multipolygon.\n",
      "WARNING:fiona._env:Normalized/laundered field name: 'percent_home_owner' to 'percent_ho'\n",
      "WARNING:fiona._env:Value 105947920.671000004 of field Shape_Area of feature 2043 not successfully written. Possibly due to too larger number with respect to field width\n",
      "WARNING:fiona._env:Value 116225407.056999996 of field Shape_Area of feature 2074 not successfully written. Possibly due to too larger number with respect to field width\n",
      "WARNING:fiona._env:Value 196149385.823000014 of field Shape_Area of feature 2106 not successfully written. Possibly due to too larger number with respect to field width\n"
     ]
    }
   ],
   "source": [
    "print(\"{} Pre-processing Median Household Income.....\".format(datetime.datetime.now().strftime(\"%H:%M\")))\n",
    "%run ./4_CODE/DATA_PROCESSING/RCA_RR_MHI_read_1.py\n",
    "\n",
    "print(\"{} Pre-processing Health Insurance Coverage....\".format(datetime.datetime.now().strftime(\"%H:%M\")))\n",
    "%run ./4_CODE/DATA_PROCESSING/RCA_RR_HIC_read_1.py\n",
    "\n",
    "print(\"{} Pre-process Income Inequality.....\".format(datetime.datetime.now().strftime(\"%H:%M\")))\n",
    "%run ./4_CODE/DATA_PROCESSING/RCA_RR_IE_read_1.py\n",
    "\n",
    "print(\"{} Pre-process Flood Insurance Coverage.....\".format(datetime.datetime.now().strftime(\"%H:%M\")))\n",
    "%run ./4_CODE/DATA_PROCESSING/RCA_RR_FP_read_1.py\n",
    "\n",
    "print(\"{} Pre-process Home Ownership.....\".format(datetime.datetime.now().strftime(\"%H:%M\")))\n",
    "%run ./4_CODE/DATA_PROCESSING/RCA_RR_HO_read_1.py"
   ]
  },
  {
   "cell_type": "code",
   "execution_count": 10,
   "metadata": {
    "pycharm": {
     "is_executing": false,
     "name": "#%% \n"
    }
   },
   "outputs": [
    {
     "name": "stdout",
     "output_type": "stream",
     "text": [
      "02:05 Complete\n"
     ]
    }
   ],
   "source": [
    "print(\"{} Complete\".format(datetime.datetime.now().strftime(\"%H:%M\")))\n",
    "\n",
    "\n",
    "\n",
    "\n",
    "\n",
    "\n"
   ]
  }
 ],
 "metadata": {
  "kernelspec": {
   "display_name": "Python 3",
   "language": "python",
   "name": "python3"
  },
  "language_info": {
   "codemirror_mode": {
    "name": "ipython",
    "version": 3
   },
   "file_extension": ".py",
   "mimetype": "text/x-python",
   "name": "python",
   "nbconvert_exporter": "python",
   "pygments_lexer": "ipython3",
   "version": "3.9.1"
  },
  "pycharm": {
   "stem_cell": {
    "cell_type": "raw",
    "metadata": {
     "collapsed": false
    },
    "source": []
   }
  }
 },
 "nbformat": 4,
 "nbformat_minor": 1
}

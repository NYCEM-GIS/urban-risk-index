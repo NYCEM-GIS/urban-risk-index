{
 "cells": [
  {
   "cell_type": "markdown",
   "metadata": {},
   "source": [
    "# Calculate URI\n",
    "This notebook runs the jupyter notebook for 1 or more hazard."
   ]
  },
  {
   "cell_type": "markdown",
   "metadata": {},
   "source": [
    "## Settings"
   ]
  },
  {
   "cell_type": "code",
   "execution_count": 5,
   "metadata": {
    "pycharm": {
     "is_executing": false,
     "name": "#%%\n"
    }
   },
   "outputs": [],
   "source": [
    "import URI.MISC.utils_1 as utils\n",
    "import URI.MISC.params_1 as params\n",
    "import URI.CALCULATE.ESL_Calculate_1 as ESL_Calculate\n",
    "import URI.CALCULATE.SOV_Calculate_1 as SOV_Calculate\n",
    "import URI.CALCULATE.RCA_Calculate_1 as RCA_calculate\n",
    "import URI.CALCULATE.URI_Calculate_1 as URI_Calculate\n",
    "import URI.CALCULATE.ALL_Calculate_1 as ALL_Calculate\n",
    "import URI.CALCULATE.UPSCALE_Calculate_1 as UPSCALE_Calculate\n",
    "import URI.CALCULATE.ABS_Calculate_1 as ABS_Calculate\n",
    "import URI.CALCULATE.CSV_Calculate as CSV_Calculate\n",
    "utils.set_home()\n",
    "import warnings\n",
    "warnings.filterwarnings(action='ignore')\n",
    "\n",
    "#list hazards to run:\n",
    "# EXH: extreme heat\n",
    "# WIW: winter weather\n",
    "# CST: coastal storms\n",
    "# CER: coastal erosion\n",
    "# CYB: cyber threats\n",
    "# RES: respiratory diseases\n",
    "# EMG: emerging diseases\n",
    "# CRN: chemical, biological, radiological, and nuclear\n",
    "# HIW: high wind\n",
    "# ERQ: earthquake\n",
    "# FLD: flood\n",
    "\n",
    "list_haz = ['EXH', 'WIW', 'CST', 'CER', 'CYB', 'RES', 'EMG', 'CRN', 'HIW', 'ERQ', 'FLD']\n"
   ]
  },
  {
   "cell_type": "markdown",
   "metadata": {},
   "source": [
    "## Calculate ESL"
   ]
  },
  {
   "cell_type": "code",
   "execution_count": 2,
   "metadata": {
    "pycharm": {
     "is_executing": false,
     "name": "#%%\n"
    }
   },
   "outputs": [
    {
     "name": "stdout",
     "output_type": "stream",
     "text": [
      "Calculating ESL...\n",
      "\n",
      "Calculating EXH\n",
      ".....Importing EXH expected annual losses.....\n",
      " \n",
      "..........Factor:  Mortality\n",
      "..........Abbreviation:  D\n",
      "..........Receptor:  People\n",
      "..........Category:  Mortality Loss\n",
      " \n",
      "..........Factor:  Morbidity\n",
      "..........Abbreviation:  I\n",
      "..........Receptor:  People\n",
      "..........Category:  Morbidity Loss\n",
      " \n",
      "..........Factor:  Power Loss\n",
      "..........Abbreviation:  P\n",
      "..........Receptor:  People\n",
      "..........Category:  Indirect Cost\n",
      " \n",
      "Calculating WIW\n",
      ".....Importing WIW expected annual losses.....\n",
      " \n",
      "..........Factor:  Mortality\n",
      "..........Abbreviation:  D\n",
      "..........Receptor:  People\n",
      "..........Category:  Mortality Loss\n",
      " \n",
      "..........Factor:  Morbidity\n",
      "..........Abbreviation:  I\n",
      "..........Receptor:  People\n",
      "..........Category:  Morbidity Loss\n",
      " \n",
      "..........Factor:  Snow Removal\n",
      "..........Abbreviation:  S\n",
      "..........Receptor:  Land\n",
      "..........Category:  Response Cost\n",
      " \n",
      "..........Factor:  Tree Services\n",
      "..........Abbreviation:  R\n",
      "..........Receptor:  Land\n",
      "..........Category:  Response Cost\n",
      " \n",
      "..........Factor:  Power Loss\n",
      "..........Abbreviation:  P\n",
      "..........Receptor:  People\n",
      "..........Category:  Indirect Cost\n",
      " \n",
      "Calculating CST\n",
      ".....Importing CST expected annual losses.....\n",
      " \n",
      "..........Factor:  HIW Building Damage\n",
      "..........Abbreviation:  H\n",
      "..........Receptor:  Buildings\n",
      "..........Category:  Property Loss\n",
      " \n",
      "..........Factor:  Mortality\n",
      "..........Abbreviation:  D\n",
      "..........Receptor:  People\n",
      "..........Category:  Mortality Loss\n",
      " \n",
      "..........Factor:  Dislocation\n",
      "..........Abbreviation:  C\n",
      "..........Receptor:  People\n",
      "..........Category:  Indirect Cost\n",
      " \n",
      "..........Factor:  FLD Building Damage\n",
      "..........Abbreviation:  F\n",
      "..........Receptor:  Buildings\n",
      "..........Category:  Property Loss\n",
      " \n",
      "..........Factor:  DOT Losses\n",
      "..........Abbreviation:  B\n",
      "..........Receptor:  Land\n",
      "..........Category:  Response Cost\n",
      " \n",
      "..........Factor:  Tree Services\n",
      "..........Abbreviation:  R\n",
      "..........Receptor:  Land\n",
      "..........Category:  Response Cost\n",
      " \n",
      "..........Factor:  Power Loss\n",
      "..........Abbreviation:  P\n",
      "..........Receptor:  People\n",
      "..........Category:  Indirect Cost\n",
      " \n",
      "Calculating CER\n",
      ".....Importing CER expected annual losses.....\n",
      " \n",
      "..........Factor:  Ecosystem Loss\n",
      "..........Abbreviation:  E\n",
      "..........Receptor:  Land\n",
      "..........Category:  Environmental Loss\n",
      " \n",
      "Calculating CYB\n",
      ".....Importing CYB expected annual losses.....\n",
      " \n",
      "..........Factor:  Economic Loss\n",
      "..........Abbreviation:  E\n",
      "..........Receptor:  People\n",
      "..........Category:  Indirect Cost\n",
      " \n",
      "Calculating RES\n",
      ".....Importing RES expected annual losses.....\n",
      " \n",
      "..........Factor:  Mortality\n",
      "..........Abbreviation:  D\n",
      "..........Receptor:  People\n",
      "..........Category:  Mortality Loss\n",
      " \n",
      "..........Factor:  Morbidity\n",
      "..........Abbreviation:  I\n",
      "..........Receptor:  People\n",
      "..........Category:  Morbidity Loss\n",
      " \n",
      "..........Factor:  Lost Wages\n",
      "..........Abbreviation:  W\n",
      "..........Receptor:  People\n",
      "..........Category:  Indirect Cost\n",
      " \n",
      "..........Factor:  Economic Loss\n",
      "..........Abbreviation:  E\n",
      "..........Receptor:  People\n",
      "..........Category:  Indirect Cost\n",
      " \n",
      "Calculating EMG\n",
      ".....Importing EMG expected annual losses.....\n",
      " \n",
      "..........Factor:  Mortality\n",
      "..........Abbreviation:  D\n",
      "..........Receptor:  People\n",
      "..........Category:  Mortality Loss\n",
      " \n",
      "Calculating CRN\n",
      ".....Importing CRN expected annual losses.....\n",
      " \n",
      "..........Factor:  Mortality\n",
      "..........Abbreviation:  D\n",
      "..........Receptor:  People\n",
      "..........Category:  Mortality Loss\n",
      " \n",
      "..........Factor:  Morbidity\n",
      "..........Abbreviation:  I\n",
      "..........Receptor:  People\n",
      "..........Category:  Morbidity Loss\n",
      " \n",
      "Calculating HIW\n",
      ".....Importing HIW expected annual losses.....\n",
      " \n",
      "..........Factor:  HIW Building Damage\n",
      "..........Abbreviation:  H\n",
      "..........Receptor:  People\n",
      "..........Category:  Property Loss\n",
      " \n",
      "Calculating ERQ\n",
      ".....Importing ERQ expected annual losses.....\n",
      " \n",
      "..........Factor:  ERQ Building Damage\n",
      "..........Abbreviation:  B\n",
      "..........Receptor:  Buildings\n",
      "..........Category:  Property Loss\n",
      " \n",
      "Calculating FLD\n",
      ".....Importing FLD expected annual losses.....\n",
      " \n",
      "..........Factor:  Dislocation\n",
      "..........Abbreviation:  C\n",
      "..........Receptor:  People\n",
      "..........Category:  Indirect Cost\n",
      " \n",
      "..........Factor:  FLD Building Damage\n",
      "..........Abbreviation:  F\n",
      "..........Receptor:  Buildings\n",
      "..........Category:  Property Loss\n",
      " \n"
     ]
    }
   ],
   "source": [
    "print(\"Calculating ESL...\\n\")\n",
    "for haz in list_haz:\n",
    "    ESL_Calculate.calculate_ESL(haz)\n",
    "    "
   ]
  },
  {
   "cell_type": "markdown",
   "metadata": {},
   "source": [
    "## Calculate SOV"
   ]
  },
  {
   "cell_type": "code",
   "execution_count": 3,
   "metadata": {
    "pycharm": {
     "is_executing": false,
     "name": "#%%\n"
    }
   },
   "outputs": [
    {
     "name": "stdout",
     "output_type": "stream",
     "text": [
      "Calculating SOV....\n",
      "\n",
      "Finished calculating SOV score.\n"
     ]
    }
   ],
   "source": [
    "print(\"Calculating SOV....\\n\")\n",
    "SOV_Calculate.calculate_SOV()\n"
   ]
  },
  {
   "cell_type": "markdown",
   "metadata": {},
   "source": [
    "## Calculate RCA"
   ]
  },
  {
   "cell_type": "code",
   "execution_count": 4,
   "metadata": {
    "pycharm": {
     "is_executing": false,
     "name": "#%%\n"
    }
   },
   "outputs": [
    {
     "name": "stdout",
     "output_type": "stream",
     "text": [
      "Calculating RCA....\n",
      "\n",
      "Finished calculating RCA factor for EXH.\n",
      "Finished calculating RCA factor for WIW.\n",
      "Finished calculating RCA factor for CST.\n",
      "Finished calculating RCA factor for CER.\n",
      "Finished calculating RCA factor for CYB.\n",
      "Finished calculating RCA factor for RES.\n",
      "Finished calculating RCA factor for EMG.\n",
      "Finished calculating RCA factor for CRN.\n",
      "Finished calculating RCA factor for HIW.\n",
      "Finished calculating RCA factor for ERQ.\n",
      "Finished calculating RCA factor for FLD.\n"
     ]
    }
   ],
   "source": [
    "print(\"Calculating RCA....\\n\")\n",
    "for haz in list_haz:\n",
    "    RCA_calculate.calculate_RCA(haz)\n",
    "    "
   ]
  },
  {
   "cell_type": "markdown",
   "metadata": {},
   "source": [
    "## Calculate URI"
   ]
  },
  {
   "cell_type": "code",
   "execution_count": 5,
   "metadata": {
    "pycharm": {
     "is_executing": false,
     "name": "#%%\n"
    }
   },
   "outputs": [
    {
     "name": "stdout",
     "output_type": "stream",
     "text": [
      "Calculating URI....\n",
      "\n",
      "Calculating EXH\n",
      "Calculating WIW\n",
      "Calculating CST\n",
      "Calculating CER\n",
      "Calculating CYB\n",
      "Calculating RES\n",
      "Calculating EMG\n",
      "Calculating CRN\n",
      "Calculating HIW\n",
      "Calculating ERQ\n",
      "Calculating FLD\n"
     ]
    }
   ],
   "source": [
    "print(\"Calculating URI....\\n\")\n",
    "for haz in list_haz:\n",
    "    URI_Calculate.calculate_URI(haz)\n",
    "    "
   ]
  },
  {
   "cell_type": "markdown",
   "metadata": {},
   "source": [
    "## Calculate URI - All Hazards"
   ]
  },
  {
   "cell_type": "code",
   "execution_count": null,
   "metadata": {
    "pycharm": {
     "is_executing": false,
     "name": "#%%\n"
    }
   },
   "outputs": [
    {
     "name": "stdout",
     "output_type": "stream",
     "text": [
      "Calculating all-hazards URI....\n",
      "\n",
      "Deleted duplicate loss HIW Building Damage for hazard CST worth 339245713.8805442\n",
      "Deleted duplicate loss Dislocation for hazard CST worth 227560279.0726058\n",
      "Deleted duplicate loss FLD Building Damage for hazard CST worth 37089389.74146453\n"
     ]
    }
   ],
   "source": [
    "print(\"Calculating all-hazards URI....\\n\")\n",
    "ALL_Calculate.calculate_ALL(list_haz)\n"
   ]
  },
  {
   "cell_type": "markdown",
   "metadata": {},
   "source": [
    "## Calculate Upscaled Geographies"
   ]
  },
  {
   "cell_type": "code",
   "execution_count": null,
   "metadata": {
    "pycharm": {
     "is_executing": false,
     "name": "#%%\n"
    }
   },
   "outputs": [],
   "source": [
    "print(\"Calculating upscaled geographies....\\n\")\n",
    "for haz in list_haz:\n",
    "    UPSCALE_Calculate.calculate_UPSCALE(haz)\n",
    "    "
   ]
  },
  {
   "cell_type": "markdown",
   "metadata": {},
   "source": [
    "## Calculate URI - Absolute"
   ]
  },
  {
   "cell_type": "code",
   "execution_count": null,
   "metadata": {
    "pycharm": {
     "is_executing": false,
     "name": "#%%\n"
    }
   },
   "outputs": [],
   "source": [
    "print(\"Calculating absolute URI....\\n\")\n",
    "ABS_Calculate.calculate_ABS(list_haz)\n"
   ]
  },
  {
   "cell_type": "markdown",
   "metadata": {},
   "source": [
    "# Create Tables"
   ]
  },
  {
   "cell_type": "code",
   "execution_count": null,
   "metadata": {},
   "outputs": [
    {
     "name": "stdout",
     "output_type": "stream",
     "text": [
      "Creating tables URI....\n",
      "\n",
      "Tabulating csv for Citywide\n",
      "..........."
     ]
    }
   ],
   "source": [
    "print(\"Creating tables URI....\\n\")\n",
    "list_geographies = ['CITYWIDE', 'BOROCODE']\n",
    "path_output = params.PATHNAMES.at['TBL_output_csv', 'Value']\n",
    "CSV_Calculate.calculate_csv(list_geographies, path_output)\n"
   ]
  },
  {
   "cell_type": "code",
   "execution_count": null,
   "metadata": {},
   "outputs": [],
   "source": []
  }
 ],
 "metadata": {
  "kernelspec": {
   "display_name": "Python 3",
   "language": "python",
   "name": "python3"
  },
  "language_info": {
   "codemirror_mode": {
    "name": "ipython",
    "version": 3
   },
   "file_extension": ".py",
   "mimetype": "text/x-python",
   "name": "python",
   "nbconvert_exporter": "python",
   "pygments_lexer": "ipython3",
   "version": "3.7.7"
  },
  "pycharm": {
   "stem_cell": {
    "cell_type": "raw",
    "metadata": {
     "collapsed": false
    },
    "source": []
   }
  }
 },
 "nbformat": 4,
 "nbformat_minor": 1
}

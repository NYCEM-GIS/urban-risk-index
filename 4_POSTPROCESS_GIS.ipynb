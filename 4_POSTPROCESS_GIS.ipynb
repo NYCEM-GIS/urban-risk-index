{
 "cells": [
  {
   "cell_type": "markdown",
   "metadata": {},
   "source": [
    "## Run GIS File\n",
    "\n",
    "This notebook is a wrapper around the POST_PROCESSING/clean_fields.py file to add domains and alias names for use in the ESRI dashboard. Ensure the Kernel is pointing to the cloned arcpy environment before running."
   ]
  },
  {
   "cell_type": "code",
   "execution_count": 3,
   "metadata": {},
   "outputs": [
    {
     "name": "stdout",
     "output_type": "stream",
     "text": [
      "12:24 Cleaning  fields...\n",
      "Creating Geodatabase with domain...\n",
      "Renaming fields with aliases and converting to integer fields...\n",
      "Applying domain to score fields...\n",
      "Done!\n",
      "12:26 Done!\n"
     ]
    }
   ],
   "source": [
    "import datetime\n",
    "import URI.PARAMS.path_names as PATHNAMES\n",
    "import os\n",
    "os.chdir(PATHNAMES.home)\n",
    "\n",
    "\n",
    "print(f\"{datetime.datetime.now().strftime('%H:%M')} Cleaning  fields...\")\n",
    "%run ./4_CODE/URI/POST_PROCESSING/clean_fields.py\n",
    "print(f\"{datetime.datetime.now().strftime('%H:%M')} Done!\")"
   ]
  }
 ],
 "metadata": {
  "kernelspec": {
   "display_name": "Python 3",
   "language": "python",
   "name": "python3"
  },
  "language_info": {
   "codemirror_mode": {
    "name": "ipython",
    "version": 3
   },
   "file_extension": ".py",
   "mimetype": "text/x-python",
   "name": "python",
   "nbconvert_exporter": "python",
   "pygments_lexer": "ipython3",
   "version": "3.11.8"
  }
 },
 "nbformat": 4,
 "nbformat_minor": 2
}

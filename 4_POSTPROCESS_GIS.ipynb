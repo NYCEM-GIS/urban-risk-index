{
 "cells": [
  {
   "cell_type": "markdown",
   "metadata": {},
   "source": [
    "## Run GIS File\n",
    "\n",
    "This notebook is a wrapper around the POST_PROCESSING/clean_fields.py file to add domains and alias names for use in the ESRI dashboard. Ensure the Kernel is pointing to the cloned arcpy environment before running."
   ]
  },
  {
   "cell_type": "code",
   "execution_count": null,
   "metadata": {},
   "outputs": [],
   "source": [
    "import datetime\n",
    "\n",
    "print(f\"{datetime.datetime.now().strftime('%H:%M')} Cleaning  fields...\")\n",
    "%run ./4_CODE/URI/POST_PROCESSING/clean_fields.py\n",
    "print(f\"{datetime.datetime.now().strftime('%H:%M')} Done!\")"
   ]
  }
 ],
 "metadata": {
  "kernelspec": {
   "display_name": ".venv",
   "language": "python",
   "name": "python3"
  },
  "language_info": {
   "codemirror_mode": {
    "name": "ipython",
    "version": 3
   },
   "file_extension": ".py",
   "mimetype": "text/x-python",
   "name": "python",
   "nbconvert_exporter": "python",
   "pygments_lexer": "ipython3",
   "version": "3.11.4"
  }
 },
 "nbformat": 4,
 "nbformat_minor": 2
}

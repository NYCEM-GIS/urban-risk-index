{
 "cells": [
  {
   "cell_type": "markdown",
   "metadata": {},
   "source": [
    "# Run all Hazards\n",
    "This notebook runs the jupyter notebook for all 11 hazards."
   ]
  },
  {
   "cell_type": "markdown",
   "metadata": {},
   "source": [
    "## Import Packages"
   ]
  },
  {
   "cell_type": "code",
   "execution_count": 1,
   "metadata": {
    "pycharm": {
     "is_executing": false,
     "name": "#%%\n"
    }
   },
   "outputs": [
    {
     "ename": "ModuleNotFoundError",
     "evalue": "No module named 'MISC'",
     "output_type": "error",
     "traceback": [
      "\u001b[1;31m---------------------------------------------------------------------------\u001b[0m",
      "\u001b[1;31mModuleNotFoundError\u001b[0m                       Traceback (most recent call last)",
      "\u001b[1;32m<ipython-input-1-5c410988c17b>\u001b[0m in \u001b[0;36m<module>\u001b[1;34m\u001b[0m\n\u001b[1;32m----> 1\u001b[1;33m \u001b[1;32mfrom\u001b[0m \u001b[0mMISC\u001b[0m \u001b[1;32mimport\u001b[0m \u001b[0mutils_1\u001b[0m \u001b[1;32mas\u001b[0m \u001b[0mutils\u001b[0m\u001b[1;33m\u001b[0m\u001b[1;33m\u001b[0m\u001b[0m\n\u001b[0m\u001b[0;32m      2\u001b[0m \u001b[1;32mfrom\u001b[0m \u001b[0mMISC\u001b[0m \u001b[1;32mimport\u001b[0m \u001b[0mparams_1\u001b[0m \u001b[1;32mas\u001b[0m \u001b[0mparams\u001b[0m\u001b[1;33m\u001b[0m\u001b[1;33m\u001b[0m\u001b[0m\n\u001b[0;32m      3\u001b[0m \u001b[1;32mfrom\u001b[0m \u001b[0mCALCULATE\u001b[0m \u001b[1;32mimport\u001b[0m \u001b[0mESL_Calculate_1\u001b[0m \u001b[1;32mas\u001b[0m \u001b[0mESL_Calculate\u001b[0m\u001b[1;33m\u001b[0m\u001b[1;33m\u001b[0m\u001b[0m\n\u001b[0;32m      4\u001b[0m \u001b[1;32mfrom\u001b[0m \u001b[0mCALCULATE\u001b[0m \u001b[1;32mimport\u001b[0m \u001b[0mSOV_Calculate_1\u001b[0m \u001b[1;32mas\u001b[0m \u001b[0mSOV_Calculate\u001b[0m\u001b[1;33m\u001b[0m\u001b[1;33m\u001b[0m\u001b[0m\n\u001b[0;32m      5\u001b[0m \u001b[1;32mfrom\u001b[0m \u001b[0mCALCULATE\u001b[0m \u001b[1;32mimport\u001b[0m \u001b[0mRCA_Calculate_1\u001b[0m \u001b[1;32mas\u001b[0m \u001b[0mRCA_calculate\u001b[0m\u001b[1;33m\u001b[0m\u001b[1;33m\u001b[0m\u001b[0m\n",
      "\u001b[1;31mModuleNotFoundError\u001b[0m: No module named 'MISC'"
     ]
    }
   ],
   "source": [
    "import URI.MISC.utils_1 as utils\n",
    "import URI.MISC.params_1 as params\n",
    "from CALCULATE import ESL_Calculate_1 as ESL_Calculate\n",
    "from CALCULATE import SOV_Calculate_1 as SOV_Calculate\n",
    "from CALCULATE import RCA_Calculate_1 as RCA_calculate\n",
    "from CALCULATE import URI_Calculate_1 as URI_Calculate\n",
    "from CALCULATE import ALL_Calculate_1 as ALL_Calculate\n",
    "from CALCULATE import UPSCALE_Calculate_1 as UPSCALE_Calculate\n",
    "from CALCULATE import ABS_Calculate_1 as ABS_Calculate\n",
    "utils.set_home()\n",
    "import warnings\n",
    "warnings.filterwarnings(action='once')\n",
    "\n",
    "%load_ext autoreload\n",
    "%autoreload 2"
   ]
  },
  {
   "cell_type": "markdown",
   "metadata": {
    "pycharm": {
     "name": "#%% md\n"
    }
   },
   "source": [
    "## Run Settings"
   ]
  },
  {
   "cell_type": "code",
   "execution_count": 2,
   "metadata": {
    "pycharm": {
     "is_executing": false,
     "name": "#%%\n"
    }
   },
   "outputs": [
    {
     "data": {
      "text/plain": [
       "['EXH', 'WIW', 'CST', 'CER', 'CYB', 'RES', 'EMG', 'CRN', 'HIW', 'ERQ', 'FLD']"
      ]
     },
     "execution_count": 2,
     "metadata": {},
     "output_type": "execute_result"
    }
   ],
   "source": [
    "folder_outputs = params.PATHNAMES.at['OUTPUTS_folder', 'Value']\n",
    "list_haz = params.ABBREVIATIONS.iloc[0:11, 0].values.tolist()\n",
    "list_haz = list_haz\n",
    "list_haz"
   ]
  },
  {
   "cell_type": "markdown",
   "metadata": {},
   "source": [
    "## Calculate ESL"
   ]
  },
  {
   "cell_type": "code",
   "execution_count": 3,
   "metadata": {
    "pycharm": {
     "is_executing": false,
     "name": "#%%\n"
    }
   },
   "outputs": [
    {
     "name": "stdout",
     "output_type": "stream",
     "text": [
      "Calculating ESL....\n",
      "Calculating EXH\n",
      ".....Importing EXH expected annual losses.....\n",
      " \n",
      "..........Factor:  Mortality\n",
      "..........Abbreviation:  D\n",
      "..........Receptor:  People\n",
      "..........Category:  Mortality Loss\n",
      " \n",
      "..........Factor:  Morbidity\n",
      "..........Abbreviation:  I\n",
      "..........Receptor:  People\n",
      "..........Category:  Morbidity Loss\n",
      " \n",
      "..........Factor:  Power Loss\n",
      "..........Abbreviation:  P\n",
      "..........Receptor:  People\n",
      "..........Category:  Indirect Cost\n",
      " \n",
      "Calculating WIW\n",
      ".....Importing WIW expected annual losses.....\n",
      " \n",
      "..........Factor:  Mortality\n",
      "..........Abbreviation:  D\n",
      "..........Receptor:  People\n",
      "..........Category:  Mortality Loss\n",
      " \n",
      "..........Factor:  Morbidity\n",
      "..........Abbreviation:  I\n",
      "..........Receptor:  People\n",
      "..........Category:  Morbidity Loss\n",
      " \n",
      "..........Factor:  Snow Removal\n",
      "..........Abbreviation:  S\n",
      "..........Receptor:  Land\n",
      "..........Category:  Response Cost\n",
      " \n",
      "..........Factor:  Tree Services\n",
      "..........Abbreviation:  R\n",
      "..........Receptor:  Land\n",
      "..........Category:  Response Cost\n",
      " \n",
      "..........Factor:  Power Loss\n",
      "..........Abbreviation:  P\n",
      "..........Receptor:  People\n",
      "..........Category:  Indirect Cost\n",
      " \n",
      "Calculating CST\n",
      ".....Importing CST expected annual losses.....\n",
      " \n",
      "..........Factor:  HIW Building Damage\n",
      "..........Abbreviation:  H\n",
      "..........Receptor:  Buildings\n",
      "..........Category:  Property Loss\n",
      " \n",
      "..........Factor:  Mortality\n",
      "..........Abbreviation:  D\n",
      "..........Receptor:  People\n",
      "..........Category:  Mortality Loss\n",
      " \n",
      "..........Factor:  Dislocation\n",
      "..........Abbreviation:  C\n",
      "..........Receptor:  People\n",
      "..........Category:  Indirect Cost\n",
      " \n",
      "..........Factor:  FLD Building Damage\n",
      "..........Abbreviation:  F\n",
      "..........Receptor:  Buildings\n",
      "..........Category:  Property Loss\n",
      " \n",
      "..........Factor:  DOT Losses\n",
      "..........Abbreviation:  B\n",
      "..........Receptor:  Land\n",
      "..........Category:  Response Cost\n",
      " \n",
      "..........Factor:  Tree Services\n",
      "..........Abbreviation:  R\n",
      "..........Receptor:  Land\n",
      "..........Category:  Response Cost\n",
      " \n",
      "..........Factor:  Power Loss\n",
      "..........Abbreviation:  P\n",
      "..........Receptor:  People\n",
      "..........Category:  Indirect Cost\n",
      " \n",
      "Calculating CER\n",
      ".....Importing CER expected annual losses.....\n",
      " \n",
      "..........Factor:  Ecosystem Loss\n",
      "..........Abbreviation:  E\n",
      "..........Receptor:  Land\n",
      "..........Category:  Environmental Loss\n",
      " \n",
      "Calculating CYB\n",
      ".....Importing CYB expected annual losses.....\n",
      " \n",
      "..........Factor:  Economic Loss\n",
      "..........Abbreviation:  E\n",
      "..........Receptor:  People\n",
      "..........Category:  Indirect Cost\n",
      " \n",
      "Calculating RES\n",
      ".....Importing RES expected annual losses.....\n",
      " \n",
      "..........Factor:  Mortality\n",
      "..........Abbreviation:  D\n",
      "..........Receptor:  People\n",
      "..........Category:  Mortality Loss\n",
      " \n",
      "..........Factor:  Morbidity\n",
      "..........Abbreviation:  I\n",
      "..........Receptor:  People\n",
      "..........Category:  Morbidity Loss\n",
      " \n",
      "..........Factor:  Lost Wages\n",
      "..........Abbreviation:  W\n",
      "..........Receptor:  People\n",
      "..........Category:  Indirect Cost\n",
      " \n",
      "..........Factor:  Economic Loss\n",
      "..........Abbreviation:  E\n",
      "..........Receptor:  People\n",
      "..........Category:  Indirect Cost\n",
      " \n",
      "Calculating EMG\n",
      ".....Importing EMG expected annual losses.....\n",
      " \n",
      "..........Factor:  Mortality\n",
      "..........Abbreviation:  D\n",
      "..........Receptor:  People\n",
      "..........Category:  Mortality Loss\n",
      " \n",
      "Calculating CRN\n",
      ".....Importing CRN expected annual losses.....\n",
      " \n",
      "..........Factor:  Mortality\n",
      "..........Abbreviation:  D\n",
      "..........Receptor:  People\n",
      "..........Category:  Mortality Loss\n",
      " \n",
      "..........Factor:  Morbidity\n",
      "..........Abbreviation:  I\n",
      "..........Receptor:  People\n",
      "..........Category:  Morbidity Loss\n",
      " \n",
      "Calculating HIW\n",
      ".....Importing HIW expected annual losses.....\n",
      " \n",
      "..........Factor:  HIW Building Damage\n",
      "..........Abbreviation:  H\n",
      "..........Receptor:  People\n",
      "..........Category:  Property Loss\n",
      " \n",
      "Calculating ERQ\n",
      ".....Importing ERQ expected annual losses.....\n",
      " \n",
      "..........Factor:  ERQ Building Damage\n",
      "..........Abbreviation:  B\n",
      "..........Receptor:  Buildings\n",
      "..........Category:  Property Loss\n",
      " \n",
      "Calculating FLD\n",
      ".....Importing FLD expected annual losses.....\n",
      " \n",
      "..........Factor:  Dislocation\n",
      "..........Abbreviation:  C\n",
      "..........Receptor:  People\n",
      "..........Category:  Indirect Cost\n",
      " \n",
      "..........Factor:  FLD Building Damage\n",
      "..........Abbreviation:  F\n",
      "..........Receptor:  Buildings\n",
      "..........Category:  Property Loss\n",
      " \n"
     ]
    }
   ],
   "source": [
    "print(\"Calculating ESL....\")\n",
    "for haz in list_haz:\n",
    "    ESL_Calculate.calculate_ESL(haz)\n",
    "    "
   ]
  },
  {
   "cell_type": "markdown",
   "metadata": {},
   "source": [
    "## Calculate SOV"
   ]
  },
  {
   "cell_type": "code",
   "execution_count": 4,
   "metadata": {
    "pycharm": {
     "is_executing": false,
     "name": "#%%\n"
    }
   },
   "outputs": [
    {
     "name": "stdout",
     "output_type": "stream",
     "text": [
      "Calculating SOV....\n",
      "Finished calculating SOV score.\n"
     ]
    },
    {
     "name": "stderr",
     "output_type": "stream",
     "text": [
      "c:\\programdata\\anaconda3\\envs\\geo-env\\lib\\site-packages\\xlrd\\xlsx.py:266: PendingDeprecationWarning: This method will be removed in future versions.  Use 'tree.iter()' or 'list(tree.iter())' instead.\n",
      "  for elem in self.tree.iter() if Element_has_iter else self.tree.getiterator():\n"
     ]
    }
   ],
   "source": [
    "print(\"Calculating SOV....\")\n",
    "SOV_Calculate.calculate_SOV()"
   ]
  },
  {
   "cell_type": "markdown",
   "metadata": {},
   "source": [
    "## Calculate RCA"
   ]
  },
  {
   "cell_type": "code",
   "execution_count": 5,
   "metadata": {
    "pycharm": {
     "is_executing": false,
     "name": "#%%\n"
    }
   },
   "outputs": [
    {
     "name": "stdout",
     "output_type": "stream",
     "text": [
      "Calculating RCA....\n",
      "Finished calculating RCA factor for EXH.\n",
      "Finished calculating RCA factor for WIW.\n",
      "Finished calculating RCA factor for CST.\n",
      "Finished calculating RCA factor for CER.\n",
      "Finished calculating RCA factor for CYB.\n",
      "Finished calculating RCA factor for RES.\n",
      "Finished calculating RCA factor for EMG.\n",
      "Finished calculating RCA factor for CRN.\n",
      "Finished calculating RCA factor for HIW.\n",
      "Finished calculating RCA factor for ERQ.\n",
      "Finished calculating RCA factor for FLD.\n"
     ]
    }
   ],
   "source": [
    "print(\"Calculating RCA....\")\n",
    "for haz in list_haz:\n",
    "    RCA_calculate.calculate_RCA(haz)"
   ]
  },
  {
   "cell_type": "markdown",
   "metadata": {},
   "source": [
    "## Calculate URI"
   ]
  },
  {
   "cell_type": "code",
   "execution_count": 6,
   "metadata": {
    "pycharm": {
     "is_executing": false,
     "name": "#%%\n"
    }
   },
   "outputs": [
    {
     "name": "stdout",
     "output_type": "stream",
     "text": [
      "Calculating URI....\n",
      "Calculating EXH\n",
      "Calculating WIW\n",
      "Calculating CST\n",
      "Calculating CER\n",
      "Calculating CYB\n",
      "Calculating RES\n",
      "Calculating EMG\n",
      "Calculating CRN\n",
      "Calculating HIW\n",
      "Calculating ERQ\n",
      "Calculating FLD\n"
     ]
    }
   ],
   "source": [
    "print(\"Calculating URI....\")\n",
    "for haz in list_haz:\n",
    "    URI_Calculate.calculate_URI(haz)"
   ]
  },
  {
   "cell_type": "markdown",
   "metadata": {},
   "source": [
    "## Calculate All Hazards URI"
   ]
  },
  {
   "cell_type": "code",
   "execution_count": 7,
   "metadata": {
    "pycharm": {
     "is_executing": false,
     "name": "#%%\n"
    }
   },
   "outputs": [
    {
     "name": "stdout",
     "output_type": "stream",
     "text": [
      "Calculating all-hazards URI....\n",
      "Deleted duplicate loss HIW Building Damage for hazard CST worth 339245713.8805442\n",
      "Deleted duplicate loss Dislocation for hazard CST worth 227560279.0726058\n",
      "Deleted duplicate loss FLD Building Damage for hazard CST worth 37089389.74146453\n"
     ]
    }
   ],
   "source": [
    "print(\"Calculating all-hazards URI....\")\n",
    "ALL_Calculate.calculate_ALL(list_haz)"
   ]
  },
  {
   "cell_type": "markdown",
   "metadata": {},
   "source": [
    "## Calculate Upscaled Geographies"
   ]
  },
  {
   "cell_type": "code",
   "execution_count": 8,
   "metadata": {
    "pycharm": {
     "is_executing": false,
     "name": "#%%\n"
    }
   },
   "outputs": [
    {
     "name": "stdout",
     "output_type": "stream",
     "text": [
      "Calculating upscaled geographies....\n",
      "Upscaling EXH.....CITYWIDE Borough PUMA NTA Done.\n",
      "Upscaling WIW.....CITYWIDE Borough PUMA NTA Done.\n",
      "Upscaling CST.....CITYWIDE Borough PUMA NTA Done.\n",
      "Upscaling CER.....CITYWIDE Borough PUMA NTA Done.\n",
      "Upscaling CYB.....CITYWIDE Borough PUMA NTA Done.\n",
      "Upscaling RES.....CITYWIDE Borough PUMA NTA Done.\n",
      "Upscaling EMG.....CITYWIDE Borough PUMA NTA Done.\n",
      "Upscaling CRN.....CITYWIDE Borough PUMA NTA Done.\n",
      "Upscaling HIW.....CITYWIDE Borough PUMA NTA Done.\n",
      "Upscaling ERQ.....CITYWIDE Borough PUMA NTA Done.\n",
      "Upscaling FLD.....CITYWIDE Borough PUMA NTA Done.\n"
     ]
    }
   ],
   "source": [
    "print(\"Calculating upscaled geographies....\")\n",
    "for haz in list_haz:\n",
    "    UPSCALE_Calculate.calculate_UPSCALE(haz)"
   ]
  },
  {
   "cell_type": "markdown",
   "metadata": {},
   "source": [
    "## Calculate Absolute URI"
   ]
  },
  {
   "cell_type": "code",
   "execution_count": 9,
   "metadata": {
    "pycharm": {
     "is_executing": false,
     "name": "#%%\n"
    }
   },
   "outputs": [
    {
     "name": "stdout",
     "output_type": "stream",
     "text": [
      "Calculating absolute URI....\n",
      "Borough PUMA NTA Tract "
     ]
    }
   ],
   "source": [
    "print(\"Calculating absolute URI....\")\n",
    "ABS_Calculate.calculate_ABS(list_haz)"
   ]
  }
 ],
 "metadata": {
  "kernelspec": {
   "display_name": "Python 3",
   "language": "python",
   "name": "python3"
  },
  "language_info": {
   "codemirror_mode": {
    "name": "ipython",
    "version": 3
   },
   "file_extension": ".py",
   "mimetype": "text/x-python",
   "name": "python",
   "nbconvert_exporter": "python",
   "pygments_lexer": "ipython3",
   "version": "3.7.7"
  },
  "pycharm": {
   "stem_cell": {
    "cell_type": "raw",
    "metadata": {
     "collapsed": false
    },
    "source": []
   }
  }
 },
 "nbformat": 4,
 "nbformat_minor": 1
}

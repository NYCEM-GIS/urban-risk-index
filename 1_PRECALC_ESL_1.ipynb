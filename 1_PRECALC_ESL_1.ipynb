{
 "cells": [
  {
   "cell_type": "markdown",
   "metadata": {
    "collapsed": true,
    "pycharm": {
     "name": "#%% md\n"
    }
   },
   "source": [
    "# Preprocessing - Estimated Annual Loss"
   ]
  },
  {
   "cell_type": "markdown",
   "metadata": {},
   "source": [
    "## Settings"
   ]
  },
  {
   "cell_type": "code",
   "execution_count": 10,
   "metadata": {},
   "outputs": [],
   "source": [
    "import URI.MISC.utils_1 as utils\n",
    "import URI.PARAMS.params as params\n",
    "utils.set_home()\n",
    "import warnings\n",
    "import datetime\n",
    "import os\n",
    "warnings.filterwarnings(action='ignore')\n",
    "warnings.simplefilter(action='ignore', category=FutureWarning)\n",
    "\n",
    "#define hazards to run\n",
    "run_all = True\n",
    "\n",
    "run_CER = True          # coastal erosion\n",
    "run_CRN = True          # chemical, biological, radiological, nuclear\n",
    "run_CST = True          # coastal storms, flooding, and high winds (grouped)\n",
    "run_CYB = True          # cyber threat\n",
    "run_EMG = True          # emerging diseases\n",
    "run_ERQ = True          # earthquake\n",
    "run_EXH = True          # extreme heat\n",
    "run_RES = True          # respiratory disease\n",
    "run_WIW = True          # winter weather\n",
    "run_normalize = True    # normalization factors (not a hazard, but needs to be run!)"
   ]
  },
  {
   "cell_type": "markdown",
   "metadata": {},
   "source": [
    "## 1. Coastal Erosion"
   ]
  },
  {
   "cell_type": "code",
   "execution_count": 27,
   "metadata": {
    "pycharm": {
     "is_executing": false,
     "name": "#%%\n"
    }
   },
   "outputs": [
    {
     "name": "stdout",
     "output_type": "stream",
     "text": [
      "15:13 Pre-processing CER ecosystem loss.....\n"
     ]
    },
    {
     "name": "stdout",
     "output_type": "stream",
     "text": [
      "Finished calculating CER ecosystem loss.\n"
     ]
    }
   ],
   "source": [
    "if (run_all or run_CER):\n",
    "    \n",
    "    print(\"{} Pre-processing CER ecosystem loss.....\".format(datetime.datetime.now().strftime(\"%H:%M\")))\n",
    "    %run ./4_CODE/URI/DATA_PROCESSING/ESL_CER_ecosystem_loss_1.py"
   ]
  },
  {
   "cell_type": "markdown",
   "metadata": {
    "pycharm": {
     "name": "#%% md\n"
    }
   },
   "source": [
    "## 2. Chemical, Biological, Radiological, and Nuclear"
   ]
  },
  {
   "cell_type": "code",
   "execution_count": 28,
   "metadata": {
    "pycharm": {
     "is_executing": false,
     "name": "#%%\n"
    }
   },
   "outputs": [
    {
     "name": "stdout",
     "output_type": "stream",
     "text": [
      "15:13 Pre-processing CRN death loss.....\n"
     ]
    },
    {
     "metadata": {},
     "output_type": "display_data"
    },
    {
     "name": "stdout",
     "output_type": "stream",
     "text": [
      "Finished calculating CRN loss due to deaths.\n",
      "15:13 Pre-processing CRN injury loss.....\n"
     ]
    },
    {
     "metadata": {},
     "output_type": "display_data"
    },
    {
     "name": "stdout",
     "output_type": "stream",
     "text": [
      "Finished calculating CRN loss due to injury.\n"
     ]
    }
   ],
   "source": [
    "if (run_all or run_CRN):\n",
    "\n",
    "    print(\"{} Pre-processing CRN death loss.....\".format(datetime.datetime.now().strftime(\"%H:%M\")))\n",
    "    %run ./4_CODE/URI/DATA_PROCESSING/ESL_CRN_death_loss_1.py\n",
    "\n",
    "    print(\"{} Pre-processing CRN injury loss.....\".format(datetime.datetime.now().strftime(\"%H:%M\")))\n",
    "    %run ./4_CODE/URI/DATA_PROCESSING/ESL_CRN_injury_loss_1.py\n"
   ]
  },
  {
   "cell_type": "markdown",
   "metadata": {},
   "source": [
    "## 3. Coastal Storms, Flooding, and High Winds"
   ]
  },
  {
   "cell_type": "code",
   "execution_count": 29,
   "metadata": {
    "pycharm": {
     "is_executing": true,
     "name": "#%%\n"
    }
   },
   "outputs": [
    {
     "name": "stdout",
     "output_type": "stream",
     "text": [
      "15:13 Pre-processing FLD/CST flood property loss.....\n"
     ]
    },
    {
     "name": "stdout",
     "output_type": "stream",
     "text": [
      "Finished calculating FLD Hazus loss.\n",
      "15:13 Pre-processing CST/HIW wind damage loss loss.....\n"
     ]
    },

    {
     "name": "stdout",
     "output_type": "stream",
     "text": [
      "Finished calculating CST Hazus loss.\n",
      "15:13 Pre-processing CST death loss.....\n",
      "Finished calculating CST death loss.\n",
      "15:10 Pre-processing CST/FLD flooding dislocation loss.....\n"
     ]
    },
    {
     "name": "stdout",
     "output_type": "stream",
     "text": [
      "Finished calculating CST dislocation Loss.\n",
      "15:16 Pre-processing CST infrastructure repair loss.....\n"
     ]
    },
    {
     "name": "stdout",
     "output_type": "stream",
     "text": [
      "Finished calculating CST DOT loss.\n",
      "15:16 Pre-processing CST tree service loss.....\n"
     ]
    },
    {
     "name": "stdout",
     "output_type": "stream",
     "text": [
      "Finished calculating CST Hazus loss.\n",
      "15:15 Pre-processing CST tree service loss.....\n"
     ]
    },
    {
     "name": "stdout",
     "output_type": "stream",
     "text": [
      "Finished calculating CST loss due to tree servicing.\n"
     ]
    }
   ],
   "source": [
    "if (run_all or run_CST):\n",
    "    \n",
    "    print(\"{} Pre-processing FLD/CST flood property loss.....\".format(datetime.datetime.now().strftime(\"%H:%M\")))\n",
    "    %run ./4_CODE/URI/DATA_PROCESSING/ESL_FLD_hazus_loss_1.py\n",
    "\n",
    "    print(\"{} Pre-processing CST/HIW wind damage loss loss.....\".format(datetime.datetime.now().strftime(\"%H:%M\")))\n",
    "    %run ./4_CODE/URI/DATA_PROCESSING/ESL_CST_hazus_loss_1.py\n",
    "\n",
    "    print(\"{} Pre-processing CST death loss.....\".format(datetime.datetime.now().strftime(\"%H:%M\")))\n",
    "    %run ./4_CODE/URI/DATA_PROCESSING/ESL_CST_death_loss_1.py\n",
    "\n",
    "    print(\"{} Pre-processing CST/FLD flooding dislocation loss.....\".format(datetime.datetime.now().strftime(\"%H:%M\")))\n",
    "    %run ./4_CODE/URI/DATA_PROCESSING/ESL_CST_dislocation_loss_1.py\n",
    "\n",
    "    print(\"{} Pre-processing CST infrastructure repair loss.....\".format(datetime.datetime.now().strftime(\"%H:%M\")))\n",
    "    %run ./4_CODE/URI/DATA_PROCESSING/ESL_CST_dot_loss_1.py\n",
    "\n",
    "    print(\"{} Pre-processing CST tree service loss.....\".format(datetime.datetime.now().strftime(\"%H:%M\")))\n",
    "    %run ./4_CODE/URI/DATA_PROCESSING/ESL_CST_tree_loss_1.py\n",
    "    "
   ]
  },
  {
   "cell_type": "markdown",
   "metadata": {},
   "source": [
    "## 4. Cyber Threat"
   ]
  },
  {
   "cell_type": "code",
   "execution_count": 30,
   "metadata": {
    "pycharm": {
     "is_executing": true,
     "name": "#%%\n"
    }
   },
   "outputs": [
    {
     "name": "stdout",
     "output_type": "stream",
     "text": [
      "15:18 Pre-processing CYB economic loss.....\n"
     ]
    },
    {
     "name": "stdout",
     "output_type": "stream",
     "text": [
      "Finished calculating CYB loss due to economic losses.\n"
     ]
    }
   ],
   "source": [
    "if (run_all or run_CYB):\n",
    "    \n",
    "    print(\"{} Pre-processing CYB economic loss.....\".format(datetime.datetime.now().strftime(\"%H:%M\")))\n",
    "    %run ./4_CODE/URI/DATA_PROCESSING/ESL_CYB_econ_loss_1.py\n"
   ]
  },
  {
   "cell_type": "markdown",
   "metadata": {},
   "source": [
    "## 5. Emerging Diseases"
   ]
  },
  {
   "cell_type": "code",
   "execution_count": 31,
   "metadata": {
    "pycharm": {
     "is_executing": true,
     "name": "#%%\n"
    }
   },
   "outputs": [
    {
     "name": "stdout",
     "output_type": "stream",
     "text": [
      "15:18 Pre-processing EMG death loss.....\n"
     ]
    },
    {
     "name": "stdout",
     "output_type": "stream",
     "text": [
      "Finished calculating EMG loss.\n"
     ]
    }
   ],
   "source": [
    "if (run_all or run_EMG):\n",
    "\n",
    "    print(\"{} Pre-processing EMG death loss.....\".format(datetime.datetime.now().strftime(\"%H:%M\")))\n",
    "    %run ./4_CODE/URI/DATA_PROCESSING/ESL_EMG_loss_1.py\n"
   ]
  },
  {
   "cell_type": "markdown",
   "metadata": {},
   "source": [
    "## 6. Earthquake"
   ]
  },
  {
   "cell_type": "code",
   "execution_count": 32,
   "metadata": {
    "pycharm": {
     "is_executing": true,
     "name": "#%%\n"
    }
   },
   "outputs": [
    {
     "name": "stdout",
     "output_type": "stream",
     "text": [
      "15:18 Pre-processing ERQ loss.....\n"
     ]
    },
    {
     "name": "stdout",
     "output_type": "stream",
     "text": [
      "Finished calculating ERQ Hazus loss.\n"
     ]
    }
   ],
   "source": [
    "if (run_all or run_ERQ):\n",
    "\n",
    "    print(\"{} Pre-processing ERQ loss.....\".format(datetime.datetime.now().strftime(\"%H:%M\")))\n",
    "    %run ./4_CODE/URI/DATA_PROCESSING/ESL_ERQ_hazus_loss_1.py\n",
    "    "
   ]
  },
  {
   "cell_type": "markdown",
   "metadata": {},
   "source": [
    "## 7. Extreme Heat"
   ]
  },
  {
   "cell_type": "code",
   "execution_count": 9,
   "metadata": {
    "pycharm": {
     "is_executing": true,
     "name": "#%%\n"
    }
   },
   "outputs": [
    {
     "name": "stdout",
     "output_type": "stream",
     "text": [
      "14:26 Pre-processing EXH death loss.....\n"
     ]
    },
    {
     "name": "stdout",
     "output_type": "stream",
     "text": [
      "Finished calculating EXH loss due to excess deaths.\n",
      "14:26 Pre-processing EXH injury loss.....\n"
     ]
    },
    {
     "name": "stdout",
     "output_type": "stream",
     "text": [
      "Finished calculating EXH injury loss.\n",
      "14:26 Pre-processing EXH power outage loss.....\n"
     ]
    },
    {
     "name": "stdout",
     "output_type": "stream",
     "text": [
      "Finished calculating ESL for extreme heat due to power outage.\n"
     ]
    }
   ],
   "source": [
    "if (run_all or run_EXH):\n",
    "    \n",
    "    print(\"{} Pre-processing EXH death loss.....\".format(datetime.datetime.now().strftime(\"%H:%M\")))\n",
    "    %run ./4_CODE/URI/DATA_PROCESSING/ESL_EXH_death_loss_1.py\n",
    "\n",
    "    print(\"{} Pre-processing EXH injury loss.....\".format(datetime.datetime.now().strftime(\"%H:%M\")))\n",
    "    %run ./4_CODE/URI/DATA_PROCESSING/ESL_EXH_injury_loss_1.py\n",
    "\n",
    "    print(\"{} Pre-processing EXH power outage loss.....\".format(datetime.datetime.now().strftime(\"%H:%M\")))\n",
    "    %run ./4_CODE/URI/DATA_PROCESSING/ESL_EXH_power_loss_1.py\n",
    "    "
   ]
  },
  {
   "cell_type": "markdown",
   "metadata": {},
   "source": [
    "## 8. Respiratory Diseases"
   ]
  },
  {
   "cell_type": "code",
   "execution_count": 34,
   "metadata": {
    "pycharm": {
     "is_executing": true,
     "name": "#%%\n"
    },
    "scrolled": true
   },
   "outputs": [
    {
     "name": "stdout",
     "output_type": "stream",
     "text": [
      "15:18 Pre-processing RES death and injury loss.....\n"
     ]
    },
     {
     "name": "stdout",
     "output_type": "stream",
     "text": [
      "Finished calculating RES loss.\n"
     ]
    }
   ],
   "source": [
    "if (run_all or run_RES):\n",
    "    \n",
    "    print(\"{} Pre-processing RES death and injury loss.....\".format(datetime.datetime.now().strftime(\"%H:%M\")))\n",
    "    %run ./4_CODE/URI/DATA_PROCESSING/ESL_RES_loss_1.py\n"
   ]
  },
  {
   "cell_type": "markdown",
   "metadata": {},
   "source": [
    "## 9. Winter Weather"
   ]
  },
  {
   "cell_type": "code",
   "execution_count": 35,
   "metadata": {
    "pycharm": {
     "is_executing": true,
     "name": "#%%\n"
    }
   },
   "outputs": [
    {
     "name": "stdout",
     "output_type": "stream",
     "text": [
      "15:18 Pre-processing WIW death loss.....\n"
     ]
    },

    {
     "name": "stdout",
     "output_type": "stream",
     "text": [
      "Finished calculating WIW death loss.\n",
      "15:18 Pre-processing WIW injury loss.....\n"
     ]
    },
    {
     "name": "stdout",
     "output_type": "stream",
     "text": [
      "Finished calculating WIW injury loss.\n",
      "15:19 Pre-processing WIW snow removal loss.....\n"
     ]
    },
    {
     "name": "stdout",
     "output_type": "stream",
     "text": [
      "Finished calculating  ESL WIW snow removal loss.\n",
      "15:19 Pre-processing WIW tree servicing loss.....\n"
     ]
    },
    {
     "name": "stdout",
     "output_type": "stream",
     "text": [
      "Finished calculating WIW loss due to tree servicing.\n"
     ]
    }
   ],
   "source": [
    "if (run_all or run_WIW):\n",
    "    \n",
    "    print(\"{} Pre-processing WIW death loss.....\".format(datetime.datetime.now().strftime(\"%H:%M\")))\n",
    "    %run ./4_CODE/URI/DATA_PROCESSING/ESL_WIW_death_loss_1.py\n",
    "\n",
    "    print(\"{} Pre-processing WIW injury loss.....\".format(datetime.datetime.now().strftime(\"%H:%M\")))\n",
    "    %run ./4_CODE/URI/DATA_PROCESSING/ESL_WIW_injury_loss_1.py\n",
    "\n",
    "    print(\"{} Pre-processing WIW snow removal loss.....\".format(datetime.datetime.now().strftime(\"%H:%M\")))\n",
    "    %run ./4_CODE/URI/DATA_PROCESSING/ESL_WIW_snow_loss_1.py\n",
    "\n",
    "    print(\"{} Pre-processing WIW tree servicing loss.....\".format(datetime.datetime.now().strftime(\"%H:%M\")))\n",
    "    %run ./4_CODE/URI/DATA_PROCESSING/ESL_WIW_tree_loss_1.py\n",
    "    "
   ]
  },
  {
   "cell_type": "code",
   "execution_count": 36,
   "metadata": {
    "pycharm": {
     "is_executing": true,
     "name": "#%%\n"
    }
   },
   "outputs": [
    {
     "name": "stdout",
     "output_type": "stream",
     "text": [
      "Complete\n"
     ]
    }
   ],
   "source": [
    "print(\"Complete\".format(datetime.datetime.now().strftime(\"%H:%M\")))\n"
   ]
  },
  {
   "cell_type": "markdown",
   "metadata": {},
   "source": [
    "## 10. Normalize Data"
   ]
  },
  {
   "cell_type": "code",
   "execution_count": 37,
   "metadata": {},
   "outputs": [
    {
     "name": "stdout",
     "output_type": "stream",
     "text": [
      "15:19 Pre-processing Normalization Factors.....\n"
     ]
    }
   ],
   "source": [
    "if (run_all or run_normalize):\n",
    "    \n",
    "    print(\"{} Pre-processing Normalization Factors.....\".format(datetime.datetime.now().strftime(\"%H:%M\")))\n",
    "    %run ./4_CODE/URI/MISC/write_normalization_vars_1.py\n"
   ]
  }
 ],
 "metadata": {
  "kernelspec": {
   "display_name": ".venv",
   "language": "python",
   "name": "python3"
  },
  "language_info": {
   "codemirror_mode": {
    "name": "ipython",
    "version": 3
   },
   "file_extension": ".py",
   "mimetype": "text/x-python",
   "name": "python",
   "nbconvert_exporter": "python",
   "pygments_lexer": "ipython3",
   "version": "3.11.4"
  },
  "pycharm": {
   "stem_cell": {
    "cell_type": "raw",
    "metadata": {
     "collapsed": false
    },
    "source": []
   }
  }
 },
 "nbformat": 4,
 "nbformat_minor": 1
}
